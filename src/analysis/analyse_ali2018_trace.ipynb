{
 "cells": [
  {
   "cell_type": "markdown",
   "metadata": {
    "collapsed": true,
    "pycharm": {
     "name": "#%% md\n"
    }
   },
   "source": [
    "## Analysis of the unmodified data"
   ]
  },
  {
   "cell_type": "markdown",
   "metadata": {},
   "source": [
    "#### Imports"
   ]
  },
  {
   "cell_type": "code",
   "execution_count": 3,
   "metadata": {
    "pycharm": {
     "name": "#%%\n"
    }
   },
   "outputs": [],
   "source": [
    "from pyspark import SparkConf\n",
    "from pyspark.sql import SparkSession\n",
    "from pyspark import SparkContext\n",
    "from pyspark.sql import functions as F, types as T"
   ]
  },
  {
   "cell_type": "markdown",
   "metadata": {},
   "source": [
    "### Spark Setup"
   ]
  },
  {
   "cell_type": "code",
   "execution_count": 4,
   "metadata": {
    "pycharm": {
     "name": "#%%\n"
    }
   },
   "outputs": [
    {
     "name": "stderr",
     "output_type": "stream",
     "text": [
      "22/03/23 10:27:43 WARN SparkContext: Another SparkContext is being constructed (or threw an exception in its constructor). This may indicate an error, since only one SparkContext should be running in this JVM (see SPARK-2243). The other SparkContext was created at:\n",
      "org.apache.spark.api.java.JavaSparkContext.<init>(JavaSparkContext.scala:58)\n",
      "java.base/jdk.internal.reflect.NativeConstructorAccessorImpl.newInstance0(Native Method)\n",
      "java.base/jdk.internal.reflect.NativeConstructorAccessorImpl.newInstance(NativeConstructorAccessorImpl.java:62)\n",
      "java.base/jdk.internal.reflect.DelegatingConstructorAccessorImpl.newInstance(DelegatingConstructorAccessorImpl.java:45)\n",
      "java.base/java.lang.reflect.Constructor.newInstance(Constructor.java:490)\n",
      "py4j.reflection.MethodInvoker.invoke(MethodInvoker.java:247)\n",
      "py4j.reflection.ReflectionEngine.invoke(ReflectionEngine.java:357)\n",
      "py4j.Gateway.invoke(Gateway.java:238)\n",
      "py4j.commands.ConstructorCommand.invokeConstructor(ConstructorCommand.java:80)\n",
      "py4j.commands.ConstructorCommand.execute(ConstructorCommand.java:69)\n",
      "py4j.ClientServerConnection.waitForCommands(ClientServerConnection.java:182)\n",
      "py4j.ClientServerConnection.run(ClientServerConnection.java:106)\n",
      "java.base/java.lang.Thread.run(Thread.java:829)\n"
     ]
    }
   ],
   "source": [
    "master = \"local[2]\"  # use 4 cores\n",
    "app_name = \"analyse Alibaba 2018 cluster trace\"\n",
    "config = SparkConf().setAll([\n",
    "    ('spark.driver.memory', '3g'),\n",
    "])\n",
    "\n",
    "seed = 77\n",
    "\n",
    "context = SparkContext(\n",
    "    master=master,\n",
    "    appName=app_name,\n",
    "    conf=config\n",
    ")\n",
    "context.setCheckpointDir(\"spark_checkpoints\")\n",
    "\n",
    "spark_session = SparkSession.builder\\\n",
    "    .master(master)\\\n",
    "    .appName(app_name)\\\n",
    "    .config(conf=config)\\\n",
    "    .getOrCreate()"
   ]
  },
  {
   "cell_type": "markdown",
   "metadata": {},
   "source": [
    "### Job Status Distribution"
   ]
  },
  {
   "cell_type": "code",
   "execution_count": 5,
   "metadata": {
    "pycharm": {
     "name": "#%%\n"
    }
   },
   "outputs": [],
   "source": [
    "batch_task_schema = T.StructType([\n",
    "    # task name indicates the DAG information, see the explanation of batch workloads\n",
    "    T.StructField(\"task_name\", T.StringType(), nullable=False),  # task name. unique within a job\n",
    "    # NOTE: tas_name doesn't change throughout different job executions\n",
    "    T.StructField(\"instance_num\", T.IntegerType(), nullable=True),  # number of instances for the task\n",
    "    T.StructField(\"job_name\", T.StringType(), nullable=True),\n",
    "    T.StructField(\"task_type\", T.IntegerType(), nullable=True),  # values 1-12, meaning unknown\n",
    "    # Task states includes Ready | Waiting | Running | Terminated | Failed | Cancelled\n",
    "    T.StructField(\"status\", T.StringType(), nullable=True), # task status\n",
    "    T.StructField(\"start_time\", T.LongType(), nullable=True),  # start time of the task (in seconds since the start of the trace (0))\n",
    "    T.StructField(\"end_time\", T.LongType(), nullable=True),  # end of time the task (in seconds since the start of the trace (0))\n",
    "    T.StructField(\"plan_cpu\", T.DoubleType(), nullable=True),  # number of cpu needed by the task, 100 is 1 core\n",
    "    T.StructField(\"plan_mem\", T.DoubleType(), nullable=False) # normalized memory size, [0, 100]\n",
    "])\n",
    "\n",
    "batch_task_path = \"../../data/alibaba_clusterdata_v2018/batch_task.tar.gz\"\n",
    "batch_task = spark_session.read.csv(path=batch_task_path,schema=batch_task_schema)"
   ]
  },
  {
   "cell_type": "code",
   "execution_count": 6,
   "metadata": {
    "pycharm": {
     "name": "#%%\n"
    }
   },
   "outputs": [],
   "source": [
    "#batch_task.groupby(\"status\").count().show()"
   ]
  },
  {
   "cell_type": "code",
   "execution_count": 7,
   "metadata": {
    "pycharm": {
     "name": "#%%\n"
    }
   },
   "outputs": [],
   "source": [
    "#batch_task.count()"
   ]
  },
  {
   "cell_type": "code",
   "execution_count": 8,
   "metadata": {
    "pycharm": {
     "name": "#%%\n"
    }
   },
   "outputs": [],
   "source": [
    "#batch_task.select(\"job_name\").distinct().count()"
   ]
  },
  {
   "cell_type": "code",
   "execution_count": 9,
   "metadata": {
    "pycharm": {
     "name": "#%%\n"
    }
   },
   "outputs": [],
   "source": [
    "#batch_task.select(\"job_name\", \"status\").distinct().groupby(\"status\").count().show()"
   ]
  },
  {
   "cell_type": "code",
   "execution_count": 10,
   "metadata": {
    "pycharm": {
     "name": "#%%\n"
    }
   },
   "outputs": [],
   "source": [
    "# termination rate\n",
    "termination_rate = 4127068 / 4201015"
   ]
  },
  {
   "cell_type": "code",
   "execution_count": 11,
   "metadata": {
    "pycharm": {
     "name": "#%%\n"
    }
   },
   "outputs": [],
   "source": [
    "# failure rate\n",
    "failure_rate = 83207 / 4201015"
   ]
  },
  {
   "cell_type": "code",
   "execution_count": 12,
   "metadata": {
    "pycharm": {
     "name": "#%%\n"
    }
   },
   "outputs": [],
   "source": [
    "# runnning and waiting\n",
    "run_wait_rate = (12537 + 49902) / 4201015"
   ]
  },
  {
   "cell_type": "code",
   "execution_count": 13,
   "metadata": {
    "pycharm": {
     "name": "#%%\n"
    }
   },
   "outputs": [
    {
     "data": {
      "text/plain": [
       "(0.9823978252874603, 0.019806403928574405, 0.014862836719221426)"
      ]
     },
     "execution_count": 13,
     "metadata": {},
     "output_type": "execute_result"
    }
   ],
   "source": [
    "termination_rate, failure_rate, run_wait_rate"
   ]
  },
  {
   "cell_type": "code",
   "execution_count": 14,
   "metadata": {
    "pycharm": {
     "name": "#%%\n"
    }
   },
   "outputs": [
    {
     "data": {
      "text/plain": [
       "1.017067065935256"
      ]
     },
     "execution_count": 14,
     "metadata": {},
     "output_type": "execute_result"
    }
   ],
   "source": [
    "sum([termination_rate, failure_rate, run_wait_rate])"
   ]
  },
  {
   "cell_type": "code",
   "execution_count": 15,
   "metadata": {
    "pycharm": {
     "name": "#%%\n"
    }
   },
   "outputs": [
    {
     "data": {
      "text/plain": [
       "101.69000000000001"
      ]
     },
     "execution_count": 15,
     "metadata": {},
     "output_type": "execute_result"
    }
   ],
   "source": [
    "# latex table number\n",
    "98.23+1.98+1.48"
   ]
  },
  {
   "cell_type": "markdown",
   "metadata": {},
   "source": [
    "### Job Failure Analysis"
   ]
  },
  {
   "cell_type": "markdown",
   "metadata": {},
   "source": [
    "### batch_fail\n",
    "- was cleaned on the cluster on 09.02.2022 using failed_instances.py"
   ]
  },
  {
   "cell_type": "code",
   "execution_count": 16,
   "metadata": {},
   "outputs": [
    {
     "name": "stderr",
     "output_type": "stream",
     "text": [
      "                                                                                \r"
     ]
    }
   ],
   "source": [
    "batch_fail_path = \"../../out/clean/batch_fail/*.csv.gz\"\n",
    "batch_fail = spark_session.read.csv(path=batch_fail_path,header=True, inferSchema=True)"
   ]
  },
  {
   "cell_type": "code",
   "execution_count": 17,
   "metadata": {},
   "outputs": [],
   "source": [
    "#batch_fail.count()"
   ]
  },
  {
   "cell_type": "code",
   "execution_count": 18,
   "metadata": {},
   "outputs": [
    {
     "data": {
      "text/plain": [
       "[('task_name', 'string'),\n",
       " ('job_name', 'string'),\n",
       " ('instance_name', 'string'),\n",
       " ('task_type_inst', 'int'),\n",
       " ('status_inst', 'string'),\n",
       " ('start_time_inst', 'int'),\n",
       " ('end_time_inst', 'int'),\n",
       " ('machine_id_inst', 'string'),\n",
       " ('seq_no_inst', 'int'),\n",
       " ('total_seq_no_inst', 'int'),\n",
       " ('cpu_avg_inst', 'double'),\n",
       " ('cpu_max_inst', 'double'),\n",
       " ('mem_avg_inst', 'double'),\n",
       " ('mem_max_inst', 'double'),\n",
       " ('instance_num', 'int'),\n",
       " ('task_type', 'int'),\n",
       " ('status', 'string'),\n",
       " ('start_time', 'int'),\n",
       " ('end_time', 'int'),\n",
       " ('plan_cpu', 'double'),\n",
       " ('plan_mem', 'double')]"
      ]
     },
     "execution_count": 18,
     "metadata": {},
     "output_type": "execute_result"
    }
   ],
   "source": [
    "batch_fail.dtypes"
   ]
  },
  {
   "cell_type": "code",
   "execution_count": 19,
   "metadata": {},
   "outputs": [
    {
     "data": {
      "text/plain": [
       "21"
      ]
     },
     "execution_count": 19,
     "metadata": {},
     "output_type": "execute_result"
    }
   ],
   "source": [
    "len(batch_fail.dtypes)"
   ]
  },
  {
   "cell_type": "markdown",
   "metadata": {},
   "source": [
    "### Matplotlib setup"
   ]
  },
  {
   "cell_type": "code",
   "execution_count": 20,
   "metadata": {},
   "outputs": [],
   "source": [
    "import numpy as np\n",
    "import pandas as pd\n",
    "import matplotlib as mpl\n",
    "import matplotlib.pyplot as plt\n",
    "mpl.style.use(\"seaborn\")"
   ]
  },
  {
   "cell_type": "markdown",
   "metadata": {},
   "source": [
    "### Data cleaning\n",
    "- scale resource columns and impute missing values"
   ]
  },
  {
   "cell_type": "code",
   "execution_count": 21,
   "metadata": {},
   "outputs": [
    {
     "name": "stderr",
     "output_type": "stream",
     "text": [
      "                                                                                \r"
     ]
    }
   ],
   "source": [
    "from pyspark.ml.feature import MinMaxScaler, Imputer, VectorAssembler\n",
    "from pyspark.ml import Pipeline\n",
    "\n",
    "res_cols = [\"plan_cpu\",\"cpu_avg_inst\", \"cpu_max_inst\", \"plan_mem\", \"mem_avg_inst\", \"mem_max_inst\"]\n",
    "\n",
    "# Imputer Transformatuon\n",
    "imputer = Imputer(inputCols=res_cols, outputCols=[i+\"_Imp\" for i in res_cols])\n",
    "\n",
    "# VectorAssembler Transformation - Converting column to vector type\n",
    "assembler = VectorAssembler(inputCols=imputer.getOutputCols(),outputCol=\"res_cols_vect\", handleInvalid=\"keep\")\n",
    "\n",
    "# MinMaxScaler Transformation\n",
    "scaler = MinMaxScaler(inputCol=\"res_cols_vect\", outputCol=\"res_cols_vect_scaled\")\n",
    "\n",
    "\n",
    "pipeline = Pipeline(stages=[imputer, assembler, scaler])\n",
    "\n",
    "# Fitting pipeline on dataframe\n",
    "batch_fail = pipeline.fit(batch_fail).transform(batch_fail)"
   ]
  },
  {
   "cell_type": "code",
   "execution_count": 22,
   "metadata": {},
   "outputs": [],
   "source": [
    "# dropping intermediate cols to reduce the dataset size\n",
    "for col in res_cols:\n",
    "    batch_fail = batch_fail.drop(col)\n",
    "for imp_col in imputer.getOutputCols():\n",
    "    batch_fail = batch_fail.drop(imp_col)\n",
    "batch_fail = batch_fail.drop(assembler.getOutputCol())"
   ]
  },
  {
   "cell_type": "code",
   "execution_count": 23,
   "metadata": {},
   "outputs": [],
   "source": [
    "# unwrap vector column to tabular format\n",
    "def split_array_to_list(col):\n",
    "    def to_list(v):\n",
    "        return v.toArray().tolist()\n",
    "    return F.udf(to_list, T.ArrayType(T.DoubleType()))(col)\n",
    "\n",
    "batch_fail = batch_fail.withColumn(\n",
    "    \"res_cols\", \n",
    "    split_array_to_list(F.col(\"res_cols_vect_scaled\"))\n",
    ").select(\n",
    "    F.col(\"task_type\"),\n",
    "    F.col(\"job_name\"),\n",
    "    F.col(\"task_name\"),\n",
    "    F.col(\"seq_no_inst\"),\n",
    "    F.col(\"task_type_inst\"),\n",
    "    F.col(\"instance_name\"),\n",
    "    F.col(\"total_seq_no_inst\"),\n",
    "    F.col(\"instance_num\"),\n",
    "    *[F.round(F.col(\"res_cols\")[i], 5).alias(j) for i, j in zip(range(len(res_cols)),res_cols)]\n",
    ")"
   ]
  },
  {
   "cell_type": "code",
   "execution_count": 24,
   "metadata": {},
   "outputs": [
    {
     "name": "stderr",
     "output_type": "stream",
     "text": [
      "                                                                                \r"
     ]
    }
   ],
   "source": [
    "# this barely fits in memory\n",
    "pdf = batch_fail.toPandas()"
   ]
  },
  {
   "cell_type": "code",
   "execution_count": 25,
   "metadata": {},
   "outputs": [],
   "source": [
    "#spark_session.stop()"
   ]
  },
  {
   "cell_type": "code",
   "execution_count": 26,
   "metadata": {},
   "outputs": [
    {
     "data": {
      "text/plain": [
       "task_type              int32\n",
       "job_name              object\n",
       "task_name             object\n",
       "seq_no_inst            int32\n",
       "task_type_inst         int32\n",
       "instance_name         object\n",
       "total_seq_no_inst      int32\n",
       "instance_num           int32\n",
       "plan_cpu             float64\n",
       "cpu_avg_inst         float64\n",
       "cpu_max_inst         float64\n",
       "plan_mem             float64\n",
       "mem_avg_inst         float64\n",
       "mem_max_inst         float64\n",
       "dtype: object"
      ]
     },
     "execution_count": 26,
     "metadata": {},
     "output_type": "execute_result"
    }
   ],
   "source": [
    "pdf.dtypes"
   ]
  },
  {
   "cell_type": "code",
   "execution_count": 27,
   "metadata": {},
   "outputs": [
    {
     "data": {
      "text/html": [
       "<div>\n",
       "<style scoped>\n",
       "    .dataframe tbody tr th:only-of-type {\n",
       "        vertical-align: middle;\n",
       "    }\n",
       "\n",
       "    .dataframe tbody tr th {\n",
       "        vertical-align: top;\n",
       "    }\n",
       "\n",
       "    .dataframe thead th {\n",
       "        text-align: right;\n",
       "    }\n",
       "</style>\n",
       "<table border=\"1\" class=\"dataframe\">\n",
       "  <thead>\n",
       "    <tr style=\"text-align: right;\">\n",
       "      <th></th>\n",
       "      <th>task_type</th>\n",
       "      <th>job_name</th>\n",
       "      <th>task_name</th>\n",
       "      <th>seq_no_inst</th>\n",
       "      <th>task_type_inst</th>\n",
       "      <th>instance_name</th>\n",
       "      <th>total_seq_no_inst</th>\n",
       "      <th>instance_num</th>\n",
       "      <th>plan_cpu</th>\n",
       "      <th>cpu_avg_inst</th>\n",
       "      <th>cpu_max_inst</th>\n",
       "      <th>plan_mem</th>\n",
       "      <th>mem_avg_inst</th>\n",
       "      <th>mem_max_inst</th>\n",
       "    </tr>\n",
       "  </thead>\n",
       "  <tbody>\n",
       "    <tr>\n",
       "      <th>0</th>\n",
       "      <td>1</td>\n",
       "      <td>j_872298</td>\n",
       "      <td>J10_1_2_3_7_8_9</td>\n",
       "      <td>1</td>\n",
       "      <td>1</td>\n",
       "      <td>ins_383543020</td>\n",
       "      <td>1</td>\n",
       "      <td>503</td>\n",
       "      <td>0.00000</td>\n",
       "      <td>0.18135</td>\n",
       "      <td>0.14809</td>\n",
       "      <td>0.04821</td>\n",
       "      <td>0.03784</td>\n",
       "      <td>0.08902</td>\n",
       "    </tr>\n",
       "    <tr>\n",
       "      <th>1</th>\n",
       "      <td>1</td>\n",
       "      <td>j_1850126</td>\n",
       "      <td>J12_2_3_5_6_8_11</td>\n",
       "      <td>1</td>\n",
       "      <td>1</td>\n",
       "      <td>ins_541816524</td>\n",
       "      <td>1</td>\n",
       "      <td>1</td>\n",
       "      <td>0.00000</td>\n",
       "      <td>0.40000</td>\n",
       "      <td>0.10893</td>\n",
       "      <td>0.01846</td>\n",
       "      <td>0.00214</td>\n",
       "      <td>0.00000</td>\n",
       "    </tr>\n",
       "    <tr>\n",
       "      <th>2</th>\n",
       "      <td>1</td>\n",
       "      <td>j_948529</td>\n",
       "      <td>J13_9_12</td>\n",
       "      <td>1</td>\n",
       "      <td>1</td>\n",
       "      <td>ins_325791151</td>\n",
       "      <td>1</td>\n",
       "      <td>5</td>\n",
       "      <td>0.05263</td>\n",
       "      <td>0.18135</td>\n",
       "      <td>0.14809</td>\n",
       "      <td>0.05846</td>\n",
       "      <td>0.03784</td>\n",
       "      <td>0.08902</td>\n",
       "    </tr>\n",
       "    <tr>\n",
       "      <th>3</th>\n",
       "      <td>1</td>\n",
       "      <td>j_2652164</td>\n",
       "      <td>J15_3_14</td>\n",
       "      <td>1</td>\n",
       "      <td>1</td>\n",
       "      <td>ins_1247714824</td>\n",
       "      <td>1</td>\n",
       "      <td>355</td>\n",
       "      <td>0.05263</td>\n",
       "      <td>0.18135</td>\n",
       "      <td>0.14809</td>\n",
       "      <td>0.04821</td>\n",
       "      <td>0.03784</td>\n",
       "      <td>0.08902</td>\n",
       "    </tr>\n",
       "    <tr>\n",
       "      <th>4</th>\n",
       "      <td>1</td>\n",
       "      <td>j_3181289</td>\n",
       "      <td>J16_6_7_8_15</td>\n",
       "      <td>1</td>\n",
       "      <td>1</td>\n",
       "      <td>ins_354229891</td>\n",
       "      <td>1</td>\n",
       "      <td>363</td>\n",
       "      <td>0.05263</td>\n",
       "      <td>0.18135</td>\n",
       "      <td>0.14809</td>\n",
       "      <td>0.04821</td>\n",
       "      <td>0.03784</td>\n",
       "      <td>0.08902</td>\n",
       "    </tr>\n",
       "    <tr>\n",
       "      <th>...</th>\n",
       "      <td>...</td>\n",
       "      <td>...</td>\n",
       "      <td>...</td>\n",
       "      <td>...</td>\n",
       "      <td>...</td>\n",
       "      <td>...</td>\n",
       "      <td>...</td>\n",
       "      <td>...</td>\n",
       "      <td>...</td>\n",
       "      <td>...</td>\n",
       "      <td>...</td>\n",
       "      <td>...</td>\n",
       "      <td>...</td>\n",
       "      <td>...</td>\n",
       "    </tr>\n",
       "    <tr>\n",
       "      <th>1665252</th>\n",
       "      <td>3</td>\n",
       "      <td>j_3840992</td>\n",
       "      <td>task_ODg3NTU4NTE3NDcxODA4NjA5Ng==</td>\n",
       "      <td>1</td>\n",
       "      <td>3</td>\n",
       "      <td>ins_1173173697</td>\n",
       "      <td>1</td>\n",
       "      <td>57</td>\n",
       "      <td>0.05263</td>\n",
       "      <td>0.18135</td>\n",
       "      <td>0.14809</td>\n",
       "      <td>0.00308</td>\n",
       "      <td>0.03784</td>\n",
       "      <td>0.08902</td>\n",
       "    </tr>\n",
       "    <tr>\n",
       "      <th>1665253</th>\n",
       "      <td>3</td>\n",
       "      <td>j_3840992</td>\n",
       "      <td>task_ODg3NTU4NTE3NDcxODA4NjA5Ng==</td>\n",
       "      <td>1</td>\n",
       "      <td>3</td>\n",
       "      <td>ins_929126161</td>\n",
       "      <td>1</td>\n",
       "      <td>57</td>\n",
       "      <td>0.05263</td>\n",
       "      <td>0.18135</td>\n",
       "      <td>0.14809</td>\n",
       "      <td>0.00308</td>\n",
       "      <td>0.03784</td>\n",
       "      <td>0.08902</td>\n",
       "    </tr>\n",
       "    <tr>\n",
       "      <th>1665254</th>\n",
       "      <td>3</td>\n",
       "      <td>j_3840992</td>\n",
       "      <td>task_ODg3NTU4NTE3NDcxODA4NjA5Ng==</td>\n",
       "      <td>1</td>\n",
       "      <td>3</td>\n",
       "      <td>ins_929126244</td>\n",
       "      <td>1</td>\n",
       "      <td>57</td>\n",
       "      <td>0.05263</td>\n",
       "      <td>0.18135</td>\n",
       "      <td>0.14809</td>\n",
       "      <td>0.00308</td>\n",
       "      <td>0.03784</td>\n",
       "      <td>0.08902</td>\n",
       "    </tr>\n",
       "    <tr>\n",
       "      <th>1665255</th>\n",
       "      <td>3</td>\n",
       "      <td>j_3840992</td>\n",
       "      <td>task_ODg3NTU4NTE3NDcxODA4NjA5Ng==</td>\n",
       "      <td>1</td>\n",
       "      <td>3</td>\n",
       "      <td>ins_569905413</td>\n",
       "      <td>1</td>\n",
       "      <td>57</td>\n",
       "      <td>0.05263</td>\n",
       "      <td>0.18135</td>\n",
       "      <td>0.14809</td>\n",
       "      <td>0.00308</td>\n",
       "      <td>0.03784</td>\n",
       "      <td>0.08902</td>\n",
       "    </tr>\n",
       "    <tr>\n",
       "      <th>1665256</th>\n",
       "      <td>3</td>\n",
       "      <td>j_3840992</td>\n",
       "      <td>task_ODg3NTU4NTE3NDcxODA4NjA5Ng==</td>\n",
       "      <td>1</td>\n",
       "      <td>3</td>\n",
       "      <td>ins_569905166</td>\n",
       "      <td>1</td>\n",
       "      <td>57</td>\n",
       "      <td>0.05263</td>\n",
       "      <td>0.18135</td>\n",
       "      <td>0.14809</td>\n",
       "      <td>0.00308</td>\n",
       "      <td>0.03784</td>\n",
       "      <td>0.08902</td>\n",
       "    </tr>\n",
       "  </tbody>\n",
       "</table>\n",
       "<p>1665257 rows × 14 columns</p>\n",
       "</div>"
      ],
      "text/plain": [
       "         task_type   job_name                          task_name  seq_no_inst  \\\n",
       "0                1   j_872298                    J10_1_2_3_7_8_9            1   \n",
       "1                1  j_1850126                   J12_2_3_5_6_8_11            1   \n",
       "2                1   j_948529                           J13_9_12            1   \n",
       "3                1  j_2652164                           J15_3_14            1   \n",
       "4                1  j_3181289                       J16_6_7_8_15            1   \n",
       "...            ...        ...                                ...          ...   \n",
       "1665252          3  j_3840992  task_ODg3NTU4NTE3NDcxODA4NjA5Ng==            1   \n",
       "1665253          3  j_3840992  task_ODg3NTU4NTE3NDcxODA4NjA5Ng==            1   \n",
       "1665254          3  j_3840992  task_ODg3NTU4NTE3NDcxODA4NjA5Ng==            1   \n",
       "1665255          3  j_3840992  task_ODg3NTU4NTE3NDcxODA4NjA5Ng==            1   \n",
       "1665256          3  j_3840992  task_ODg3NTU4NTE3NDcxODA4NjA5Ng==            1   \n",
       "\n",
       "         task_type_inst   instance_name  total_seq_no_inst  instance_num  \\\n",
       "0                     1   ins_383543020                  1           503   \n",
       "1                     1   ins_541816524                  1             1   \n",
       "2                     1   ins_325791151                  1             5   \n",
       "3                     1  ins_1247714824                  1           355   \n",
       "4                     1   ins_354229891                  1           363   \n",
       "...                 ...             ...                ...           ...   \n",
       "1665252               3  ins_1173173697                  1            57   \n",
       "1665253               3   ins_929126161                  1            57   \n",
       "1665254               3   ins_929126244                  1            57   \n",
       "1665255               3   ins_569905413                  1            57   \n",
       "1665256               3   ins_569905166                  1            57   \n",
       "\n",
       "         plan_cpu  cpu_avg_inst  cpu_max_inst  plan_mem  mem_avg_inst  \\\n",
       "0         0.00000       0.18135       0.14809   0.04821       0.03784   \n",
       "1         0.00000       0.40000       0.10893   0.01846       0.00214   \n",
       "2         0.05263       0.18135       0.14809   0.05846       0.03784   \n",
       "3         0.05263       0.18135       0.14809   0.04821       0.03784   \n",
       "4         0.05263       0.18135       0.14809   0.04821       0.03784   \n",
       "...           ...           ...           ...       ...           ...   \n",
       "1665252   0.05263       0.18135       0.14809   0.00308       0.03784   \n",
       "1665253   0.05263       0.18135       0.14809   0.00308       0.03784   \n",
       "1665254   0.05263       0.18135       0.14809   0.00308       0.03784   \n",
       "1665255   0.05263       0.18135       0.14809   0.00308       0.03784   \n",
       "1665256   0.05263       0.18135       0.14809   0.00308       0.03784   \n",
       "\n",
       "         mem_max_inst  \n",
       "0             0.08902  \n",
       "1             0.00000  \n",
       "2             0.08902  \n",
       "3             0.08902  \n",
       "4             0.08902  \n",
       "...               ...  \n",
       "1665252       0.08902  \n",
       "1665253       0.08902  \n",
       "1665254       0.08902  \n",
       "1665255       0.08902  \n",
       "1665256       0.08902  \n",
       "\n",
       "[1665257 rows x 14 columns]"
      ]
     },
     "execution_count": 27,
     "metadata": {},
     "output_type": "execute_result"
    }
   ],
   "source": [
    "pdf"
   ]
  },
  {
   "cell_type": "markdown",
   "metadata": {},
   "source": [
    "### Descriptive statistics (violin plots)"
   ]
  },
  {
   "cell_type": "code",
   "execution_count": 33,
   "metadata": {},
   "outputs": [
    {
     "data": {
      "text/plain": [
       "array([0.25, 0.5 , 0.75])"
      ]
     },
     "execution_count": 33,
     "metadata": {},
     "output_type": "execute_result"
    }
   ],
   "source": [
    "# seaborn colors\n",
    "import seaborn as sns\n",
    "sns_cls = [\"#34495e\", \"#3498db\", \"#e74c3c\",\"#95a5a6\",  \"#9b59b6\", \"#2ecc71\"]\n",
    "# once for each variable\n",
    "quantiles = np.arange(0.25, 1, 0.25)\n",
    "quantiles_comp = [quantiles, quantiles, quantiles, quantiles, quantiles, quantiles]\n",
    "quantiles"
   ]
  },
  {
   "cell_type": "code",
   "execution_count": 37,
   "metadata": {
    "scrolled": true
   },
   "outputs": [
    {
     "data": {
      "image/png": "[encoded data removed]",
      "text/plain": [
       "<Figure size 576x432 with 1 Axes>"
      ]
     },
     "metadata": {},
     "output_type": "display_data"
    }
   ],
   "source": [
    "import itertools\n",
    "fig = plt.figure(figsize=(8,6))\n",
    "labels=[\"Plan CPU\", \"Avg CPU\", \"Max CPU\", \"Plan MEM\", \"Avg MEM\", \"Max MEM\"]\n",
    "\n",
    "violin = plt.violinplot(\n",
    "    pdf[res_cols],\n",
    "    #autorange=True,\n",
    "    #whis = (0.00000, 0.50000),\n",
    "    #,\n",
    "    #meanline=True,\n",
    "    showextrema=False,\n",
    "    showmeans=True,\n",
    "    #showmedians=True,\n",
    "    quantiles=quantiles_comp\n",
    "    #points=5\n",
    ")\n",
    "# limit values on the y-axis\n",
    "ax = plt.gca()\n",
    "ax.set_ylim([0.0, 0.20])\n",
    "plt.xticks(ticks=[1,2,3,4,5,6], labels=labels)\n",
    "plt.ylabel(\"Proportion of compute resource (scaled)\")\n",
    "# set mean to blue\n",
    "#violin['cmeans'].set_color('b')\n",
    "# set median to green\n",
    "violin['cmeans'].set_color('g')\n",
    "#violin['cmins'].set_color('r')\n",
    "#violin['cmaxs'].set_color('r')\n",
    "# set quantiles to yellow\n",
    "#violin['cquantiles'].set_color('b')\n",
    "# set the color of each violin\n",
    "for b,c in zip(violin['bodies'],itertools.islice(itertools.cycle(sns_cls), 0, len(violin['bodies']))):\n",
    "    b.set_facecolor(c)\n",
    "#plt.title(\"Boxplots of the compute resource request and usage of failed instances\")\n",
    "plt.savefig(\"../../out/analysis/ali2018/violin_compute_res.pdf\", format=\"pdf\")"
   ]
  },
  {
   "cell_type": "code",
   "execution_count": 38,
   "metadata": {},
   "outputs": [],
   "source": [
    "quantiles_tt_seq = [quantiles, quantiles, quantiles]"
   ]
  },
  {
   "cell_type": "code",
   "execution_count": 39,
   "metadata": {
    "pycharm": {
     "name": "#%%\n"
    }
   },
   "outputs": [
    {
     "data": {
      "image/png": "[encoded data removed]",
      "text/plain": [
       "<Figure size 576x432 with 1 Axes>"
      ]
     },
     "metadata": {},
     "output_type": "display_data"
    }
   ],
   "source": [
    "plt.figure(figsize=(8,6))\n",
    "violin = plt.violinplot(\n",
    "    pdf[[\"task_type\", \"seq_no_inst\", \"total_seq_no_inst\"]],\n",
    "    #meanline=True,\n",
    "    showmeans=True,\n",
    "    showextrema=False,\n",
    "    #showmedians=True,\n",
    "    quantiles=quantiles_tt_seq\n",
    "\n",
    ")\n",
    "labels=[\"Task type (instance)\", \"Sequence number (instance)\", \"Total sequence number (instance)\"]\n",
    "\n",
    "plt.xticks(ticks=[1,2,3], labels=labels)\n",
    "\n",
    "# limit values on the y-axis\n",
    "ax = plt.gca()\n",
    "ax.set_ylim([1, 4.5])\n",
    "\n",
    "# set mean to blue\n",
    "#violin['cmeans'].set_color('b')\n",
    "# set median to green\n",
    "violin['cmeans'].set_color('g')\n",
    "# set quantiles to yellow\n",
    "#violin['cquantiles'].set_color('b')\n",
    "# set the color of each violin\n",
    "for b,c in zip(violin['bodies'],itertools.islice(itertools.cycle(sns_cls), 0, len(violin['bodies']))):\n",
    "    b.set_facecolor(c)\n",
    "\n",
    "plt.ylabel(\"Task type / (total) sequence number\")\n",
    "#plt.title(\"Boxplots of the task type and sequence of failed instances\")\n",
    "plt.savefig(\"../../out/analysis/ali2018/violin_tt_seq_inst.pdf\", format=\"pdf\")"
   ]
  },
  {
   "cell_type": "code",
   "execution_count": 40,
   "metadata": {
    "pycharm": {
     "name": "#%%\n"
    }
   },
   "outputs": [
    {
     "data": {
      "image/png": "[encoded data removed]",
      "text/plain": [
       "<Figure size 576x432 with 1 Axes>"
      ]
     },
     "metadata": {},
     "output_type": "display_data"
    }
   ],
   "source": [
    "plt.figure(figsize=(8,6))\n",
    "\n",
    "violin = plt.violinplot(\n",
    "    pdf[\"instance_num\"],\n",
    "    #meanline=True,\n",
    "    showmeans=True,\n",
    "    showextrema=False,\n",
    "    #showmedians=True,\n",
    "    quantiles=quantiles\n",
    "    \n",
    ")\n",
    "labels=[\"Number of instances per task\"]\n",
    "plt.xticks(ticks=[1], labels=labels)\n",
    "plt.ylabel(\"Number of instances per task\")\n",
    "\n",
    "# set mean to blue\n",
    "#violin['cmeans'].set_color('b')\n",
    "# set median to green\n",
    "violin['cmeans'].set_color('g')\n",
    "# set quantiles to yellow\n",
    "#violin['cquantiles'].set_color('b')\n",
    "# set the color of each violin\n",
    "for b,c in zip(violin['bodies'],itertools.islice(itertools.cycle(sns_cls), 0, len(violin['bodies']))):\n",
    "    b.set_facecolor(c)\n",
    "    \n",
    "#plt.legend()\n",
    "#plt.title(\"Boxplots of the compute resource request and usage of failed instances\")\n",
    "plt.savefig(\"../../out/analysis/ali2018/violin_instance_num.pdf\", format=\"pdf\")"
   ]
  },
  {
   "cell_type": "markdown",
   "metadata": {},
   "source": [
    "## Analytical statistics"
   ]
  },
  {
   "cell_type": "markdown",
   "metadata": {},
   "source": [
    "### Number of failed instances\n",
    "- a) per Job ID\n",
    "- continuous data"
   ]
  },
  {
   "cell_type": "code",
   "execution_count": 31,
   "metadata": {},
   "outputs": [],
   "source": [
    "num_fail_inst_job_id = pdf.groupby([\"job_name\"]).size()"
   ]
  },
  {
   "cell_type": "code",
   "execution_count": 32,
   "metadata": {},
   "outputs": [],
   "source": [
    "# set a range index\n",
    "step = 1\n",
    "num_fail_inst_job_id.index = pd.RangeIndex(start=0, stop=len(num_fail_inst_job_id.index) * step, step=step)"
   ]
  },
  {
   "cell_type": "code",
   "execution_count": 33,
   "metadata": {},
   "outputs": [
    {
     "data": {
      "text/plain": [
       "RangeIndex(start=0, stop=81329, step=1)"
      ]
     },
     "execution_count": 33,
     "metadata": {},
     "output_type": "execute_result"
    }
   ],
   "source": [
    "num_fail_inst_job_id.index"
   ]
  },
  {
   "cell_type": "code",
   "execution_count": 34,
   "metadata": {
    "scrolled": true
   },
   "outputs": [
    {
     "data": {
      "image/png": "[encoded data removed]",
      "text/plain": [
       "<Figure size 576x432 with 1 Axes>"
      ]
     },
     "metadata": {},
     "output_type": "display_data"
    }
   ],
   "source": [
    "plt.figure(figsize=(8,6))\n",
    "plt.scatter(num_fail_inst_job_id.index, num_fail_inst_job_id, s=15, marker=\"*\",color=sns_cls[2])\n",
    "#plt.title(\"Number of failed instances per Job ID\")\n",
    "plt.xlabel(\"Job ID\")\n",
    "plt.ylabel(\"Number of failed Instances\")\n",
    "plt.savefig(\"../../out/analysis/ali2018/num_fail_inst_job_id.pdf\", format=\"pdf\")"
   ]
  },
  {
   "cell_type": "code",
   "execution_count": 35,
   "metadata": {
    "pycharm": {
     "name": "#%%\n"
    }
   },
   "outputs": [
    {
     "data": {
      "text/plain": [
       "0        1\n",
       "1        1\n",
       "2        1\n",
       "3        1\n",
       "4        1\n",
       "        ..\n",
       "81324    1\n",
       "81325    1\n",
       "81326    1\n",
       "81327    1\n",
       "81328    1\n",
       "Length: 81329, dtype: int64"
      ]
     },
     "execution_count": 35,
     "metadata": {},
     "output_type": "execute_result"
    }
   ],
   "source": [
    "num_fail_inst_job_id"
   ]
  },
  {
   "cell_type": "code",
   "execution_count": 36,
   "metadata": {
    "pycharm": {
     "name": "#%%\n"
    }
   },
   "outputs": [
    {
     "data": {
      "image/png": "[encoded data removed]",
      "text/plain": [
       "<Figure size 576x432 with 1 Axes>"
      ]
     },
     "metadata": {},
     "output_type": "display_data"
    }
   ],
   "source": [
    "# 20 bins per histogram\n",
    "num_fail_inst_job_id_hist = pdf.groupby([\"job_name\"]).size().to_frame()\n",
    "num_fail_inst_job_id_hist = num_fail_inst_job_id_hist.rename(columns = {0:'count'})\n",
    "num_fail_inst_job_id_hist.reset_index(inplace=True)\n",
    "plt.figure(figsize=(8,6))\n",
    "bins = range(0, 80001, 4000)\n",
    "plt.hist(num_fail_inst_job_id_hist[\"count\"], bins=bins, log=True, color=sns_cls[2])\n",
    "plt.xticks(bins, labels=[str(i) +\"K\" for i in range(0,81,4)], rotation=40)\n",
    "#plt.title(\"Number of failed instances per bin of Job IDs\")\n",
    "plt.xlabel(\"Job ID (in bins of 4K)\")\n",
    "plt.ylabel(\"Number of failed instances (log)\")\n",
    "plt.savefig(\"../../out/analysis/ali2018/hist_num_fail_inst_job_id.pdf\", format=\"pdf\")\n",
    "plt.savefig(\"../../out/analysis/ali2018/hist_num_fail_inst_job_id.png\", format=\"png\")"
   ]
  },
  {
   "cell_type": "code",
   "execution_count": 37,
   "metadata": {
    "pycharm": {
     "name": "#%%\n"
    }
   },
   "outputs": [
    {
     "data": {
      "text/plain": [
       "1"
      ]
     },
     "execution_count": 37,
     "metadata": {},
     "output_type": "execute_result"
    }
   ],
   "source": [
    "num_fail_inst_job_id_hist[\"count\"].min()"
   ]
  },
  {
   "cell_type": "markdown",
   "metadata": {},
   "source": [
    "b) per Task ID"
   ]
  },
  {
   "cell_type": "code",
   "execution_count": 38,
   "metadata": {},
   "outputs": [
    {
     "data": {
      "image/png": "[encoded data removed]",
      "text/plain": [
       "<Figure size 576x432 with 1 Axes>"
      ]
     },
     "metadata": {},
     "output_type": "display_data"
    }
   ],
   "source": [
    "num_fail_inst_job_id = pdf.groupby([\"task_name\"]).size()\n",
    "# set a range index\n",
    "step = 1\n",
    "num_fail_inst_job_id.index = pd.RangeIndex(start=0, stop=len(num_fail_inst_job_id.index) * step, step=step)\n",
    "plt.figure(figsize=(8,6))\n",
    "plt.scatter(num_fail_inst_job_id.index, num_fail_inst_job_id, s=15, marker=\"o\", color=sns_cls[2])\n",
    "#(\"Number of failed instances per Task ID\")\n",
    "plt.xlabel(\"Task ID\")\n",
    "plt.ylabel(\"Number of failed Instances\")\n",
    "plt.savefig(\"../../out/analysis/ali2018/num_fail_inst_task_id.pdf\", format=\"pdf\")\n",
    "plt.savefig(\"../../out/analysis/ali2018/num_fail_inst_task_id.png\", format=\"png\")"
   ]
  },
  {
   "cell_type": "code",
   "execution_count": 39,
   "metadata": {
    "pycharm": {
     "name": "#%%\n"
    }
   },
   "outputs": [
    {
     "data": {
      "image/png": "[encoded data removed]",
      "text/plain": [
       "<Figure size 576x432 with 1 Axes>"
      ]
     },
     "metadata": {},
     "output_type": "display_data"
    }
   ],
   "source": [
    "num_fail_inst_task_id_hist = pdf.groupby([\"task_name\"]).size().to_frame()\n",
    "num_fail_inst_task_id_hist = num_fail_inst_task_id_hist.rename(columns = {0:'count'})\n",
    "num_fail_inst_task_id_hist.reset_index(inplace=True)\n",
    "plt.figure(figsize=(8,6))\n",
    "bins = range(0, 1001, 50)\n",
    "plt.hist(num_fail_inst_task_id_hist[\"count\"], bins=bins, log=True, color=sns_cls[2])\n",
    "plt.xticks(bins, labels=bins, rotation=40)\n",
    "#plt.title(\"Number of failed instances per bin of Task IDs\")\n",
    "plt.xlabel(\"Task ID (in bins of 50)\")\n",
    "plt.ylabel(\"Number of failed instances (log)\")\n",
    "plt.savefig(\"../../out/analysis/ali2018/hist_num_fail_inst_task_id.pdf\", format=\"pdf\")\n",
    "plt.savefig(\"../../out/analysis/ali2018/hist_num_fail_inst_task_id.png\", format=\"png\")"
   ]
  },
  {
   "cell_type": "markdown",
   "metadata": {},
   "source": [
    "c) per Instance ID"
   ]
  },
  {
   "cell_type": "code",
   "execution_count": 40,
   "metadata": {},
   "outputs": [
    {
     "data": {
      "image/png": "[encoded data removed]",
      "text/plain": [
       "<Figure size 576x432 with 1 Axes>"
      ]
     },
     "metadata": {},
     "output_type": "display_data"
    }
   ],
   "source": [
    "num_fail_inst_inst_id_hist = pdf.groupby([\"instance_name\"]).size().to_frame()\n",
    "num_fail_inst_inst_id_hist = num_fail_inst_inst_id_hist.rename(columns = {0:'count'})\n",
    "num_fail_inst_inst_id_hist.reset_index(inplace=True)\n",
    "plt.figure(figsize=(8,6))\n",
    "bins = range(0, 1001, 50)\n",
    "plt.hist(num_fail_inst_inst_id_hist[\"count\"], bins=bins, log=True, color=sns_cls[2])\n",
    "plt.xticks(bins, labels=bins)\n",
    "#plt.title(\"Number of failed instances per bin of Instance IDs\")\n",
    "plt.xlabel(\"Instance ID (in bins of 50)\")\n",
    "plt.ylabel(\"Failed Instances (log)\")\n",
    "plt.savefig(\"../../out/analysis/ali2018/hist_num_fail_inst_inst_id.pdf\", format=\"pdf\")"
   ]
  },
  {
   "cell_type": "code",
   "execution_count": 41,
   "metadata": {
    "pycharm": {
     "name": "#%%\n"
    }
   },
   "outputs": [
    {
     "data": {
      "image/png": "[encoded data removed]",
      "text/plain": [
       "<Figure size 576x432 with 1 Axes>"
      ]
     },
     "metadata": {},
     "output_type": "display_data"
    }
   ],
   "source": [
    "num_fail_inst_inst_id_hist = pdf.groupby([\"instance_name\"]).size().to_frame()\n",
    "num_fail_inst_inst_id_hist = num_fail_inst_inst_id_hist.rename(columns = {0:'count'})\n",
    "num_fail_inst_inst_id_hist.reset_index(inplace=True)\n",
    "plt.figure(figsize=(8,6))\n",
    "bins = range(0, 400001, 40000)\n",
    "plt.hist(num_fail_inst_inst_id_hist[\"count\"], bins=bins, log=True, color=sns_cls[2])\n",
    "plt.xticks(bins, labels=[str(i) +\"K\" for i in range(0,401,40)], rotation=40)\n",
    "#plt.title(\"Number of failed instances per bin of Instance IDs\")\n",
    "plt.xlabel(\"Instance ID (in bins of 20K)\")\n",
    "plt.ylabel(\"Failed Instances (log)\")\n",
    "plt.savefig(\"../../out/analysis/ali2018/hist_num_fail_inst_inst_id.pdf\", format=\"pdf\")"
   ]
  },
  {
   "cell_type": "markdown",
   "metadata": {},
   "source": [
    "d) per Machine ID"
   ]
  },
  {
   "cell_type": "code",
   "execution_count": 42,
   "metadata": {},
   "outputs": [
    {
     "ename": "KeyError",
     "evalue": "'machine_id_inst'",
     "output_type": "error",
     "traceback": [
      "\u001b[0;31m---------------------------------------------------------------------------\u001b[0m",
      "\u001b[0;31mKeyError\u001b[0m                                  Traceback (most recent call last)",
      "\u001b[0;32m/tmp/ipykernel_57315/2003117790.py\u001b[0m in \u001b[0;36m<module>\u001b[0;34m\u001b[0m\n\u001b[0;32m----> 1\u001b[0;31m \u001b[0mnum_fail_inst_job_id\u001b[0m \u001b[0;34m=\u001b[0m \u001b[0mpdf\u001b[0m\u001b[0;34m.\u001b[0m\u001b[0mgroupby\u001b[0m\u001b[0;34m(\u001b[0m\u001b[0;34m[\u001b[0m\u001b[0;34m\"machine_id_inst\"\u001b[0m\u001b[0;34m]\u001b[0m\u001b[0;34m)\u001b[0m\u001b[0;34m.\u001b[0m\u001b[0msize\u001b[0m\u001b[0;34m(\u001b[0m\u001b[0;34m)\u001b[0m\u001b[0;34m\u001b[0m\u001b[0;34m\u001b[0m\u001b[0m\n\u001b[0m\u001b[1;32m      2\u001b[0m \u001b[0;31m# set a range index\u001b[0m\u001b[0;34m\u001b[0m\u001b[0;34m\u001b[0m\u001b[0;34m\u001b[0m\u001b[0m\n\u001b[1;32m      3\u001b[0m \u001b[0mstep\u001b[0m \u001b[0;34m=\u001b[0m \u001b[0;36m1\u001b[0m\u001b[0;34m\u001b[0m\u001b[0;34m\u001b[0m\u001b[0m\n\u001b[1;32m      4\u001b[0m \u001b[0mnum_fail_inst_job_id\u001b[0m\u001b[0;34m.\u001b[0m\u001b[0mindex\u001b[0m \u001b[0;34m=\u001b[0m \u001b[0mpd\u001b[0m\u001b[0;34m.\u001b[0m\u001b[0mRangeIndex\u001b[0m\u001b[0;34m(\u001b[0m\u001b[0mstart\u001b[0m\u001b[0;34m=\u001b[0m\u001b[0;36m0\u001b[0m\u001b[0;34m,\u001b[0m \u001b[0mstop\u001b[0m\u001b[0;34m=\u001b[0m\u001b[0mlen\u001b[0m\u001b[0;34m(\u001b[0m\u001b[0mnum_fail_inst_job_id\u001b[0m\u001b[0;34m.\u001b[0m\u001b[0mindex\u001b[0m\u001b[0;34m)\u001b[0m \u001b[0;34m*\u001b[0m \u001b[0mstep\u001b[0m\u001b[0;34m,\u001b[0m \u001b[0mstep\u001b[0m\u001b[0;34m=\u001b[0m\u001b[0mstep\u001b[0m\u001b[0;34m)\u001b[0m\u001b[0;34m\u001b[0m\u001b[0;34m\u001b[0m\u001b[0m\n\u001b[1;32m      5\u001b[0m \u001b[0mplt\u001b[0m\u001b[0;34m.\u001b[0m\u001b[0mfigure\u001b[0m\u001b[0;34m(\u001b[0m\u001b[0mfigsize\u001b[0m\u001b[0;34m=\u001b[0m\u001b[0;34m(\u001b[0m\u001b[0;36m8\u001b[0m\u001b[0;34m,\u001b[0m\u001b[0;36m6\u001b[0m\u001b[0;34m)\u001b[0m\u001b[0;34m)\u001b[0m\u001b[0;34m\u001b[0m\u001b[0;34m\u001b[0m\u001b[0m\n",
      "\u001b[0;32m~/.local/lib/python3.8/site-packages/pandas/core/frame.py\u001b[0m in \u001b[0;36mgroupby\u001b[0;34m(self, by, axis, level, as_index, sort, group_keys, squeeze, observed, dropna)\u001b[0m\n\u001b[1;32m   7629\u001b[0m         \u001b[0;31m# error: Argument \"squeeze\" to \"DataFrameGroupBy\" has incompatible type\u001b[0m\u001b[0;34m\u001b[0m\u001b[0;34m\u001b[0m\u001b[0;34m\u001b[0m\u001b[0m\n\u001b[1;32m   7630\u001b[0m         \u001b[0;31m# \"Union[bool, NoDefault]\"; expected \"bool\"\u001b[0m\u001b[0;34m\u001b[0m\u001b[0;34m\u001b[0m\u001b[0;34m\u001b[0m\u001b[0m\n\u001b[0;32m-> 7631\u001b[0;31m         return DataFrameGroupBy(\n\u001b[0m\u001b[1;32m   7632\u001b[0m             \u001b[0mobj\u001b[0m\u001b[0;34m=\u001b[0m\u001b[0mself\u001b[0m\u001b[0;34m,\u001b[0m\u001b[0;34m\u001b[0m\u001b[0;34m\u001b[0m\u001b[0m\n\u001b[1;32m   7633\u001b[0m             \u001b[0mkeys\u001b[0m\u001b[0;34m=\u001b[0m\u001b[0mby\u001b[0m\u001b[0;34m,\u001b[0m\u001b[0;34m\u001b[0m\u001b[0;34m\u001b[0m\u001b[0m\n",
      "\u001b[0;32m~/.local/lib/python3.8/site-packages/pandas/core/groupby/groupby.py\u001b[0m in \u001b[0;36m__init__\u001b[0;34m(self, obj, keys, axis, level, grouper, exclusions, selection, as_index, sort, group_keys, squeeze, observed, mutated, dropna)\u001b[0m\n\u001b[1;32m    887\u001b[0m             \u001b[0;32mfrom\u001b[0m \u001b[0mpandas\u001b[0m\u001b[0;34m.\u001b[0m\u001b[0mcore\u001b[0m\u001b[0;34m.\u001b[0m\u001b[0mgroupby\u001b[0m\u001b[0;34m.\u001b[0m\u001b[0mgrouper\u001b[0m \u001b[0;32mimport\u001b[0m \u001b[0mget_grouper\u001b[0m\u001b[0;34m\u001b[0m\u001b[0;34m\u001b[0m\u001b[0m\n\u001b[1;32m    888\u001b[0m \u001b[0;34m\u001b[0m\u001b[0m\n\u001b[0;32m--> 889\u001b[0;31m             grouper, exclusions, obj = get_grouper(\n\u001b[0m\u001b[1;32m    890\u001b[0m                 \u001b[0mobj\u001b[0m\u001b[0;34m,\u001b[0m\u001b[0;34m\u001b[0m\u001b[0;34m\u001b[0m\u001b[0m\n\u001b[1;32m    891\u001b[0m                 \u001b[0mkeys\u001b[0m\u001b[0;34m,\u001b[0m\u001b[0;34m\u001b[0m\u001b[0;34m\u001b[0m\u001b[0m\n",
      "\u001b[0;32m~/.local/lib/python3.8/site-packages/pandas/core/groupby/grouper.py\u001b[0m in \u001b[0;36mget_grouper\u001b[0;34m(obj, key, axis, level, sort, observed, mutated, validate, dropna)\u001b[0m\n\u001b[1;32m    860\u001b[0m                 \u001b[0min_axis\u001b[0m\u001b[0;34m,\u001b[0m \u001b[0mlevel\u001b[0m\u001b[0;34m,\u001b[0m \u001b[0mgpr\u001b[0m \u001b[0;34m=\u001b[0m \u001b[0;32mFalse\u001b[0m\u001b[0;34m,\u001b[0m \u001b[0mgpr\u001b[0m\u001b[0;34m,\u001b[0m \u001b[0;32mNone\u001b[0m\u001b[0;34m\u001b[0m\u001b[0;34m\u001b[0m\u001b[0m\n\u001b[1;32m    861\u001b[0m             \u001b[0;32melse\u001b[0m\u001b[0;34m:\u001b[0m\u001b[0;34m\u001b[0m\u001b[0;34m\u001b[0m\u001b[0m\n\u001b[0;32m--> 862\u001b[0;31m                 \u001b[0;32mraise\u001b[0m \u001b[0mKeyError\u001b[0m\u001b[0;34m(\u001b[0m\u001b[0mgpr\u001b[0m\u001b[0;34m)\u001b[0m\u001b[0;34m\u001b[0m\u001b[0;34m\u001b[0m\u001b[0m\n\u001b[0m\u001b[1;32m    863\u001b[0m         \u001b[0;32melif\u001b[0m \u001b[0misinstance\u001b[0m\u001b[0;34m(\u001b[0m\u001b[0mgpr\u001b[0m\u001b[0;34m,\u001b[0m \u001b[0mGrouper\u001b[0m\u001b[0;34m)\u001b[0m \u001b[0;32mand\u001b[0m \u001b[0mgpr\u001b[0m\u001b[0;34m.\u001b[0m\u001b[0mkey\u001b[0m \u001b[0;32mis\u001b[0m \u001b[0;32mnot\u001b[0m \u001b[0;32mNone\u001b[0m\u001b[0;34m:\u001b[0m\u001b[0;34m\u001b[0m\u001b[0;34m\u001b[0m\u001b[0m\n\u001b[1;32m    864\u001b[0m             \u001b[0;31m# Add key to exclusions\u001b[0m\u001b[0;34m\u001b[0m\u001b[0;34m\u001b[0m\u001b[0;34m\u001b[0m\u001b[0m\n",
      "\u001b[0;31mKeyError\u001b[0m: 'machine_id_inst'"
     ]
    }
   ],
   "source": [
    "num_fail_inst_job_id = pdf.groupby([\"machine_id_inst\"]).size()\n",
    "# set a range index\n",
    "step = 1\n",
    "num_fail_inst_job_id.index = pd.RangeIndex(start=0, stop=len(num_fail_inst_job_id.index) * step, step=step)\n",
    "plt.figure(figsize=(8,6))\n",
    "plt.scatter(num_fail_inst_job_id.index, num_fail_inst_job_id, s=15, marker=\"s\", color=sns_cls[2])\n",
    "#plt.title(\"Number of failed instances per Machine ID\")\n",
    "plt.xlabel(\"Machine ID\")\n",
    "plt.ylabel(\"Number of failed Instances\")\n",
    "plt.savefig(\"../../out/analysis/ali2018/num_fail_inst_machine_id.pdf\", format=\"pdf\")"
   ]
  },
  {
   "cell_type": "code",
   "execution_count": null,
   "metadata": {
    "pycharm": {
     "name": "#%%\n"
    }
   },
   "outputs": [],
   "source": [
    "num_fail_machine_machine_id_hist = pdf.groupby([\"machine_id_inst\"]).size().to_frame()\n",
    "num_fail_machine_machine_id_hist = num_fail_machine_machine_id_hist.rename(columns = {0:'count'})\n",
    "num_fail_machine_machine_id_hist.reset_index(inplace=True)\n",
    "plt.figure(figsize=(8,6))\n",
    "bins = range(0, 4001, 200)\n",
    "plt.hist(num_fail_machine_machine_id_hist[\"count\"], bins=bins, log=True, color=sns_cls[2])\n",
    "plt.xticks(bins, labels=bins, rotation=40)\n",
    "#plt.title(\"Number of failed instances per bin of machine IDs\")\n",
    "plt.xlabel(\"Machine ID (in bins of 200)\")\n",
    "plt.ylabel(\"Failed instances (log)\")\n",
    "plt.savefig(\"../../out/analysis/ali2018/hist_num_fail_machine_machine_id.pdf\", format=\"pdf\")"
   ]
  },
  {
   "cell_type": "markdown",
   "metadata": {},
   "source": [
    "## Relations in Scatterplots"
   ]
  },
  {
   "cell_type": "code",
   "execution_count": null,
   "metadata": {},
   "outputs": [],
   "source": [
    "np.unique(pdf[\"task_type_inst\"])"
   ]
  },
  {
   "cell_type": "code",
   "execution_count": null,
   "metadata": {},
   "outputs": [],
   "source": [
    "cpu_request_inst_fail = pdf.groupby([\"plan_cpu\", \"task_type_inst\"]).size().to_frame()\n",
    "cpu_request_inst_fail = cpu_request_inst_fail.rename(columns = {0:'count'})\n",
    "# apply normalization (0-100) on the count for a smaller size\n",
    "cpu_request_inst_fail[\"count_normalized\"] = cpu_request_inst_fail[\"count\"] /cpu_request_inst_fail[\"count\"].abs().max()\n",
    "#cpu_request_inst_fail[\"count_normalized\"] = cpu_request_inst_fail[\"count_normalized\"] * 100\n",
    "cpu_request_inst_fail.reset_index(inplace=True)"
   ]
  },
  {
   "cell_type": "code",
   "execution_count": null,
   "metadata": {},
   "outputs": [],
   "source": [
    "cpu_request_inst_fail"
   ]
  },
  {
   "cell_type": "markdown",
   "metadata": {},
   "source": [
    "b) requested MEM"
   ]
  },
  {
   "cell_type": "code",
   "execution_count": null,
   "metadata": {},
   "outputs": [],
   "source": [
    "mem_request_inst_fail = pdf.groupby([\"plan_mem\", \"task_type_inst\"]).size().to_frame()\n",
    "mem_request_inst_fail = mem_request_inst_fail.rename(columns = {0:'count'})\n",
    "# apply normalization from (0-100) on the count for a smaller size\n",
    "mem_request_inst_fail[\"count_normalized\"] = mem_request_inst_fail[\"count\"] /mem_request_inst_fail[\"count\"].abs().max()\n",
    "#mem_request_inst_fail[\"count_normalized\"] = mem_request_inst_fail[\"count_normalized\"] * 100\n",
    "mem_request_inst_fail.reset_index(inplace=True)"
   ]
  },
  {
   "cell_type": "code",
   "execution_count": null,
   "metadata": {
    "scrolled": true
   },
   "outputs": [],
   "source": [
    "mem_request_inst_fail"
   ]
  },
  {
   "cell_type": "code",
   "execution_count": null,
   "metadata": {},
   "outputs": [],
   "source": [
    "avg_mem_inst_fail = pdf.groupby([\"mem_avg_inst\", \"task_type_inst\"]).size().to_frame()\n",
    "avg_mem_inst_fail = avg_mem_inst_fail.rename(columns = {0:'count'})\n",
    "avg_mem_inst_fail.reset_index(inplace=True)\n",
    "\n",
    "avg_cpu_inst_fail = pdf.groupby([\"cpu_avg_inst\", \"task_type_inst\"]).size().to_frame()\n",
    "avg_cpu_inst_fail = avg_cpu_inst_fail.rename(columns = {0:'count'})\n",
    "avg_cpu_inst_fail.reset_index(inplace=True)"
   ]
  },
  {
   "cell_type": "code",
   "execution_count": null,
   "metadata": {},
   "outputs": [],
   "source": [
    "cpu_request_inst_fail.set_index(\"task_type_inst\", inplace=True)"
   ]
  },
  {
   "cell_type": "code",
   "execution_count": null,
   "metadata": {},
   "outputs": [],
   "source": [
    "cpu_request_inst_fail"
   ]
  },
  {
   "cell_type": "code",
   "execution_count": null,
   "metadata": {},
   "outputs": [],
   "source": [
    "plt.figure(figsize=(8,6))\n",
    "fig, ax = plt.subplots()\n",
    "cdict = {1: sns_cls[0], 3: sns_cls[1], 8: sns_cls[2], 10: sns_cls[3], 11: sns_cls[4], 12: sns_cls[5]}\n",
    "\n",
    "sns.barplot(x=\"plan_cpu\", y=\"count_normalized\", data=cpu_request_inst_fail[cpu_request_inst_fail.index==1],color=sns_cls[0])\n",
    "sns.barplot(x=\"plan_cpu\", y=\"count_normalized\", data=cpu_request_inst_fail[cpu_request_inst_fail.index==3],color=sns_cls[1])\n",
    "sns.barplot(x=\"plan_cpu\", y=\"count_normalized\", data=cpu_request_inst_fail[cpu_request_inst_fail.index==8],color=sns_cls[2])\n",
    "sns.barplot(x=\"plan_cpu\", y=\"count_normalized\", data=cpu_request_inst_fail[cpu_request_inst_fail.index==10],color=sns_cls[3])\n",
    "sns.barplot(x=\"plan_cpu\", y=\"count_normalized\", data=cpu_request_inst_fail[cpu_request_inst_fail.index==11],color=sns_cls[4])\n",
    "sns.barplot(x=\"plan_cpu\", y=\"count_normalized\", data=cpu_request_inst_fail[cpu_request_inst_fail.index==12],color=sns_cls[5])\n",
    "#cpu_request_inst_fail.plot(kind=\"bar\", stacked=True, color=sns_cls)\n",
    "\n",
    "plt.xlabel(\"Requested CPU cores (normalized)\")\n",
    "plt.ylabel(\"Number of failed instances\")\n",
    "ax.legend()\n"
   ]
  },
  {
   "cell_type": "code",
   "execution_count": 50,
   "metadata": {},
   "outputs": [
    {
     "data": {
      "text/plain": [
       "Text(0, 0.5, 'Count (log)')"
      ]
     },
     "execution_count": 50,
     "metadata": {},
     "output_type": "execute_result"
    },
    {
     "data": {
      "text/plain": [
       "<Figure size 576x432 with 0 Axes>"
      ]
     },
     "metadata": {},
     "output_type": "display_data"
    },
    {
     "data": {
      "image/png": "[encoded data removed]",
      "text/plain": [
       "<Figure size 576x396 with 1 Axes>"
      ]
     },
     "metadata": {},
     "output_type": "display_data"
    }
   ],
   "source": [
    "plt.figure(figsize=(8,6))\n",
    "fig, ax = plt.subplots()\n",
    "cdict = {1: sns_cls[0], 3: sns_cls[1], 8: sns_cls[2], 10: sns_cls[3], 11: sns_cls[4], 12: sns_cls[5]}\n",
    "pdf.rename(columns = {'task_type_inst':'Task type (instance)'}, inplace = True)\n",
    "sns.ecdfplot(data=pdf, x=\"plan_cpu\", hue=\"Task type (instance)\", palette=sns_cls, legend=True) #stat=\"count\", log_scale=(False,True))\n",
    "#ax = plt.gca()\n",
    "#ax.set_xlim([0.0, 0.80])\n",
    "#ax.set_ylim([10**0, 10**6.5])\n",
    "#plt.xticks(ticks=pdf[\"plan_cpu\"], labels=np.arange(0,1,0.1))\n",
    "\n",
    "plt.xlabel(\"Requested CPU cores (scaled)\")\n",
    "plt.ylabel(\"Count (log)\")\n",
    "#plt.savefig(\"../../out/analysis/ali2018/ecdf_cpu_request_tt_inst_fail.pdf\", format=\"pdf\")"
   ]
  },
  {
   "cell_type": "code",
   "execution_count": 44,
   "metadata": {},
   "outputs": [
    {
     "data": {
      "text/plain": [
       "<Figure size 576x432 with 0 Axes>"
      ]
     },
     "metadata": {},
     "output_type": "display_data"
    },
    {
     "data": {
      "image/png": "[encoded data removed]",
      "text/plain": [
       "<Figure size 576x396 with 1 Axes>"
      ]
     },
     "metadata": {},
     "output_type": "display_data"
    }
   ],
   "source": [
    "plt.figure(figsize=(8,6))\n",
    "fig, ax = plt.subplots()\n",
    "sns.ecdfplot(data=pdf, x=\"cpu_avg_inst\", hue=\"Task type (instance)\", palette=sns_cls, legend=True, stat=\"count\", log_scale=(False, True))\n",
    "#ax = plt.gca()\n",
    "ax.set_ylim([10**0, 10**6.5])\n",
    "\n",
    "plt.xlabel(\"Average CPU cores (scaled)\")\n",
    "plt.ylabel(\"Count (log)\")\n",
    "plt.savefig(\"../../out/analysis/ali2018/ecdf_cpu_avg_tt_inst_fail.pdf\", format=\"pdf\")"
   ]
  },
  {
   "cell_type": "code",
   "execution_count": 45,
   "metadata": {},
   "outputs": [
    {
     "data": {
      "text/plain": [
       "<Figure size 576x432 with 0 Axes>"
      ]
     },
     "metadata": {},
     "output_type": "display_data"
    },
    {
     "data": {
      "image/png": "[encoded data removed]",
      "text/plain": [
       "<Figure size 576x396 with 1 Axes>"
      ]
     },
     "metadata": {},
     "output_type": "display_data"
    }
   ],
   "source": [
    "plt.figure(figsize=(8,6))\n",
    "fig, ax = plt.subplots()\n",
    "sns.ecdfplot(data=pdf, x=\"cpu_max_inst\", hue=\"Task type (instance)\", palette=sns_cls, legend=True, stat=\"count\", log_scale=(False, True))\n",
    "#ax = plt.gca()\n",
    "ax.set_ylim([10**0, 10**6.5])\n",
    "\n",
    "plt.xlabel(\"Max CPU cores (scaled)\")\n",
    "plt.ylabel(\"Count (log)\")\n",
    "plt.savefig(\"../../out/analysis/ali2018/ecdf_cpu_max_tt_inst_fail.pdf\", format=\"pdf\")"
   ]
  },
  {
   "cell_type": "code",
   "execution_count": 46,
   "metadata": {},
   "outputs": [
    {
     "data": {
      "text/plain": [
       "<Figure size 576x432 with 0 Axes>"
      ]
     },
     "metadata": {},
     "output_type": "display_data"
    },
    {
     "data": {
      "image/png": "[encoded data removed]",
      "text/plain": [
       "<Figure size 576x396 with 1 Axes>"
      ]
     },
     "metadata": {},
     "output_type": "display_data"
    }
   ],
   "source": [
    "plt.figure(figsize=(8,6))\n",
    "fig, ax = plt.subplots()\n",
    "cdict = {1: sns_cls[0], 3: sns_cls[1], 8: sns_cls[2], 10: sns_cls[3], 11: sns_cls[4], 12: sns_cls[5]}\n",
    "\n",
    "sns.ecdfplot(data=pdf, x=\"plan_mem\", hue=\"Task type (instance)\", palette=sns_cls, legend=True, stat=\"count\", log_scale=(False, True))\n",
    "ax.set_ylim([10**0, 10**6.5])\n",
    "#plt.xticks(ticks=pdf[\"plan_mem\"], labels=mem_range)\n",
    "plt.xlabel(\"Requested Main Memory (scaled)\")\n",
    "plt.ylabel(\"Count (log)\")\n",
    "plt.savefig(\"../../out/analysis/ali2018/ecdf_mem_request_tt_inst_fail.pdf\", format=\"pdf\")"
   ]
  },
  {
   "cell_type": "code",
   "execution_count": 47,
   "metadata": {},
   "outputs": [
    {
     "data": {
      "text/plain": [
       "<Figure size 576x432 with 0 Axes>"
      ]
     },
     "metadata": {},
     "output_type": "display_data"
    },
    {
     "data": {
      "image/png": "[encoded data removed]",
      "text/plain": [
       "<Figure size 576x396 with 1 Axes>"
      ]
     },
     "metadata": {},
     "output_type": "display_data"
    }
   ],
   "source": [
    "plt.figure(figsize=(8,6))\n",
    "fig, ax = plt.subplots()\n",
    "sns.ecdfplot(data=pdf, x=\"mem_avg_inst\", hue=\"Task type (instance)\", palette=sns_cls, legend=True, stat=\"count\", log_scale=(False, True))\n",
    "#ax = plt.gca()\n",
    "#ax.set_xlim([0.0, 0.60])\n",
    "ax.set_ylim([10**0, 10**6.5])\n",
    "\n",
    "plt.xlabel(\"Average Main Memory (scaled)\")\n",
    "plt.ylabel(\"Count (log)\")\n",
    "plt.savefig(\"../../out/analysis/ali2018/ecdf_mem_avg_tt_inst_fail.pdf\", format=\"pdf\")"
   ]
  },
  {
   "cell_type": "code",
   "execution_count": 48,
   "metadata": {},
   "outputs": [
    {
     "data": {
      "text/plain": [
       "<Figure size 576x432 with 0 Axes>"
      ]
     },
     "metadata": {},
     "output_type": "display_data"
    },
    {
     "data": {
      "image/png": "[encoded data removed]",
      "text/plain": [
       "<Figure size 576x396 with 1 Axes>"
      ]
     },
     "metadata": {},
     "output_type": "display_data"
    }
   ],
   "source": [
    "plt.figure(figsize=(8,6))\n",
    "fig, ax = plt.subplots()\n",
    "sns.ecdfplot(data=pdf, x=\"mem_max_inst\", hue=\"Task type (instance)\", palette=sns_cls, legend=True, stat=\"count\", log_scale=(False, True))\n",
    "#ax = plt.gca()\n",
    "#ax.set_xlim([0.0, 0.60])\n",
    "ax.set_ylim([10**0, 10**6.5])\n",
    "\n",
    "plt.xlabel(\"Max Main Memory (scaled)\")\n",
    "plt.ylabel(\"Count (log)\")\n",
    "plt.savefig(\"../../out/analysis/ali2018/ecdf_mem_max_tt_inst_fail.pdf\", format=\"pdf\")"
   ]
  },
  {
   "cell_type": "code",
   "execution_count": 35,
   "metadata": {
    "pycharm": {
     "name": "#%%\n"
    }
   },
   "outputs": [
    {
     "data": {
      "text/plain": [
       "<matplotlib.legend.Legend at 0x7f84b3e99df0>"
      ]
     },
     "execution_count": 35,
     "metadata": {},
     "output_type": "execute_result"
    },
    {
     "data": {
      "text/plain": [
       "<Figure size 576x432 with 0 Axes>"
      ]
     },
     "metadata": {},
     "output_type": "display_data"
    },
    {
     "data": {
      "image/png": "[encoded data removed]",
      "text/plain": [
       "<Figure size 576x396 with 1 Axes>"
      ]
     },
     "metadata": {},
     "output_type": "display_data"
    }
   ],
   "source": [
    "plt.figure(figsize=(8,6))\n",
    "\n",
    "# one for each task type\n",
    "cdict = {1: sns_cls[0], 3: sns_cls[1], 8: sns_cls[2], 10: sns_cls[3], 11: sns_cls[4], 12: sns_cls[5]}\n",
    "\n",
    "fig, ax = plt.subplots()\n",
    "ax.plot(\n",
    "    cpu_request_inst_fail[\"plan_cpu\"],\n",
    "    cpu_request_inst_fail[\"count\"],\n",
    "    alpha=0.6,\n",
    "    label=\"Plan CPU\",\n",
    "    linestyle=\"--\"\n",
    ")\n",
    "\n",
    "for tt in cpu_request_inst_fail[\"task_type_inst\"].unique():\n",
    "    ix = np.where(cpu_request_inst_fail[\"task_type_inst\"] == tt)\n",
    "    avg_ix = np.where(avg_cpu_inst_fail[\"task_type_inst\"] == tt)\n",
    "    # scatter plot for cpu\n",
    "    ax.scatter(\n",
    "        cpu_request_inst_fail[\"plan_cpu\"].iloc[ix],\n",
    "        cpu_request_inst_fail[\"count\"].iloc[ix],\n",
    "        c = cdict[tt],\n",
    "        marker=\"o\",\n",
    "        label = f\"Task type {tt}\",\n",
    "        s = 70,\n",
    "        alpha=0.6\n",
    "    )\n",
    "#plt.title(\"CPU core requests per task type of failed instances\")\n",
    "plt.xlabel(\"Requested CPU cores (normalized)\")\n",
    "plt.ylabel(\"Number of failed instances\")\n",
    "ax.legend()\n",
    "#plt.savefig(\"../../out/analysis/ali2018/scatter_cpu_request_tt_inst_fail.pdf\", format=\"pdf\")\n",
    "#plt.savefig(\"../../out/analysis/ali2018/scatter_cpu_request_tt_inst_fail.png\", format=\"png\")"
   ]
  },
  {
   "cell_type": "code",
   "execution_count": null,
   "metadata": {
    "pycharm": {
     "name": "#%%\n"
    }
   },
   "outputs": [],
   "source": [
    "plt.figure(figsize=(8,6))\n",
    "\n",
    "fig, ax = plt.subplots()\n",
    "\n",
    "ax.plot(\n",
    "    mem_request_inst_fail[\"plan_mem\"],\n",
    "    mem_request_inst_fail[\"count\"],\n",
    "    alpha=0.6,\n",
    "    label=\"Plan MEM\",\n",
    "    linestyle=\"--\",\n",
    "    color=\"green\"\n",
    ")\n",
    "for tt in cpu_request_inst_fail[\"task_type_inst\"].unique():\n",
    "    ix = np.where(cpu_request_inst_fail[\"task_type_inst\"] == tt)\n",
    "    # scatter plot for mem\n",
    "    ax.scatter(\n",
    "        mem_request_inst_fail[\"plan_mem\"].iloc[ix],\n",
    "        mem_request_inst_fail[\"count\"].iloc[ix],\n",
    "        c = cdict[tt],\n",
    "        marker=\"o\",\n",
    "        label = f\"Task type {tt}\",\n",
    "        s = 70,\n",
    "        alpha=0.6\n",
    "    )\n",
    "#plt.title(\"Main Memory requests per task type of failed instances\")\n",
    "plt.xlabel(\"Requested Main Memory (normalized)\")\n",
    "plt.ylabel(\"Number of failed instances\")\n",
    "ax.legend()\n",
    "plt.savefig(\"../../out/analysis/ali2018/scatter_mem_request_tt_inst_fail.pdf\", format=\"pdf\")\n",
    "plt.savefig(\"../../out/analysis/ali2018/scatter_mem_request_tt_inst_fail.png\", format=\"png\")"
   ]
  },
  {
   "cell_type": "markdown",
   "metadata": {},
   "source": [
    "c) average used resources"
   ]
  },
  {
   "cell_type": "code",
   "execution_count": null,
   "metadata": {},
   "outputs": [],
   "source": [
    "plt.figure(figsize=(8,6))\n",
    "\n",
    "# one for each task type\n",
    "cdict = {1: sns_cls[0], 3: sns_cls[1], 8: sns_cls[2], 10: sns_cls[3], 11: sns_cls[4], 12: sns_cls[5]}\n",
    "\n",
    "fig, ax = plt.subplots()\n",
    "ax.plot(\n",
    "    avg_cpu_inst_fail[\"cpu_avg_inst\"],\n",
    "    avg_cpu_inst_fail[\"count\"],\n",
    "    alpha=0.6,\n",
    "    label=\"Avg CPU\",\n",
    ")\n",
    "\n",
    "for tt in avg_cpu_inst_fail[\"task_type_inst\"].unique():\n",
    "    ix = np.where(avg_cpu_inst_fail[\"task_type_inst\"] == tt)\n",
    "    # scatter plot for cpu\n",
    "    ax.scatter(\n",
    "        avg_cpu_inst_fail[\"cpu_avg_inst\"].iloc[ix], \n",
    "        avg_cpu_inst_fail[\"count\"].iloc[ix],\n",
    "        c = cdict[tt],\n",
    "        marker=\"o\",\n",
    "        label = f\"Task type {tt}\",\n",
    "        s = 70,\n",
    "        alpha=0.6\n",
    "    )\n",
    "#plt.title(\"Average CPU core usage per task type of failed instances\")\n",
    "plt.xlabel(\"Average CPU cores (normalized)\")\n",
    "plt.ylabel(\"Number of failed instances\")\n",
    "ax.legend()\n",
    "plt.savefig(\"../../out/analysis/ali2018/scatter_avg_cpu_tt_inst_fail.pdf\", format=\"pdf\")\n",
    "plt.savefig(\"../../out/analysis/ali2018/scatter_avg_cpu_tt_inst_fail.png\", format=\"png\")"
   ]
  },
  {
   "cell_type": "code",
   "execution_count": null,
   "metadata": {
    "scrolled": true
   },
   "outputs": [],
   "source": [
    "plt.figure(figsize=(8,6))\n",
    "\n",
    "fig, ax = plt.subplots()\n",
    "\n",
    "ax.plot(\n",
    "    avg_mem_inst_fail[\"mem_avg_inst\"],\n",
    "    avg_mem_inst_fail[\"count\"],\n",
    "    alpha=0.6,\n",
    "    label=\"Avg MEM\",\n",
    "    color=\"green\"\n",
    ")\n",
    "for tt in avg_mem_inst_fail[\"task_type_inst\"].unique():\n",
    "    ix = np.where(avg_mem_inst_fail[\"task_type_inst\"] == tt)\n",
    "    # scatter plot for mem\n",
    "    ax.scatter(\n",
    "        avg_mem_inst_fail[\"mem_avg_inst\"].iloc[ix],\n",
    "        avg_mem_inst_fail[\"count\"].iloc[ix],\n",
    "        c = cdict[tt],\n",
    "        marker=\"o\",\n",
    "        label = f\"Task type {tt}\",\n",
    "        s = 70,\n",
    "        alpha=0.6\n",
    "    )\n",
    "#plt.title(\"Average Main Memory usage per task type of failed instances\")\n",
    "plt.xlabel(\"Average Main Memory (normalized)\")\n",
    "plt.ylabel(\"Number of failed instances\")\n",
    "ax.legend()\n",
    "plt.savefig(\"../../out/analysis/ali2018/scatter_avg_mem_tt_inst_fail.pdf\", format=\"pdf\")\n",
    "plt.savefig(\"../../out/analysis/ali2018/scatter_avg_mem_tt_inst_fail.png\", format=\"png\")"
   ]
  },
  {
   "cell_type": "code",
   "execution_count": null,
   "metadata": {},
   "outputs": [],
   "source": []
  }
 ],
 "metadata": {
  "kernelspec": {
   "display_name": "Python 3 (ipykernel)",
   "language": "python",
   "name": "python3"
  },
  "language_info": {
   "codemirror_mode": {
    "name": "ipython",
    "version": 3
   },
   "file_extension": ".py",
   "mimetype": "text/x-python",
   "name": "python",
   "nbconvert_exporter": "python",
   "pygments_lexer": "ipython3",
   "version": "3.8.10"
  }
 },
 "nbformat": 4,
 "nbformat_minor": 1
}
