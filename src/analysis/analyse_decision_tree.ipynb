{
 "cells": [
  {
   "cell_type": "markdown",
   "metadata": {
    "collapsed": true,
    "pycharm": {
     "name": "#%% md\n"
    }
   },
   "source": [
    "# Analysis of decision trees of the leading GBT model"
   ]
  },
  {
   "cell_type": "code",
   "execution_count": 1,
   "metadata": {
    "pycharm": {
     "name": "#%%\n"
    }
   },
   "outputs": [],
   "source": [
    "import matplotlib.pyplot as plt\n",
    "from dtreeviz import trees\n",
    "from dtreeviz.models.spark_decision_tree import ShadowSparkTree\n",
    "from pyspark.ml.tuning import CrossValidatorModel\n",
    "from pyspark.sql import SparkSession\n",
    "import matplotlib as mpl"
   ]
  },
  {
   "cell_type": "code",
   "execution_count": 2,
   "metadata": {
    "pycharm": {
     "name": "#%%\n"
    }
   },
   "outputs": [],
   "source": [
    "# constants\n",
    "sty = \"seaborn\"\n",
    "mpl.style.use(sty)\n",
    "fontsize = 11\n",
    "fontfamily = \"Arial\"\n",
    "out_path = \"../../out/analysis/model/tree/\"\n",
    "figsize = (8,6)\n",
    "tree_index = 0"
   ]
  },
  {
   "cell_type": "code",
   "execution_count": 3,
   "metadata": {
    "pycharm": {
     "name": "#%%\n"
    }
   },
   "outputs": [
    {
     "name": "stderr",
     "output_type": "stream",
     "text": [
      "22/03/07 14:58:15 WARN Utils: Your hostname, felix-Surface-Book resolves to a loopback address: 127.0.1.1; using 192.168.0.4 instead (on interface wlp3s0)\n",
      "22/03/07 14:58:15 WARN Utils: Set SPARK_LOCAL_IP if you need to bind to another address\n",
      "WARNING: An illegal reflective access operation has occurred\n",
      "WARNING: Illegal reflective access by org.apache.spark.unsafe.Platform (file:/home/felix/spark-3.2.0-bin-hadoop3.2/jars/spark-unsafe_2.12-3.2.0.jar) to constructor java.nio.DirectByteBuffer(long,int)\n",
      "WARNING: Please consider reporting this to the maintainers of org.apache.spark.unsafe.Platform\n",
      "WARNING: Use --illegal-access=warn to enable warnings of further illegal reflective access operations\n",
      "WARNING: All illegal access operations will be denied in a future release\n",
      "Using Spark's default log4j profile: org/apache/spark/log4j-defaults.properties\n",
      "Setting default log level to \"WARN\".\n",
      "To adjust logging level use sc.setLogLevel(newLevel). For SparkR, use setLogLevel(newLevel).\n",
      "22/03/07 14:58:15 WARN NativeCodeLoader: Unable to load native-hadoop library for your platform... using builtin-java classes where applicable\n"
     ]
    }
   ],
   "source": [
    "appName = \"GBT Tree Analysis\"\n",
    "spark = SparkSession\\\n",
    "    .builder\\\n",
    "    .appName(appName)\\\n",
    "    .master(\"local[2]\")\\\n",
    "    .config(\"spark.driver.memory\", \"3g\")\\\n",
    "    .getOrCreate()"
   ]
  },
  {
   "cell_type": "markdown",
   "metadata": {
    "pycharm": {
     "name": "#%% md\n"
    }
   },
   "source": [
    "## Read the data and reproduce the data set"
   ]
  },
  {
   "cell_type": "code",
   "execution_count": 4,
   "metadata": {
    "pycharm": {
     "name": "#%%\n"
    }
   },
   "outputs": [
    {
     "name": "stderr",
     "output_type": "stream",
     "text": [
      "                                                                                \r"
     ]
    }
   ],
   "source": [
    "# read dataset\n",
    "data_name = \"batch_jobs_clean_03inst_1task_00015S_1F\"\n",
    "data_path = f\"../../out/clean/{data_name}/*.csv.gz\"\n",
    "data = spark.read.csv(data_path, header=True, inferSchema=True)\n",
    "# reproduce training set\n",
    "seed = 61\n",
    "fractions = {0: 0.50, 1: 0.50}\n",
    "training = data.sampleBy(col=\"labels\", fractions=fractions, seed=seed)\n",
    "# stratified (50/25/25) split to have 50% of the data for training, 25 for validation (hyper\n",
    "rest = data.subtract(training)\n",
    "fractions = {0: 0.25, 1: 0.25}\n",
    "validation = rest.sampleBy(col = \"labels\", fractions = fractions, seed = seed)\n",
    "test = rest.subtract(validation)"
   ]
  },
  {
   "cell_type": "code",
   "execution_count": 5,
   "metadata": {
    "pycharm": {
     "name": "#%%\n"
    }
   },
   "outputs": [],
   "source": [
    "#(data.count(), training.count(), test.count(), validation.count())"
   ]
  },
  {
   "cell_type": "markdown",
   "metadata": {
    "pycharm": {
     "name": "#%% md\n"
    }
   },
   "source": [
    "# load CV model and get the pipeline"
   ]
  },
  {
   "cell_type": "code",
   "execution_count": 6,
   "metadata": {
    "pycharm": {
     "name": "#%%\n"
    }
   },
   "outputs": [],
   "source": [
    "model_name = \"GBT5CV3parall_priorFeat_tune_maxDepth_Iter_Bins_03inst777Seed\"\n",
    "model_path = f\"../../out/model/dump/final/{model_name}\"\n",
    "# load CV model and get the pipeline\n",
    "cv_model = CrossValidatorModel.load(model_path)\n",
    "pipeline = cv_model.bestModel\n",
    "gbt_classifier = pipeline.stages[-1]\n",
    "# the 20 tree ensemble\n",
    "gbt_trees = gbt_classifier.trees\n",
    "dt_high_weight = gbt_trees[tree_index]\n",
    "some_tree = gbt_trees[1]"
   ]
  },
  {
   "cell_type": "markdown",
   "metadata": {},
   "source": [
    "## transform the training data"
   ]
  },
  {
   "cell_type": "code",
   "execution_count": 7,
   "metadata": {
    "pycharm": {
     "name": "#%%\n"
    }
   },
   "outputs": [
    {
     "name": "stderr",
     "output_type": "stream",
     "text": [
      "22/03/07 14:58:37 WARN package: Truncated the string representation of a plan since it was too large. This behavior can be adjusted by setting 'spark.sql.debug.maxToStringFields'.\n",
      "22/03/07 14:58:38 WARN InstanceBuilder$NativeBLAS: Failed to load implementation from:dev.ludovic.netlib.blas.JNIBLAS\n",
      "22/03/07 14:58:38 WARN InstanceBuilder$NativeBLAS: Failed to load implementation from:dev.ludovic.netlib.blas.ForeignLinkerBLAS\n",
      "                                                                                \r"
     ]
    }
   ],
   "source": [
    "# taken from GBTCVTaskFailBinPred.scala\n",
    "columns = [\"instance_num\",  # number of instances for the task\n",
    "           \"task_type\",  # values 1-12, meaning unknown (ordinal categ. feature)\n",
    "           \"plan_cpu\",  # number of cpus needed by the task, 100 is 1 core\n",
    "           \"plan_mem\",  # normalized memory size, [0, 100]\n",
    "           # from batch instances\n",
    "           \"seq_no\",\n",
    "           \"labels\",\n",
    "           # custom fields I added in trace.py\n",
    "           \"map_reduce\",\n",
    "           # whether this task is a map \"m\" or reduce \"r\" operation (nominal categ. feature) -> 1hot encode\n",
    "           \"sched_intv\",  # the schedule interval (in ?) if this value is set, its a recurring job (batch job)\n",
    "           \"job_exec\",  # the number of execution of this task\n",
    "           \"logical_job_name\"]\n",
    "# get only raw features for transform\n",
    "training_raw = training.select(columns)\n",
    "# transform the test data\n",
    "features = pipeline.stages[5].getInputCols()\n",
    "# we go for \"failed\" instances\n",
    "target = \"labels\"\n",
    "target_name = \"failed\"\n",
    "training_transf = pipeline.transform(training_raw)\\\n",
    "    .toPandas()[features + [target]]"
   ]
  },
  {
   "cell_type": "code",
   "execution_count": 8,
   "metadata": {
    "pycharm": {
     "name": "#%%\n"
    }
   },
   "outputs": [
    {
     "data": {
      "text/html": [
       "<div>\n",
       "<style scoped>\n",
       "    .dataframe tbody tr th:only-of-type {\n",
       "        vertical-align: middle;\n",
       "    }\n",
       "\n",
       "    .dataframe tbody tr th {\n",
       "        vertical-align: top;\n",
       "    }\n",
       "\n",
       "    .dataframe thead th {\n",
       "        text-align: right;\n",
       "    }\n",
       "</style>\n",
       "<table border=\"1\" class=\"dataframe\">\n",
       "  <thead>\n",
       "    <tr style=\"text-align: right;\">\n",
       "      <th></th>\n",
       "      <th>instance_num_imp</th>\n",
       "      <th>task_type_imp</th>\n",
       "      <th>plan_mem_imp</th>\n",
       "      <th>seq_no_imp</th>\n",
       "      <th>sched_intv_imp</th>\n",
       "      <th>job_exec_imp</th>\n",
       "      <th>map_reduce_idx_one_hot</th>\n",
       "      <th>logical_job_name_idx_one_hot</th>\n",
       "      <th>plan_cpu_vec_scaled</th>\n",
       "      <th>labels</th>\n",
       "    </tr>\n",
       "  </thead>\n",
       "  <tbody>\n",
       "    <tr>\n",
       "      <th>0</th>\n",
       "      <td>1</td>\n",
       "      <td>1</td>\n",
       "      <td>0.59</td>\n",
       "      <td>1</td>\n",
       "      <td>1</td>\n",
       "      <td>47351</td>\n",
       "      <td>(0.0)</td>\n",
       "      <td>(0.0, 0.0, 0.0, 0.0, 0.0, 0.0, 0.0, 0.0, 0.0, ...</td>\n",
       "      <td>[0.09547738693467338]</td>\n",
       "      <td>1</td>\n",
       "    </tr>\n",
       "    <tr>\n",
       "      <th>1</th>\n",
       "      <td>80</td>\n",
       "      <td>1</td>\n",
       "      <td>0.30</td>\n",
       "      <td>1</td>\n",
       "      <td>3</td>\n",
       "      <td>121196</td>\n",
       "      <td>(1.0)</td>\n",
       "      <td>(0.0, 0.0, 0.0, 1.0, 0.0, 0.0, 0.0, 0.0, 0.0, ...</td>\n",
       "      <td>[0.09547738693467338]</td>\n",
       "      <td>0</td>\n",
       "    </tr>\n",
       "    <tr>\n",
       "      <th>2</th>\n",
       "      <td>3438</td>\n",
       "      <td>1</td>\n",
       "      <td>0.30</td>\n",
       "      <td>1</td>\n",
       "      <td>1</td>\n",
       "      <td>17975</td>\n",
       "      <td>(1.0)</td>\n",
       "      <td>(0.0, 0.0, 0.0, 0.0, 0.0, 0.0, 0.0, 0.0, 0.0, ...</td>\n",
       "      <td>[0.09547738693467338]</td>\n",
       "      <td>0</td>\n",
       "    </tr>\n",
       "    <tr>\n",
       "      <th>3</th>\n",
       "      <td>5747</td>\n",
       "      <td>1</td>\n",
       "      <td>0.30</td>\n",
       "      <td>1</td>\n",
       "      <td>3</td>\n",
       "      <td>8504</td>\n",
       "      <td>(1.0)</td>\n",
       "      <td>(0.0, 0.0, 0.0, 0.0, 0.0, 0.0, 0.0, 0.0, 0.0, ...</td>\n",
       "      <td>[0.09547738693467338]</td>\n",
       "      <td>0</td>\n",
       "    </tr>\n",
       "    <tr>\n",
       "      <th>4</th>\n",
       "      <td>37881</td>\n",
       "      <td>1</td>\n",
       "      <td>0.68</td>\n",
       "      <td>1</td>\n",
       "      <td>1</td>\n",
       "      <td>85065</td>\n",
       "      <td>(1.0)</td>\n",
       "      <td>(0.0, 1.0, 0.0, 0.0, 0.0, 0.0, 0.0, 0.0, 0.0, ...</td>\n",
       "      <td>[0.04522613065326633]</td>\n",
       "      <td>0</td>\n",
       "    </tr>\n",
       "    <tr>\n",
       "      <th>...</th>\n",
       "      <td>...</td>\n",
       "      <td>...</td>\n",
       "      <td>...</td>\n",
       "      <td>...</td>\n",
       "      <td>...</td>\n",
       "      <td>...</td>\n",
       "      <td>...</td>\n",
       "      <td>...</td>\n",
       "      <td>...</td>\n",
       "      <td>...</td>\n",
       "    </tr>\n",
       "    <tr>\n",
       "      <th>372376</th>\n",
       "      <td>351</td>\n",
       "      <td>1</td>\n",
       "      <td>0.39</td>\n",
       "      <td>1</td>\n",
       "      <td>311</td>\n",
       "      <td>1088</td>\n",
       "      <td>(0.0)</td>\n",
       "      <td>(0.0, 0.0, 0.0, 0.0, 0.0, 0.0, 0.0, 0.0, 0.0, ...</td>\n",
       "      <td>[0.04522613065326633]</td>\n",
       "      <td>0</td>\n",
       "    </tr>\n",
       "    <tr>\n",
       "      <th>372377</th>\n",
       "      <td>53667</td>\n",
       "      <td>1</td>\n",
       "      <td>0.30</td>\n",
       "      <td>1</td>\n",
       "      <td>6</td>\n",
       "      <td>52994</td>\n",
       "      <td>(1.0)</td>\n",
       "      <td>(1.0, 0.0, 0.0, 0.0, 0.0, 0.0, 0.0, 0.0, 0.0, ...</td>\n",
       "      <td>[0.09547738693467338]</td>\n",
       "      <td>1</td>\n",
       "    </tr>\n",
       "    <tr>\n",
       "      <th>372378</th>\n",
       "      <td>7458</td>\n",
       "      <td>8</td>\n",
       "      <td>0.08</td>\n",
       "      <td>1</td>\n",
       "      <td>8</td>\n",
       "      <td>329</td>\n",
       "      <td>(1.0)</td>\n",
       "      <td>(0.0, 0.0, 0.0, 0.0, 0.0, 0.0, 0.0, 0.0, 0.0, ...</td>\n",
       "      <td>[0.19597989949748745]</td>\n",
       "      <td>1</td>\n",
       "    </tr>\n",
       "    <tr>\n",
       "      <th>372379</th>\n",
       "      <td>14782</td>\n",
       "      <td>1</td>\n",
       "      <td>0.49</td>\n",
       "      <td>1</td>\n",
       "      <td>8</td>\n",
       "      <td>76705</td>\n",
       "      <td>(1.0)</td>\n",
       "      <td>(0.0, 0.0, 0.0, 0.0, 0.0, 0.0, 0.0, 0.0, 0.0, ...</td>\n",
       "      <td>[0.09547738693467338]</td>\n",
       "      <td>1</td>\n",
       "    </tr>\n",
       "    <tr>\n",
       "      <th>372380</th>\n",
       "      <td>53667</td>\n",
       "      <td>1</td>\n",
       "      <td>0.30</td>\n",
       "      <td>1</td>\n",
       "      <td>2</td>\n",
       "      <td>54287</td>\n",
       "      <td>(1.0)</td>\n",
       "      <td>(1.0, 0.0, 0.0, 0.0, 0.0, 0.0, 0.0, 0.0, 0.0, ...</td>\n",
       "      <td>[0.09547738693467338]</td>\n",
       "      <td>1</td>\n",
       "    </tr>\n",
       "  </tbody>\n",
       "</table>\n",
       "<p>372381 rows × 10 columns</p>\n",
       "</div>"
      ],
      "text/plain": [
       "        instance_num_imp  task_type_imp  plan_mem_imp  seq_no_imp  \\\n",
       "0                      1              1          0.59           1   \n",
       "1                     80              1          0.30           1   \n",
       "2                   3438              1          0.30           1   \n",
       "3                   5747              1          0.30           1   \n",
       "4                  37881              1          0.68           1   \n",
       "...                  ...            ...           ...         ...   \n",
       "372376               351              1          0.39           1   \n",
       "372377             53667              1          0.30           1   \n",
       "372378              7458              8          0.08           1   \n",
       "372379             14782              1          0.49           1   \n",
       "372380             53667              1          0.30           1   \n",
       "\n",
       "        sched_intv_imp  job_exec_imp map_reduce_idx_one_hot  \\\n",
       "0                    1         47351                  (0.0)   \n",
       "1                    3        121196                  (1.0)   \n",
       "2                    1         17975                  (1.0)   \n",
       "3                    3          8504                  (1.0)   \n",
       "4                    1         85065                  (1.0)   \n",
       "...                ...           ...                    ...   \n",
       "372376             311          1088                  (0.0)   \n",
       "372377               6         52994                  (1.0)   \n",
       "372378               8           329                  (1.0)   \n",
       "372379               8         76705                  (1.0)   \n",
       "372380               2         54287                  (1.0)   \n",
       "\n",
       "                             logical_job_name_idx_one_hot  \\\n",
       "0       (0.0, 0.0, 0.0, 0.0, 0.0, 0.0, 0.0, 0.0, 0.0, ...   \n",
       "1       (0.0, 0.0, 0.0, 1.0, 0.0, 0.0, 0.0, 0.0, 0.0, ...   \n",
       "2       (0.0, 0.0, 0.0, 0.0, 0.0, 0.0, 0.0, 0.0, 0.0, ...   \n",
       "3       (0.0, 0.0, 0.0, 0.0, 0.0, 0.0, 0.0, 0.0, 0.0, ...   \n",
       "4       (0.0, 1.0, 0.0, 0.0, 0.0, 0.0, 0.0, 0.0, 0.0, ...   \n",
       "...                                                   ...   \n",
       "372376  (0.0, 0.0, 0.0, 0.0, 0.0, 0.0, 0.0, 0.0, 0.0, ...   \n",
       "372377  (1.0, 0.0, 0.0, 0.0, 0.0, 0.0, 0.0, 0.0, 0.0, ...   \n",
       "372378  (0.0, 0.0, 0.0, 0.0, 0.0, 0.0, 0.0, 0.0, 0.0, ...   \n",
       "372379  (0.0, 0.0, 0.0, 0.0, 0.0, 0.0, 0.0, 0.0, 0.0, ...   \n",
       "372380  (1.0, 0.0, 0.0, 0.0, 0.0, 0.0, 0.0, 0.0, 0.0, ...   \n",
       "\n",
       "          plan_cpu_vec_scaled  labels  \n",
       "0       [0.09547738693467338]       1  \n",
       "1       [0.09547738693467338]       0  \n",
       "2       [0.09547738693467338]       0  \n",
       "3       [0.09547738693467338]       0  \n",
       "4       [0.04522613065326633]       0  \n",
       "...                       ...     ...  \n",
       "372376  [0.04522613065326633]       0  \n",
       "372377  [0.09547738693467338]       1  \n",
       "372378  [0.19597989949748745]       1  \n",
       "372379  [0.09547738693467338]       1  \n",
       "372380  [0.09547738693467338]       1  \n",
       "\n",
       "[372381 rows x 10 columns]"
      ]
     },
     "execution_count": 8,
     "metadata": {},
     "output_type": "execute_result"
    }
   ],
   "source": [
    "training_transf"
   ]
  },
  {
   "cell_type": "markdown",
   "metadata": {
    "pycharm": {
     "name": "#%% md\n"
    }
   },
   "source": [
    "# plot decision tree regression model"
   ]
  },
  {
   "cell_type": "code",
   "execution_count": 9,
   "metadata": {
    "pycharm": {
     "name": "#%%\n"
    }
   },
   "outputs": [],
   "source": [
    "# define the shadow tree for the decision tree regressor\n",
    "spark_dtree = ShadowSparkTree(\n",
    "    tree_model=dt_high_weight,\n",
    "    x_data=training_transf[features],\n",
    "    y_data=training_transf[target],\n",
    "    feature_names=features,\n",
    "    target_name=target_name\n",
    ")"
   ]
  },
  {
   "cell_type": "code",
   "execution_count": 10,
   "metadata": {
    "pycharm": {
     "name": "#%%\n"
    }
   },
   "outputs": [],
   "source": [
    "# TODO: fix this\n",
    "#trees.dtreeviz(\n",
    "#    tree_model=spark_dtree,\n",
    "#    tree_index=tree_index,\n",
    "#    show_just_path=True\n",
    "#)"
   ]
  },
  {
   "cell_type": "markdown",
   "metadata": {
    "pycharm": {
     "name": "#%% md\n"
    }
   },
   "source": [
    "## Visualize the number of data samples from each leaf\n",
    "Interpreting leaf samples can help us to see how the data is spread over the tree:\n",
    "- if we have a leaf with many samples and a good impurity, it means that we can be pretty confident\n",
    "on its prediction.\n",
    "- if we have a leaf with few samples and a good impurity, we cannot be very confident on its predicion and\n",
    "it could be a sign of overfitting.\n",
    "- by visualizing leaf samples, we can easily discover important leaves . Using describe_node_sample() function we\n",
    "can take all its samples and discover common patterns between leaf samples.\n",
    "- if the tree contains a lot of leaves and we want a general overview about leaves samples, we can use the\n",
    "parameter display_type='hist' to display the histogram of leaf samples.\n",
    "\n",
    "There is the option to filter the leaves with samples between 'min_samples' and 'max_samples'. This is helpful\n",
    "especially when you want to investigate leaves with number of samples from a specific range.\n",
    "\n",
    "Note : If the x_data and y_data are the datasets used to trained the model, then we will investigate the tree model\n",
    "as it was trained. We can give other x_data and y_data datasets, ex. validation dataset, to see how the new data is\n",
    "spread over the tree.\n"
   ]
  },
  {
   "cell_type": "code",
   "execution_count": 18,
   "metadata": {
    "pycharm": {
     "name": "#%%\n"
    }
   },
   "outputs": [
    {
     "data": {
      "image/png": "[encoded data removed]",
      "text/plain": [
       "<Figure size 576x432 with 1 Axes>"
      ]
     },
     "metadata": {},
     "output_type": "display_data"
    }
   ],
   "source": [
    "plot_name = \"viz_leaf_samples\"\n",
    "trees.viz_leaf_samples(\n",
    "    tree_model=spark_dtree,\n",
    "    tree_index=tree_index,\n",
    "    display_type=\"plot\",\n",
    "    figsize=figsize,\n",
    "    grid=True,\n",
    "    #min_samples=400,\n",
    "    fontsize=fontsize,\n",
    "    fontname=fontfamily\n",
    ")\n",
    "\n",
    "#plt.xticks(ticks=range(1,61,2), labels=range(1,61,2))\n",
    "#plt.ylabel(\"Samples count\")\n",
    "plt.xlabel(\"Leaf IDs\")\n",
    "path = out_path + plot_name + \".pdf\"\n",
    "#plt.title(\"leaf sample distribution\")\n",
    "plt.savefig(path, format=\"pdf\")"
   ]
  },
  {
   "cell_type": "markdown",
   "metadata": {
    "pycharm": {
     "name": "#%% md\n"
    }
   },
   "source": [
    "## Visualize leaves criterion\n",
    "- This information shows the leaf performance/confidence for its predictions, namely how pure or\n",
    "    impure are the samples from each leaf\n",
    "- it shows the information gain per leaf\n",
    "- Each leaf performance, in the end, will determine the general tree performance\n",
    "- This visualisation can be used together with viz_leaf_samples() for a better leaf interpretation. For example,\n",
    "    a leaf with good confidence, but few samples, can be a sign of overfitting. The best scenario would be to have a\n",
    "    leaf with good confidence and also a lot of samples."
   ]
  },
  {
   "cell_type": "code",
   "execution_count": 15,
   "metadata": {
    "pycharm": {
     "name": "#%%\n"
    }
   },
   "outputs": [
    {
     "data": {
      "image/png": "[encoded data removed]",
      "text/plain": [
       "<Figure size 576x432 with 1 Axes>"
      ]
     },
     "metadata": {},
     "output_type": "display_data"
    }
   ],
   "source": [
    "plot_name=\"viz_leaf_criterion\"\n",
    "trees.viz_leaf_criterion(\n",
    "    tree_model=spark_dtree,\n",
    "    tree_index=tree_index,\n",
    "    figsize=figsize,\n",
    "    display_type=\"plot\",\n",
    "    grid=True,\n",
    "    fontsize=fontsize,\n",
    "    fontname=fontfamily\n",
    ")\n",
    "\n",
    "# leaf 6 is good\n",
    "# those nodes with no samples have negative variance\n",
    "plt.ylabel(\"Variance\")\n",
    "#ticks = [5,6,8,13,23,30,31,36,37,40,45,52,53,57,58]\n",
    "#plt.xticks(ticks=ticks, labels=ticks)\n",
    "plt.xlabel(\"Leaf IDs\")\n",
    "path = out_path + plot_name + \".pdf\"\n",
    "#plt.title(\"Impurity (variance) per leaf of the tree\")\n",
    "plt.savefig(path, format=\"pdf\")"
   ]
  },
  {
   "cell_type": "markdown",
   "metadata": {},
   "source": [
    "## Visualize leaf target distribution for regression decision trees\n"
   ]
  },
  {
   "cell_type": "code",
   "execution_count": 13,
   "metadata": {
    "pycharm": {
     "name": "#%%\n"
    }
   },
   "outputs": [
    {
     "ename": "KeyboardInterrupt",
     "evalue": "",
     "output_type": "error",
     "traceback": [
      "\u001B[0;31m---------------------------------------------------------------------------\u001B[0m",
      "\u001B[0;31mKeyboardInterrupt\u001B[0m                         Traceback (most recent call last)",
      "\u001B[0;32m/tmp/ipykernel_4728/4187849071.py\u001B[0m in \u001B[0;36m<module>\u001B[0;34m\u001B[0m\n\u001B[1;32m      1\u001B[0m \u001B[0mplot_name\u001B[0m \u001B[0;34m=\u001B[0m \u001B[0;34m\"viz_leaf_target\"\u001B[0m\u001B[0;34m\u001B[0m\u001B[0;34m\u001B[0m\u001B[0m\n\u001B[0;32m----> 2\u001B[0;31m trees.viz_leaf_target(\n\u001B[0m\u001B[1;32m      3\u001B[0m     \u001B[0mtree_model\u001B[0m\u001B[0;34m=\u001B[0m\u001B[0mspark_dtree\u001B[0m\u001B[0;34m,\u001B[0m\u001B[0;34m\u001B[0m\u001B[0;34m\u001B[0m\u001B[0m\n\u001B[1;32m      4\u001B[0m     \u001B[0mtree_index\u001B[0m\u001B[0;34m=\u001B[0m\u001B[0mtree_index\u001B[0m\u001B[0;34m,\u001B[0m\u001B[0;34m\u001B[0m\u001B[0;34m\u001B[0m\u001B[0m\n\u001B[1;32m      5\u001B[0m     \u001B[0mfigsize\u001B[0m\u001B[0;34m=\u001B[0m\u001B[0mfigsize\u001B[0m\u001B[0;34m,\u001B[0m\u001B[0;34m\u001B[0m\u001B[0;34m\u001B[0m\u001B[0m\n",
      "\u001B[0;32m~/.local/lib/python3.8/site-packages/dtreeviz/trees.py\u001B[0m in \u001B[0;36mviz_leaf_target\u001B[0;34m(tree_model, x_data, y_data, feature_names, target_name, tree_index, show_leaf_labels, colors, markersize, label_fontsize, fontname, precision, figsize, grid, prediction_line_width)\u001B[0m\n\u001B[1;32m   1765\u001B[0m     shadow_tree = ShadowDecTree.get_shadow_tree(tree_model, x_data, y_data, feature_names, target_name, None,\n\u001B[1;32m   1766\u001B[0m                                                 tree_index)\n\u001B[0;32m-> 1767\u001B[0;31m     \u001B[0mx\u001B[0m\u001B[0;34m,\u001B[0m \u001B[0my\u001B[0m\u001B[0;34m,\u001B[0m \u001B[0mmeans\u001B[0m\u001B[0;34m,\u001B[0m \u001B[0mmeans_range\u001B[0m\u001B[0;34m,\u001B[0m \u001B[0my_labels\u001B[0m \u001B[0;34m=\u001B[0m \u001B[0m_get_leaf_target_input\u001B[0m\u001B[0;34m(\u001B[0m\u001B[0mshadow_tree\u001B[0m\u001B[0;34m,\u001B[0m \u001B[0mprecision\u001B[0m\u001B[0;34m)\u001B[0m\u001B[0;34m\u001B[0m\u001B[0;34m\u001B[0m\u001B[0m\n\u001B[0m\u001B[1;32m   1768\u001B[0m     \u001B[0mcolors\u001B[0m \u001B[0;34m=\u001B[0m \u001B[0madjust_colors\u001B[0m\u001B[0;34m(\u001B[0m\u001B[0mcolors\u001B[0m\u001B[0;34m)\u001B[0m\u001B[0;34m\u001B[0m\u001B[0;34m\u001B[0m\u001B[0m\n\u001B[1;32m   1769\u001B[0m     \u001B[0mfigsize\u001B[0m \u001B[0;34m=\u001B[0m \u001B[0;34m(\u001B[0m\u001B[0mnp\u001B[0m\u001B[0;34m.\u001B[0m\u001B[0mlog\u001B[0m\u001B[0;34m(\u001B[0m\u001B[0mlen\u001B[0m\u001B[0;34m(\u001B[0m\u001B[0my_labels\u001B[0m\u001B[0;34m)\u001B[0m\u001B[0;34m)\u001B[0m\u001B[0;34m,\u001B[0m \u001B[0mnp\u001B[0m\u001B[0;34m.\u001B[0m\u001B[0mlog\u001B[0m\u001B[0;34m(\u001B[0m\u001B[0mlen\u001B[0m\u001B[0;34m(\u001B[0m\u001B[0my_labels\u001B[0m\u001B[0;34m)\u001B[0m\u001B[0;34m)\u001B[0m \u001B[0;34m*\u001B[0m \u001B[0;36m1.5\u001B[0m\u001B[0;34m)\u001B[0m \u001B[0;32mif\u001B[0m \u001B[0mfigsize\u001B[0m \u001B[0;32mis\u001B[0m \u001B[0;32mNone\u001B[0m \u001B[0;32melse\u001B[0m \u001B[0mfigsize\u001B[0m\u001B[0;34m\u001B[0m\u001B[0;34m\u001B[0m\u001B[0m\n",
      "\u001B[0;32m~/.local/lib/python3.8/site-packages/dtreeviz/trees.py\u001B[0m in \u001B[0;36m_get_leaf_target_input\u001B[0;34m(shadow_tree, precision)\u001B[0m\n\u001B[1;32m   1692\u001B[0m     \u001B[0msigma\u001B[0m \u001B[0;34m=\u001B[0m \u001B[0;36m.05\u001B[0m\u001B[0;34m\u001B[0m\u001B[0;34m\u001B[0m\u001B[0m\n\u001B[1;32m   1693\u001B[0m     \u001B[0;32mfor\u001B[0m \u001B[0mi\u001B[0m\u001B[0;34m,\u001B[0m \u001B[0mnode\u001B[0m \u001B[0;32min\u001B[0m \u001B[0menumerate\u001B[0m\u001B[0;34m(\u001B[0m\u001B[0mshadow_tree\u001B[0m\u001B[0;34m.\u001B[0m\u001B[0mleaves\u001B[0m\u001B[0;34m)\u001B[0m\u001B[0;34m:\u001B[0m\u001B[0;34m\u001B[0m\u001B[0;34m\u001B[0m\u001B[0m\n\u001B[0;32m-> 1694\u001B[0;31m         \u001B[0mleaf_index_sample\u001B[0m \u001B[0;34m=\u001B[0m \u001B[0mnode\u001B[0m\u001B[0;34m.\u001B[0m\u001B[0msamples\u001B[0m\u001B[0;34m(\u001B[0m\u001B[0;34m)\u001B[0m\u001B[0;34m\u001B[0m\u001B[0;34m\u001B[0m\u001B[0m\n\u001B[0m\u001B[1;32m   1695\u001B[0m         \u001B[0mleaf_target\u001B[0m \u001B[0;34m=\u001B[0m \u001B[0mshadow_tree\u001B[0m\u001B[0;34m.\u001B[0m\u001B[0my_data\u001B[0m\u001B[0;34m[\u001B[0m\u001B[0mleaf_index_sample\u001B[0m\u001B[0;34m]\u001B[0m\u001B[0;34m\u001B[0m\u001B[0;34m\u001B[0m\u001B[0m\n\u001B[1;32m   1696\u001B[0m         \u001B[0mleaf_target_mean\u001B[0m \u001B[0;34m=\u001B[0m \u001B[0mnp\u001B[0m\u001B[0;34m.\u001B[0m\u001B[0mmean\u001B[0m\u001B[0;34m(\u001B[0m\u001B[0mleaf_target\u001B[0m\u001B[0;34m)\u001B[0m\u001B[0;34m\u001B[0m\u001B[0;34m\u001B[0m\u001B[0m\n",
      "\u001B[0;32m~/.local/lib/python3.8/site-packages/dtreeviz/models/shadow_decision_tree.py\u001B[0m in \u001B[0;36msamples\u001B[0;34m(self)\u001B[0m\n\u001B[1;32m    518\u001B[0m         \u001B[0;34m\"\"\"Returns samples indexes from this node\"\"\"\u001B[0m\u001B[0;34m\u001B[0m\u001B[0;34m\u001B[0m\u001B[0m\n\u001B[1;32m    519\u001B[0m \u001B[0;34m\u001B[0m\u001B[0m\n\u001B[0;32m--> 520\u001B[0;31m         \u001B[0;32mreturn\u001B[0m \u001B[0mself\u001B[0m\u001B[0;34m.\u001B[0m\u001B[0mshadow_tree\u001B[0m\u001B[0;34m.\u001B[0m\u001B[0mget_node_samples\u001B[0m\u001B[0;34m(\u001B[0m\u001B[0;34m)\u001B[0m\u001B[0;34m[\u001B[0m\u001B[0mself\u001B[0m\u001B[0;34m.\u001B[0m\u001B[0mid\u001B[0m\u001B[0;34m]\u001B[0m\u001B[0;34m\u001B[0m\u001B[0;34m\u001B[0m\u001B[0m\n\u001B[0m\u001B[1;32m    521\u001B[0m \u001B[0;34m\u001B[0m\u001B[0m\n\u001B[1;32m    522\u001B[0m     \u001B[0;32mdef\u001B[0m \u001B[0mnsamples\u001B[0m\u001B[0;34m(\u001B[0m\u001B[0mself\u001B[0m\u001B[0;34m)\u001B[0m \u001B[0;34m->\u001B[0m \u001B[0mint\u001B[0m\u001B[0;34m:\u001B[0m\u001B[0;34m\u001B[0m\u001B[0;34m\u001B[0m\u001B[0m\n",
      "\u001B[0;32m~/.local/lib/python3.8/site-packages/dtreeviz/models/spark_decision_tree.py\u001B[0m in \u001B[0;36mget_node_samples\u001B[0;34m(self)\u001B[0m\n\u001B[1;32m    123\u001B[0m         \u001B[0mnode_to_samples\u001B[0m \u001B[0;34m=\u001B[0m \u001B[0mdefaultdict\u001B[0m\u001B[0;34m(\u001B[0m\u001B[0mlist\u001B[0m\u001B[0;34m)\u001B[0m\u001B[0;34m\u001B[0m\u001B[0;34m\u001B[0m\u001B[0m\n\u001B[1;32m    124\u001B[0m         \u001B[0;32mfor\u001B[0m \u001B[0mi\u001B[0m \u001B[0;32min\u001B[0m \u001B[0mrange\u001B[0m\u001B[0;34m(\u001B[0m\u001B[0mself\u001B[0m\u001B[0;34m.\u001B[0m\u001B[0mx_data\u001B[0m\u001B[0;34m.\u001B[0m\u001B[0mshape\u001B[0m\u001B[0;34m[\u001B[0m\u001B[0;36m0\u001B[0m\u001B[0;34m]\u001B[0m\u001B[0;34m)\u001B[0m\u001B[0;34m:\u001B[0m\u001B[0;34m\u001B[0m\u001B[0;34m\u001B[0m\u001B[0m\n\u001B[0;32m--> 125\u001B[0;31m             \u001B[0mpath\u001B[0m \u001B[0;34m=\u001B[0m \u001B[0mself\u001B[0m\u001B[0;34m.\u001B[0m\u001B[0mpredict_path\u001B[0m\u001B[0;34m(\u001B[0m\u001B[0mself\u001B[0m\u001B[0;34m.\u001B[0m\u001B[0mx_data\u001B[0m\u001B[0;34m[\u001B[0m\u001B[0mi\u001B[0m\u001B[0;34m]\u001B[0m\u001B[0;34m)\u001B[0m\u001B[0;34m\u001B[0m\u001B[0;34m\u001B[0m\u001B[0m\n\u001B[0m\u001B[1;32m    126\u001B[0m             \u001B[0;32mfor\u001B[0m \u001B[0mnode\u001B[0m \u001B[0;32min\u001B[0m \u001B[0mpath\u001B[0m\u001B[0;34m:\u001B[0m\u001B[0;34m\u001B[0m\u001B[0;34m\u001B[0m\u001B[0m\n\u001B[1;32m    127\u001B[0m                 \u001B[0mnode_to_samples\u001B[0m\u001B[0;34m[\u001B[0m\u001B[0mnode\u001B[0m\u001B[0;34m.\u001B[0m\u001B[0mid\u001B[0m\u001B[0;34m]\u001B[0m\u001B[0;34m.\u001B[0m\u001B[0mappend\u001B[0m\u001B[0;34m(\u001B[0m\u001B[0mi\u001B[0m\u001B[0;34m)\u001B[0m\u001B[0;34m\u001B[0m\u001B[0;34m\u001B[0m\u001B[0m\n",
      "\u001B[0;32m~/.local/lib/python3.8/site-packages/dtreeviz/models/shadow_decision_tree.py\u001B[0m in \u001B[0;36mpredict_path\u001B[0;34m(self, x)\u001B[0m\n\u001B[1;32m    338\u001B[0m \u001B[0;34m\u001B[0m\u001B[0m\n\u001B[1;32m    339\u001B[0m         \u001B[0mpath\u001B[0m \u001B[0;34m=\u001B[0m \u001B[0;34m[\u001B[0m\u001B[0;34m]\u001B[0m\u001B[0;34m\u001B[0m\u001B[0;34m\u001B[0m\u001B[0m\n\u001B[0;32m--> 340\u001B[0;31m         \u001B[0mwalk\u001B[0m\u001B[0;34m(\u001B[0m\u001B[0mself\u001B[0m\u001B[0;34m.\u001B[0m\u001B[0mroot\u001B[0m\u001B[0;34m,\u001B[0m \u001B[0mx\u001B[0m\u001B[0;34m,\u001B[0m \u001B[0mpath\u001B[0m\u001B[0;34m)\u001B[0m\u001B[0;34m\u001B[0m\u001B[0;34m\u001B[0m\u001B[0m\n\u001B[0m\u001B[1;32m    341\u001B[0m         \u001B[0;32mreturn\u001B[0m \u001B[0mpath\u001B[0m\u001B[0;34m\u001B[0m\u001B[0;34m\u001B[0m\u001B[0m\n\u001B[1;32m    342\u001B[0m \u001B[0;34m\u001B[0m\u001B[0m\n",
      "\u001B[0;32m~/.local/lib/python3.8/site-packages/dtreeviz/models/shadow_decision_tree.py\u001B[0m in \u001B[0;36mwalk\u001B[0;34m(t, x, path)\u001B[0m\n\u001B[1;32m    335\u001B[0m             \u001B[0;32mif\u001B[0m \u001B[0mself\u001B[0m\u001B[0;34m.\u001B[0m\u001B[0mshouldGoLeftAtSplit\u001B[0m\u001B[0;34m(\u001B[0m\u001B[0mt\u001B[0m\u001B[0;34m.\u001B[0m\u001B[0mid\u001B[0m\u001B[0;34m,\u001B[0m \u001B[0mx\u001B[0m\u001B[0;34m[\u001B[0m\u001B[0mt\u001B[0m\u001B[0;34m.\u001B[0m\u001B[0mfeature\u001B[0m\u001B[0;34m(\u001B[0m\u001B[0;34m)\u001B[0m\u001B[0;34m]\u001B[0m\u001B[0;34m)\u001B[0m\u001B[0;34m:\u001B[0m\u001B[0;34m\u001B[0m\u001B[0;34m\u001B[0m\u001B[0m\n\u001B[1;32m    336\u001B[0m                 \u001B[0;32mreturn\u001B[0m \u001B[0mwalk\u001B[0m\u001B[0;34m(\u001B[0m\u001B[0mt\u001B[0m\u001B[0;34m.\u001B[0m\u001B[0mleft\u001B[0m\u001B[0;34m,\u001B[0m \u001B[0mx\u001B[0m\u001B[0;34m,\u001B[0m \u001B[0mpath\u001B[0m\u001B[0;34m)\u001B[0m\u001B[0;34m\u001B[0m\u001B[0;34m\u001B[0m\u001B[0m\n\u001B[0;32m--> 337\u001B[0;31m             \u001B[0;32mreturn\u001B[0m \u001B[0mwalk\u001B[0m\u001B[0;34m(\u001B[0m\u001B[0mt\u001B[0m\u001B[0;34m.\u001B[0m\u001B[0mright\u001B[0m\u001B[0;34m,\u001B[0m \u001B[0mx\u001B[0m\u001B[0;34m,\u001B[0m \u001B[0mpath\u001B[0m\u001B[0;34m)\u001B[0m\u001B[0;34m\u001B[0m\u001B[0;34m\u001B[0m\u001B[0m\n\u001B[0m\u001B[1;32m    338\u001B[0m \u001B[0;34m\u001B[0m\u001B[0m\n\u001B[1;32m    339\u001B[0m         \u001B[0mpath\u001B[0m \u001B[0;34m=\u001B[0m \u001B[0;34m[\u001B[0m\u001B[0;34m]\u001B[0m\u001B[0;34m\u001B[0m\u001B[0;34m\u001B[0m\u001B[0m\n",
      "\u001B[0;32m~/.local/lib/python3.8/site-packages/dtreeviz/models/shadow_decision_tree.py\u001B[0m in \u001B[0;36mwalk\u001B[0;34m(t, x, path)\u001B[0m\n\u001B[1;32m    334\u001B[0m                 \u001B[0;32mreturn\u001B[0m \u001B[0;32mNone\u001B[0m\u001B[0;34m\u001B[0m\u001B[0;34m\u001B[0m\u001B[0m\n\u001B[1;32m    335\u001B[0m             \u001B[0;32mif\u001B[0m \u001B[0mself\u001B[0m\u001B[0;34m.\u001B[0m\u001B[0mshouldGoLeftAtSplit\u001B[0m\u001B[0;34m(\u001B[0m\u001B[0mt\u001B[0m\u001B[0;34m.\u001B[0m\u001B[0mid\u001B[0m\u001B[0;34m,\u001B[0m \u001B[0mx\u001B[0m\u001B[0;34m[\u001B[0m\u001B[0mt\u001B[0m\u001B[0;34m.\u001B[0m\u001B[0mfeature\u001B[0m\u001B[0;34m(\u001B[0m\u001B[0;34m)\u001B[0m\u001B[0;34m]\u001B[0m\u001B[0;34m)\u001B[0m\u001B[0;34m:\u001B[0m\u001B[0;34m\u001B[0m\u001B[0;34m\u001B[0m\u001B[0m\n\u001B[0;32m--> 336\u001B[0;31m                 \u001B[0;32mreturn\u001B[0m \u001B[0mwalk\u001B[0m\u001B[0;34m(\u001B[0m\u001B[0mt\u001B[0m\u001B[0;34m.\u001B[0m\u001B[0mleft\u001B[0m\u001B[0;34m,\u001B[0m \u001B[0mx\u001B[0m\u001B[0;34m,\u001B[0m \u001B[0mpath\u001B[0m\u001B[0;34m)\u001B[0m\u001B[0;34m\u001B[0m\u001B[0;34m\u001B[0m\u001B[0m\n\u001B[0m\u001B[1;32m    337\u001B[0m             \u001B[0;32mreturn\u001B[0m \u001B[0mwalk\u001B[0m\u001B[0;34m(\u001B[0m\u001B[0mt\u001B[0m\u001B[0;34m.\u001B[0m\u001B[0mright\u001B[0m\u001B[0;34m,\u001B[0m \u001B[0mx\u001B[0m\u001B[0;34m,\u001B[0m \u001B[0mpath\u001B[0m\u001B[0;34m)\u001B[0m\u001B[0;34m\u001B[0m\u001B[0;34m\u001B[0m\u001B[0m\n\u001B[1;32m    338\u001B[0m \u001B[0;34m\u001B[0m\u001B[0m\n",
      "\u001B[0;32m~/.local/lib/python3.8/site-packages/dtreeviz/models/shadow_decision_tree.py\u001B[0m in \u001B[0;36mwalk\u001B[0;34m(t, x, path)\u001B[0m\n\u001B[1;32m    334\u001B[0m                 \u001B[0;32mreturn\u001B[0m \u001B[0;32mNone\u001B[0m\u001B[0;34m\u001B[0m\u001B[0;34m\u001B[0m\u001B[0m\n\u001B[1;32m    335\u001B[0m             \u001B[0;32mif\u001B[0m \u001B[0mself\u001B[0m\u001B[0;34m.\u001B[0m\u001B[0mshouldGoLeftAtSplit\u001B[0m\u001B[0;34m(\u001B[0m\u001B[0mt\u001B[0m\u001B[0;34m.\u001B[0m\u001B[0mid\u001B[0m\u001B[0;34m,\u001B[0m \u001B[0mx\u001B[0m\u001B[0;34m[\u001B[0m\u001B[0mt\u001B[0m\u001B[0;34m.\u001B[0m\u001B[0mfeature\u001B[0m\u001B[0;34m(\u001B[0m\u001B[0;34m)\u001B[0m\u001B[0;34m]\u001B[0m\u001B[0;34m)\u001B[0m\u001B[0;34m:\u001B[0m\u001B[0;34m\u001B[0m\u001B[0;34m\u001B[0m\u001B[0m\n\u001B[0;32m--> 336\u001B[0;31m                 \u001B[0;32mreturn\u001B[0m \u001B[0mwalk\u001B[0m\u001B[0;34m(\u001B[0m\u001B[0mt\u001B[0m\u001B[0;34m.\u001B[0m\u001B[0mleft\u001B[0m\u001B[0;34m,\u001B[0m \u001B[0mx\u001B[0m\u001B[0;34m,\u001B[0m \u001B[0mpath\u001B[0m\u001B[0;34m)\u001B[0m\u001B[0;34m\u001B[0m\u001B[0;34m\u001B[0m\u001B[0m\n\u001B[0m\u001B[1;32m    337\u001B[0m             \u001B[0;32mreturn\u001B[0m \u001B[0mwalk\u001B[0m\u001B[0;34m(\u001B[0m\u001B[0mt\u001B[0m\u001B[0;34m.\u001B[0m\u001B[0mright\u001B[0m\u001B[0;34m,\u001B[0m \u001B[0mx\u001B[0m\u001B[0;34m,\u001B[0m \u001B[0mpath\u001B[0m\u001B[0;34m)\u001B[0m\u001B[0;34m\u001B[0m\u001B[0;34m\u001B[0m\u001B[0m\n\u001B[1;32m    338\u001B[0m \u001B[0;34m\u001B[0m\u001B[0m\n",
      "\u001B[0;32m~/.local/lib/python3.8/site-packages/dtreeviz/models/shadow_decision_tree.py\u001B[0m in \u001B[0;36mwalk\u001B[0;34m(t, x, path)\u001B[0m\n\u001B[1;32m    333\u001B[0m             \u001B[0;32mif\u001B[0m \u001B[0mt\u001B[0m\u001B[0;34m.\u001B[0m\u001B[0misleaf\u001B[0m\u001B[0;34m(\u001B[0m\u001B[0;34m)\u001B[0m\u001B[0;34m:\u001B[0m\u001B[0;34m\u001B[0m\u001B[0;34m\u001B[0m\u001B[0m\n\u001B[1;32m    334\u001B[0m                 \u001B[0;32mreturn\u001B[0m \u001B[0;32mNone\u001B[0m\u001B[0;34m\u001B[0m\u001B[0;34m\u001B[0m\u001B[0m\n\u001B[0;32m--> 335\u001B[0;31m             \u001B[0;32mif\u001B[0m \u001B[0mself\u001B[0m\u001B[0;34m.\u001B[0m\u001B[0mshouldGoLeftAtSplit\u001B[0m\u001B[0;34m(\u001B[0m\u001B[0mt\u001B[0m\u001B[0;34m.\u001B[0m\u001B[0mid\u001B[0m\u001B[0;34m,\u001B[0m \u001B[0mx\u001B[0m\u001B[0;34m[\u001B[0m\u001B[0mt\u001B[0m\u001B[0;34m.\u001B[0m\u001B[0mfeature\u001B[0m\u001B[0;34m(\u001B[0m\u001B[0;34m)\u001B[0m\u001B[0;34m]\u001B[0m\u001B[0;34m)\u001B[0m\u001B[0;34m:\u001B[0m\u001B[0;34m\u001B[0m\u001B[0;34m\u001B[0m\u001B[0m\n\u001B[0m\u001B[1;32m    336\u001B[0m                 \u001B[0;32mreturn\u001B[0m \u001B[0mwalk\u001B[0m\u001B[0;34m(\u001B[0m\u001B[0mt\u001B[0m\u001B[0;34m.\u001B[0m\u001B[0mleft\u001B[0m\u001B[0;34m,\u001B[0m \u001B[0mx\u001B[0m\u001B[0;34m,\u001B[0m \u001B[0mpath\u001B[0m\u001B[0;34m)\u001B[0m\u001B[0;34m\u001B[0m\u001B[0;34m\u001B[0m\u001B[0m\n\u001B[1;32m    337\u001B[0m             \u001B[0;32mreturn\u001B[0m \u001B[0mwalk\u001B[0m\u001B[0;34m(\u001B[0m\u001B[0mt\u001B[0m\u001B[0;34m.\u001B[0m\u001B[0mright\u001B[0m\u001B[0;34m,\u001B[0m \u001B[0mx\u001B[0m\u001B[0;34m,\u001B[0m \u001B[0mpath\u001B[0m\u001B[0;34m)\u001B[0m\u001B[0;34m\u001B[0m\u001B[0;34m\u001B[0m\u001B[0m\n",
      "\u001B[0;32m~/.local/lib/python3.8/site-packages/dtreeviz/models/spark_decision_tree.py\u001B[0m in \u001B[0;36mshouldGoLeftAtSplit\u001B[0;34m(self, id, x)\u001B[0m\n\u001B[1;32m    206\u001B[0m         \u001B[0;32mif\u001B[0m \u001B[0mself\u001B[0m\u001B[0;34m.\u001B[0m\u001B[0mis_categorical_split\u001B[0m\u001B[0;34m(\u001B[0m\u001B[0mid\u001B[0m\u001B[0;34m)\u001B[0m\u001B[0;34m:\u001B[0m\u001B[0;34m\u001B[0m\u001B[0;34m\u001B[0m\u001B[0m\n\u001B[1;32m    207\u001B[0m             \u001B[0;32mreturn\u001B[0m \u001B[0mx\u001B[0m \u001B[0;32min\u001B[0m \u001B[0mself\u001B[0m\u001B[0;34m.\u001B[0m\u001B[0mget_node_split\u001B[0m\u001B[0;34m(\u001B[0m\u001B[0mid\u001B[0m\u001B[0;34m)\u001B[0m\u001B[0;34m[\u001B[0m\u001B[0;36m0\u001B[0m\u001B[0;34m]\u001B[0m\u001B[0;34m\u001B[0m\u001B[0;34m\u001B[0m\u001B[0m\n\u001B[0;32m--> 208\u001B[0;31m         \u001B[0;32mreturn\u001B[0m \u001B[0mx\u001B[0m \u001B[0;34m<\u001B[0m \u001B[0mself\u001B[0m\u001B[0;34m.\u001B[0m\u001B[0mget_node_split\u001B[0m\u001B[0;34m(\u001B[0m\u001B[0mid\u001B[0m\u001B[0;34m)\u001B[0m\u001B[0;34m\u001B[0m\u001B[0;34m\u001B[0m\u001B[0m\n\u001B[0m\u001B[1;32m    209\u001B[0m \u001B[0;34m\u001B[0m\u001B[0m\n\u001B[1;32m    210\u001B[0m     \u001B[0;34m@\u001B[0m\u001B[0mstaticmethod\u001B[0m\u001B[0;34m\u001B[0m\u001B[0;34m\u001B[0m\u001B[0m\n",
      "\u001B[0;31mKeyboardInterrupt\u001B[0m: "
     ]
    }
   ],
   "source": [
    "plot_name = \"viz_leaf_target\"\n",
    "trees.viz_leaf_target(\n",
    "    tree_model=spark_dtree,\n",
    "    tree_index=tree_index,\n",
    "    figsize=figsize,\n",
    "    grid=True,\n",
    "    feature_names=features,\n",
    "    precision=3\n",
    ")\n",
    "path = out_path + plot_name + \".pdf\"\n",
    "#plt.title(\"leaf target distribution\")\n",
    "plt.savefig(path, format=\"pdf\")"
   ]
  },
  {
   "cell_type": "markdown",
   "metadata": {
    "pycharm": {
     "name": "#%% md\n"
    }
   },
   "source": [
    "### explain the prediction path\n",
    "- Prediction path interpretation for a data instance"
   ]
  },
  {
   "cell_type": "code",
   "execution_count": null,
   "metadata": {
    "pycharm": {
     "name": "#%%\n"
    }
   },
   "outputs": [],
   "source": [
    "row = 3\n",
    "x = training_transf[features].iloc[row]\n",
    "Y = training_transf[target]\n",
    "y = training_transf[target].iloc[row]\n",
    "x, y"
   ]
  },
  {
   "cell_type": "code",
   "execution_count": null,
   "metadata": {
    "pycharm": {
     "name": "#%%\n"
    }
   },
   "outputs": [],
   "source": [
    "print(trees.explain_prediction_path(spark_dtree, x = x, y_data= Y, explanation_type=\"plain_english\", tree_index=0))"
   ]
  },
  {
   "cell_type": "code",
   "execution_count": null,
   "metadata": {
    "pycharm": {
     "name": "#%%\n"
    }
   },
   "outputs": [],
   "source": [
    "# TODO: fix this\n",
    "#trees.dtreeviz(spark_dtree, X=x)"
   ]
  }
 ],
 "metadata": {
  "kernelspec": {
   "display_name": "Python 3 (ipykernel)",
   "language": "python",
   "name": "python3"
  },
  "language_info": {
   "codemirror_mode": {
    "name": "ipython",
    "version": 3
   },
   "file_extension": ".py",
   "mimetype": "text/x-python",
   "name": "python",
   "nbconvert_exporter": "python",
   "pygments_lexer": "ipython3",
   "version": "3.8.10"
  }
 },
 "nbformat": 4,
 "nbformat_minor": 1
}