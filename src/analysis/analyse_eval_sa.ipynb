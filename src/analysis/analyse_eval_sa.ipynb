{
 "cells": [
  {
   "cell_type": "markdown",
   "metadata": {
    "collapsed": true,
    "pycharm": {
     "name": "#%% md\n"
    }
   },
   "source": [
    "# Notebook to analyse the TC SA results"
   ]
  },
  {
   "cell_type": "markdown",
   "source": [
    "## Imports"
   ],
   "metadata": {
    "collapsed": false,
    "pycharm": {
     "name": "#%% md\n"
    }
   }
  },
  {
   "cell_type": "code",
   "execution_count": 78,
   "outputs": [],
   "source": [
    "from pyspark import SparkConf\n",
    "from pyspark.sql import SparkSession, DataFrame, Window\n",
    "from pyspark.sql import functions as F"
   ],
   "metadata": {
    "collapsed": false,
    "pycharm": {
     "name": "#%%\n"
    }
   }
  },
  {
   "cell_type": "markdown",
   "source": [
    "## create DataFrame from cleaned cluster trace Alibaba 2018"
   ],
   "metadata": {
    "collapsed": false,
    "pycharm": {
     "name": "#%% md\n"
    }
   }
  },
  {
   "cell_type": "code",
   "execution_count": 79,
   "outputs": [
    {
     "name": "stderr",
     "output_type": "stream",
     "text": [
      "                                                                                \r"
     ]
    }
   ],
   "source": [
    "batch_tasks_clean_path = \"/home/felix/TUB_Master_ISM/SoSe21/MA/acs-simulation/out/analysis/sa/eval/BinaryTaskfailClassifier-trace-Alibaba2018-size-0.1-mem-6000-testfrac-0.2-sampleseed-99-fittime-28800-cvK-5.csv.gz\"\n",
    "master = \"local\"  # use 4 cores\n",
    "app_name = \"analyse clean Alibaba 2018 cluster trace\"\n",
    "config = SparkConf().setAll([\n",
    "    # ('spark.executor.memory', '6g'),\n",
    "    # ('spark.executor.cores', '4'),\n",
    "    ('spark.driver.cores', '4'),\n",
    "    ('spark.driver.memory', '12g')\n",
    "])\n",
    "spark_session = SparkSession.builder \\\n",
    "    .master(master) \\\n",
    "    .appName(app_name) \\\n",
    "    .config(conf=config) \\\n",
    "    .getOrCreate()\n",
    "\n",
    "batch_tasks_clean = spark_session.read.csv(path=batch_tasks_clean_path, header=True, inferSchema=True)"
   ],
   "metadata": {
    "collapsed": false,
    "pycharm": {
     "name": "#%%\n"
    }
   }
  },
  {
   "cell_type": "markdown",
   "source": [
    "## Simple analysis"
   ],
   "metadata": {
    "collapsed": false,
    "pycharm": {
     "name": "#%% md\n"
    }
   }
  },
  {
   "cell_type": "code",
   "source": [
    "batch_tasks_clean.count()"
   ],
   "metadata": {
    "collapsed": false,
    "pycharm": {
     "name": "#%%\n"
    }
   },
   "execution_count": 80,
   "outputs": [
    {
     "data": {
      "text/plain": "52960"
     },
     "execution_count": 80,
     "metadata": {},
     "output_type": "execute_result"
    }
   ]
  },
  {
   "cell_type": "code",
   "execution_count": 81,
   "outputs": [
    {
     "data": {
      "text/plain": "[('task_name', 'string'),\n ('task_id_num', 'double'),\n ('instance_num', 'double'),\n ('job_name', 'string'),\n ('task_type', 'int'),\n ('status', 'string'),\n ('start_time', 'int'),\n ('end_time', 'int'),\n ('plan_cpu', 'double'),\n ('plan_mem', 'double'),\n ('map_reduce', 'string'),\n ('earliest', 'int'),\n ('sched_intv', 'double'),\n ('job_exec', 'double'),\n ('logical_job_name', 'string'),\n ('latest', 'int'),\n ('task_duration', 'double'),\n ('tts_task', 'double'),\n ('mtts_task', 'double'),\n ('ttf_task', 'double'),\n ('ttr_task', 'double'),\n ('reduce_checkpoint', 'double'),\n ('second_quant_checkpoint', 'double'),\n ('third_quant_checkpoint', 'double'),\n ('labels', 'int'),\n ('predictions', 'int'),\n ('correct_predictions', 'boolean'),\n ('tc', 'string'),\n ('td', 'double'),\n ('reduce_co', 'string'),\n ('second_quant_co', 'string'),\n ('third_quant_co', 'string'),\n ('adaptive_co', 'string'),\n ('zip_tc_adaptive', 'string'),\n ('zip_tc', 'double'),\n ('zip_adaptive_co', 'double')]"
     },
     "execution_count": 81,
     "metadata": {},
     "output_type": "execute_result"
    }
   ],
   "source": [
    "batch_tasks_clean.dtypes"
   ],
   "metadata": {
    "collapsed": false,
    "pycharm": {
     "name": "#%%\n"
    }
   }
  },
  {
   "cell_type": "code",
   "execution_count": 82,
   "outputs": [
    {
     "data": {
      "text/plain": "36"
     },
     "execution_count": 82,
     "metadata": {},
     "output_type": "execute_result"
    }
   ],
   "source": [
    "len(batch_tasks_clean.dtypes)"
   ],
   "metadata": {
    "collapsed": false,
    "pycharm": {
     "name": "#%%\n"
    }
   }
  },
  {
   "cell_type": "code",
   "execution_count": 83,
   "outputs": [
    {
     "data": {
      "text/plain": "['task_type',\n 'start_time',\n 'end_time',\n 'earliest',\n 'latest',\n 'labels',\n 'predictions']"
     },
     "execution_count": 83,
     "metadata": {},
     "output_type": "execute_result"
    }
   ],
   "source": [
    "num_cols = [x[0] for x in batch_tasks_clean.dtypes if x[1] == 'int']\n",
    "num_cols"
   ],
   "metadata": {
    "collapsed": false,
    "pycharm": {
     "name": "#%%\n"
    }
   }
  },
  {
   "cell_type": "markdown",
   "source": [
    "## Analyse Adaptive CO results"
   ],
   "metadata": {
    "collapsed": false,
    "pycharm": {
     "name": "#%% md\n"
    }
   }
  },
  {
   "cell_type": "code",
   "execution_count": 92,
   "outputs": [
    {
     "name": "stdout",
     "output_type": "stream",
     "text": [
      "+--------------------+-----------+----------+-------------+------+----------------+------+-----------+-------------------+------------------+\n",
      "|           task_name|task_id_num|map_reduce|task_duration|zip_tc|              td|labels|predictions|correct_predictions|   zip_adaptive_co|\n",
      "+--------------------+-----------+----------+-------------+------+----------------+------+-----------+-------------------+------------------+\n",
      "|task_LTg0MTUwNTA5...|        0.0|         m|          5.0|   0.0|260.435181565379|     0|          1|              false|260.47518156448496|\n",
      "|task_LTg0MTUwNTA5...|        0.0|         m|          5.0|   5.3|260.435181565379|     0|          1|              false|265.77518156448497|\n",
      "|task_LTg0MTUwNTA5...|        0.0|         m|          5.0|  11.0|260.435181565379|     0|          1|              false|271.47518156448496|\n",
      "|task_LTg0MTUwNTA5...|        0.0|         m|          5.0|  16.0|260.435181565379|     0|          1|              false|276.47518156448496|\n",
      "|task_LTg0MTUwNTA5...|        0.0|         m|          5.0|   0.0|260.435181565379|     0|          1|              false|260.47518156448496|\n",
      "|task_LTg0MTUwNTA5...|        0.0|         m|          5.0|   5.3|260.435181565379|     0|          1|              false|265.77518156448497|\n",
      "|task_LTg0MTUwNTA5...|        0.0|         m|          5.0|  11.0|260.435181565379|     0|          1|              false|271.47518156448496|\n",
      "|task_LTg0MTUwNTA5...|        0.0|         m|          5.0|  16.0|260.435181565379|     0|          1|              false|276.47518156448496|\n",
      "|task_LTg0MTUwNTA5...|        0.0|         m|          5.0|   0.0|260.435181565379|     0|          1|              false|260.47518156448496|\n",
      "|task_LTg0MTUwNTA5...|        0.0|         m|          5.0|   5.3|260.435181565379|     0|          1|              false|265.77518156448497|\n",
      "|task_LTg0MTUwNTA5...|        0.0|         m|          5.0|  11.0|260.435181565379|     0|          1|              false|271.47518156448496|\n",
      "|task_LTg0MTUwNTA5...|        0.0|         m|          5.0|  16.0|260.435181565379|     0|          1|              false|276.47518156448496|\n",
      "|task_LTg0MTUwNTA5...|        0.0|         m|          5.0|   0.0|260.435181565379|     0|          1|              false|260.47518156448496|\n",
      "|task_LTg0MTUwNTA5...|        0.0|         m|          5.0|   5.3|260.435181565379|     0|          1|              false|265.77518156448497|\n",
      "|task_LTg0MTUwNTA5...|        0.0|         m|          5.0|  11.0|260.435181565379|     0|          1|              false|271.47518156448496|\n",
      "|task_LTg0MTUwNTA5...|        0.0|         m|          5.0|  16.0|260.435181565379|     0|          1|              false|276.47518156448496|\n",
      "|task_LTg0MTUwNTA5...|        0.0|         m|          6.0|   0.0|260.435181565379|     0|          1|              false|260.47518156448496|\n",
      "|task_LTg0MTUwNTA5...|        0.0|         m|          6.0|   5.3|260.435181565379|     0|          1|              false|265.77518156448497|\n",
      "|task_LTg0MTUwNTA5...|        0.0|         m|          6.0|  11.0|260.435181565379|     0|          1|              false|271.47518156448496|\n",
      "|task_LTg0MTUwNTA5...|        0.0|         m|          6.0|  16.0|260.435181565379|     0|          1|              false|276.47518156448496|\n",
      "+--------------------+-----------+----------+-------------+------+----------------+------+-----------+-------------------+------------------+\n",
      "only showing top 20 rows\n",
      "\n"
     ]
    }
   ],
   "source": [
    "batch_tasks_clean.filter(\n",
    "        (F.col(\"zip_adaptive_co\").isNotNull()) &\n",
    "        (F.col(\"predictions\")==1)\n",
    "    ).select(\"task_name\", \"task_id_num\", \"map_reduce\", \"task_duration\", \"zip_tc\", \"td\", \"labels\", \"predictions\", \"correct_predictions\", \"zip_adaptive_co\").show()"
   ],
   "metadata": {
    "collapsed": false,
    "pycharm": {
     "name": "#%%\n"
    }
   }
  },
  {
   "cell_type": "code",
   "execution_count": 89,
   "outputs": [
    {
     "name": "stdout",
     "output_type": "stream",
     "text": [
      "+--------------------+--------------------+\n",
      "|max(zip_adaptive_co)|min(zip_adaptive_co)|\n",
      "+--------------------+--------------------+\n",
      "|  279.47518156448496|  -536.8350000008941|\n",
      "+--------------------+--------------------+\n",
      "\n"
     ]
    }
   ],
   "source": [
    "batch_tasks_clean.select(F.max(F.col(\"zip_adaptive_co\")), F.min(F.col(\"zip_adaptive_co\"))).show()"
   ],
   "metadata": {
    "collapsed": false,
    "pycharm": {
     "name": "#%%\n"
    }
   }
  },
  {
   "cell_type": "code",
   "execution_count": 91,
   "outputs": [
    {
     "name": "stderr",
     "output_type": "stream",
     "text": [
      "                                                                                \r"
     ]
    },
    {
     "name": "stdout",
     "output_type": "stream",
     "text": [
      "+------+----------------------------------------------------------------------------------------------------+\n",
      "|zip_tc|(avg(zip_adaptive_co) AS `avg_adaptive_co` / avg(task_duration AS `mean_task_duration_adaptive_co`))|\n",
      "+------+----------------------------------------------------------------------------------------------------+\n",
      "|   0.0|                                                                                   2.634155841902389|\n",
      "|  11.0|                                                                                   2.762268381079897|\n",
      "|   5.3|                                                                                  2.6958827925970006|\n",
      "|  16.0|                                                                                   2.820501353433309|\n",
      "+------+----------------------------------------------------------------------------------------------------+\n",
      "\n"
     ]
    }
   ],
   "source": [
    "batch_tasks_clean.groupBy(\"zip_tc\").agg(\n",
    "                    F.mean(F.col(\"zip_adaptive_co\")).alias(\"avg_adaptive_co\") /\n",
    "                    F.mean(F.col(\"task_duration\").alias(\"mean_task_duration_adaptive_co\"))\n",
    "            ).alias(\"avg_adaptive_co_perc\").show()"
   ],
   "metadata": {
    "collapsed": false,
    "pycharm": {
     "name": "#%%\n"
    }
   }
  },
  {
   "cell_type": "code",
   "execution_count": 94,
   "outputs": [
    {
     "name": "stderr",
     "output_type": "stream",
     "text": [
      "                                                                                \r"
     ]
    },
    {
     "name": "stdout",
     "output_type": "stream",
     "text": [
      "+-------------------+-----+\n",
      "|correct_predictions|count|\n",
      "+-------------------+-----+\n",
      "|              false| 1088|\n",
      "+-------------------+-----+\n",
      "\n"
     ]
    }
   ],
   "source": [
    "batch_tasks_clean.filter(\n",
    "    (F.col(\"zip_adaptive_co\").isNotNull()) &\n",
    "    ((F.col(\"predictions\")==1))\n",
    ").groupBy(\"correct_predictions\").count().show()"
   ],
   "metadata": {
    "collapsed": false,
    "pycharm": {
     "name": "#%%\n"
    }
   }
  },
  {
   "cell_type": "markdown",
   "source": [
    "## We have this positive overhead of the adaptive checkpoint model because the failure prediction model is not accurate"
   ],
   "metadata": {
    "collapsed": false,
    "pycharm": {
     "name": "#%% md\n"
    }
   }
  },
  {
   "cell_type": "code",
   "execution_count": null,
   "outputs": [],
   "source": [],
   "metadata": {
    "collapsed": false,
    "pycharm": {
     "name": "#%%\n"
    }
   }
  }
 ],
 "metadata": {
  "kernelspec": {
   "display_name": "Python 3",
   "language": "python",
   "name": "python3"
  },
  "language_info": {
   "codemirror_mode": {
    "name": "ipython",
    "version": 2
   },
   "file_extension": ".py",
   "mimetype": "text/x-python",
   "name": "python",
   "nbconvert_exporter": "python",
   "pygments_lexer": "ipython2",
   "version": "2.7.6"
  }
 },
 "nbformat": 4,
 "nbformat_minor": 0
}