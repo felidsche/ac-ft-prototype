{
 "cells": [
  {
   "cell_type": "markdown",
   "metadata": {
    "collapsed": true,
    "pycharm": {
     "name": "#%% md\n"
    }
   },
   "source": [
    "# Notebook to analyse the GBT model predictions"
   ]
  },
  {
   "cell_type": "markdown",
   "metadata": {
    "pycharm": {
     "name": "#%% md\n"
    }
   },
   "source": [
    "## Imports"
   ]
  },
  {
   "cell_type": "code",
   "execution_count": 3,
   "metadata": {
    "pycharm": {
     "name": "#%%\n"
    }
   },
   "outputs": [],
   "source": [
    "import pandas as pd\n",
    "from pyspark import SparkConf\n",
    "from pyspark.sql import SparkSession, DataFrame, Window\n",
    "from pyspark.sql import functions as F\n",
    "import matplotlib as mpl\n",
    "from matplotlib import pyplot as plt"
   ]
  },
  {
   "cell_type": "code",
   "execution_count": 4,
   "metadata": {
    "pycharm": {
     "name": "#%%\n"
    }
   },
   "outputs": [],
   "source": [
    "sty = \"seaborn\"\n",
    "mpl.style.use(sty)"
   ]
  },
  {
   "cell_type": "markdown",
   "metadata": {
    "pycharm": {
     "name": "#%% md\n"
    }
   },
   "source": [
    "## create DataFrame from cleaned cluster trace Alibaba 2018"
   ]
  },
  {
   "cell_type": "code",
   "execution_count": 3,
   "metadata": {
    "pycharm": {
     "name": "#%%\n"
    }
   },
   "outputs": [
    {
     "name": "stderr",
     "output_type": "stream",
     "text": [
      "22/03/05 21:46:48 WARN Utils: Your hostname, felix-Surface-Book resolves to a loopback address: 127.0.1.1; using 192.168.0.4 instead (on interface wlp3s0)\n",
      "22/03/05 21:46:48 WARN Utils: Set SPARK_LOCAL_IP if you need to bind to another address\n",
      "WARNING: An illegal reflective access operation has occurred\n",
      "WARNING: Illegal reflective access by org.apache.spark.unsafe.Platform (file:/home/felix/.local/lib/python3.8/site-packages/pyspark/jars/spark-unsafe_2.12-3.1.2.jar) to constructor java.nio.DirectByteBuffer(long,int)\n",
      "WARNING: Please consider reporting this to the maintainers of org.apache.spark.unsafe.Platform\n",
      "WARNING: Use --illegal-access=warn to enable warnings of further illegal reflective access operations\n",
      "WARNING: All illegal access operations will be denied in a future release\n",
      "22/03/05 21:46:49 WARN NativeCodeLoader: Unable to load native-hadoop library for your platform... using builtin-java classes where applicable\n",
      "Using Spark's default log4j profile: org/apache/spark/log4j-defaults.properties\n",
      "Setting default log level to \"WARN\".\n",
      "To adjust logging level use sc.setLogLevel(newLevel). For SparkR, use setLogLevel(newLevel).\n",
      "                                                                                \r"
     ]
    }
   ],
   "source": [
    "test_path = \"../../out/model/eval/final/GBT5CV3parall_priorFeat_tune_maxDepth_Iter_Bins_03inst777SeedVal/part-00000-fcf17f91-2e4e-4fb3-830d-921eb502fd93-c000.csv.gz\"\n",
    "master = \"local[2]\"  # use 2 cores\n",
    "app_name = \"analyse prediction of Alibaba 2018 cluster trace\"\n",
    "config = SparkConf().setAll([\n",
    "    ('spark.driver.memory', '3g')\n",
    "])\n",
    "spark_session = SparkSession.builder \\\n",
    "    .master(master) \\\n",
    "    .appName(app_name) \\\n",
    "    .config(conf=config) \\\n",
    "    .getOrCreate()\n",
    "\n",
    "test = spark_session.read.csv(path=test_path, header=True, inferSchema=True)"
   ]
  },
  {
   "cell_type": "code",
   "execution_count": 6,
   "metadata": {
    "pycharm": {
     "name": "#%%\n"
    }
   },
   "outputs": [],
   "source": [
    "model_name = \"GBT5CV3parall_priorFeat_tune_maxDepth_Iter_Bins_03inst777Seed\"\n",
    "# model_name = \"GBTNested5CV3parall_priorFeat_tune_maxDepth_Iter_03inst\"  # for 20 iterations"
   ]
  },
  {
   "cell_type": "markdown",
   "metadata": {
    "pycharm": {
     "name": "#%% md\n"
    }
   },
   "source": [
    "## Simple analysis"
   ]
  },
  {
   "cell_type": "code",
   "execution_count": 5,
   "metadata": {
    "pycharm": {
     "name": "#%%\n"
    }
   },
   "outputs": [
    {
     "name": "stderr",
     "output_type": "stream",
     "text": [
      "                                                                                \r"
     ]
    },
    {
     "data": {
      "text/plain": [
       "280125"
      ]
     },
     "execution_count": 5,
     "metadata": {},
     "output_type": "execute_result"
    }
   ],
   "source": [
    "# GBTCVvalidation_006 204092\n",
    "# GBTCVvalidation_0015 166009\n",
    "# GBTCVLocalValidation 1246728\n",
    "# GBTCVVal_03PERC_0015FRAC_066_033SPLIT_36SEED 422746\n",
    "# gbtcv_priorfeatures_03inst_0802splitvalidation 149366\n",
    "# GBTNested5CV3parall_priorFeat_tune_maxDepth_Iter_03instVal 279576\n",
    "# GBT5CV3parall_priorFeat_tune_maxDepth_Iter_Bins_03inst777Seed 280125\n",
    "test.count()"
   ]
  },
  {
   "cell_type": "code",
   "execution_count": 6,
   "metadata": {
    "pycharm": {
     "name": "#%%\n"
    }
   },
   "outputs": [
    {
     "data": {
      "text/plain": [
       "[('task_name', 'string'),\n",
       " ('job_name', 'string'),\n",
       " ('task_id_num', 'int'),\n",
       " ('instance_num', 'int'),\n",
       " ('task_type', 'int'),\n",
       " ('status', 'string'),\n",
       " ('start_time', 'int'),\n",
       " ('end_time', 'int'),\n",
       " ('plan_cpu', 'double'),\n",
       " ('plan_mem', 'double'),\n",
       " ('map_reduce', 'string'),\n",
       " ('earliest', 'int'),\n",
       " ('sched_intv', 'int'),\n",
       " ('job_exec', 'int'),\n",
       " ('logical_job_name', 'string'),\n",
       " ('latest', 'int'),\n",
       " ('task_duration', 'int'),\n",
       " ('tts_task', 'int'),\n",
       " ('mtts_task', 'double'),\n",
       " ('ttf_task', 'int'),\n",
       " ('ttr_task', 'int'),\n",
       " ('reduce_checkpoint', 'int'),\n",
       " ('second_quant_checkpoint', 'int'),\n",
       " ('third_quant_checkpoint', 'int'),\n",
       " ('instance_name', 'string'),\n",
       " ('instance_task_type', 'int'),\n",
       " ('instance_status', 'string'),\n",
       " ('instance_start_time', 'int'),\n",
       " ('instance_end_time', 'int'),\n",
       " ('machine_id', 'string'),\n",
       " ('seq_no', 'int'),\n",
       " ('total_seq_no', 'int'),\n",
       " ('cpu_avg', 'double'),\n",
       " ('cpu_max', 'double'),\n",
       " ('mem_avg', 'double'),\n",
       " ('mem_max', 'double'),\n",
       " ('labels', 'int'),\n",
       " ('instance_num_imp', 'int'),\n",
       " ('task_type_imp', 'int'),\n",
       " ('plan_mem_imp', 'double'),\n",
       " ('seq_no_imp', 'int'),\n",
       " ('sched_intv_imp', 'int'),\n",
       " ('job_exec_imp', 'int'),\n",
       " ('prediction', 'double'),\n",
       " ('plan_cpu_imp_scaled', 'double'),\n",
       " ('proba0', 'double'),\n",
       " ('rawPred0', 'double'),\n",
       " ('proba1', 'double'),\n",
       " ('rawPred1', 'double')]"
      ]
     },
     "execution_count": 6,
     "metadata": {},
     "output_type": "execute_result"
    }
   ],
   "source": [
    "test.dtypes"
   ]
  },
  {
   "cell_type": "code",
   "execution_count": 7,
   "metadata": {
    "pycharm": {
     "name": "#%%\n"
    }
   },
   "outputs": [
    {
     "data": {
      "text/plain": [
       "49"
      ]
     },
     "execution_count": 7,
     "metadata": {},
     "output_type": "execute_result"
    }
   ],
   "source": [
    "# GBTCVVal_03PERC_0015FRAC_066_033SPLIT_36SEED 42\n",
    "# GBTNested5CV3parall_priorFeat_tune_maxDepth_Iter_03instVal 49\n",
    "len(test.dtypes)"
   ]
  },
  {
   "cell_type": "code",
   "execution_count": 8,
   "metadata": {
    "pycharm": {
     "name": "#%%\n"
    }
   },
   "outputs": [
    {
     "data": {
      "text/plain": [
       "['task_id_num',\n",
       " 'instance_num',\n",
       " 'task_type',\n",
       " 'start_time',\n",
       " 'end_time',\n",
       " 'plan_cpu',\n",
       " 'plan_mem',\n",
       " 'earliest',\n",
       " 'sched_intv',\n",
       " 'job_exec',\n",
       " 'latest',\n",
       " 'task_duration',\n",
       " 'tts_task',\n",
       " 'mtts_task',\n",
       " 'ttf_task',\n",
       " 'ttr_task',\n",
       " 'reduce_checkpoint',\n",
       " 'second_quant_checkpoint',\n",
       " 'third_quant_checkpoint',\n",
       " 'instance_task_type',\n",
       " 'instance_start_time',\n",
       " 'instance_end_time',\n",
       " 'seq_no',\n",
       " 'total_seq_no',\n",
       " 'cpu_avg',\n",
       " 'cpu_max',\n",
       " 'mem_avg',\n",
       " 'mem_max',\n",
       " 'labels',\n",
       " 'instance_num_imp',\n",
       " 'task_type_imp',\n",
       " 'plan_mem_imp',\n",
       " 'seq_no_imp',\n",
       " 'sched_intv_imp',\n",
       " 'job_exec_imp',\n",
       " 'prediction',\n",
       " 'plan_cpu_imp_scaled',\n",
       " 'proba0',\n",
       " 'rawPred0',\n",
       " 'proba1',\n",
       " 'rawPred1']"
      ]
     },
     "execution_count": 8,
     "metadata": {},
     "output_type": "execute_result"
    }
   ],
   "source": [
    "num_cols = [x[0] for x in test.dtypes if x[1] == 'int' or x[1] == 'double']\n",
    "num_cols"
   ]
  },
  {
   "cell_type": "code",
   "execution_count": 9,
   "metadata": {
    "pycharm": {
     "name": "#%%\n"
    }
   },
   "outputs": [
    {
     "data": {
      "text/plain": [
       "41"
      ]
     },
     "execution_count": 9,
     "metadata": {},
     "output_type": "execute_result"
    }
   ],
   "source": [
    "# GBTCVVal_03PERC_0015FRAC_066_033SPLIT_36SEED 34\n",
    "len(num_cols)"
   ]
  },
  {
   "cell_type": "markdown",
   "metadata": {},
   "source": [
    "## Map and Reduce Distribution"
   ]
  },
  {
   "cell_type": "code",
   "execution_count": 10,
   "metadata": {
    "pycharm": {
     "name": "#%%\n"
    }
   },
   "outputs": [
    {
     "name": "stderr",
     "output_type": "stream",
     "text": [
      "                                                                                \r"
     ]
    },
    {
     "name": "stdout",
     "output_type": "stream",
     "text": [
      "+----------+------+\n",
      "|map_reduce| count|\n",
      "+----------+------+\n",
      "|         m|245882|\n",
      "|         r| 34243|\n",
      "+----------+------+\n",
      "\n"
     ]
    },
    {
     "name": "stderr",
     "output_type": "stream",
     "text": [
      "                                                                                \r"
     ]
    }
   ],
   "source": [
    "test.groupby(\"map_reduce\").count().show()"
   ]
  },
  {
   "cell_type": "code",
   "execution_count": 11,
   "metadata": {
    "pycharm": {
     "name": "#%%\n"
    }
   },
   "outputs": [
    {
     "data": {
      "text/plain": [
       "7.131027863416904"
      ]
     },
     "execution_count": 11,
     "metadata": {},
     "output_type": "execute_result"
    }
   ],
   "source": [
    "mr_ratio = 245179 / 34382\n",
    "mr_ratio\n",
    "# usually around 10%"
   ]
  },
  {
   "cell_type": "markdown",
   "metadata": {},
   "source": [
    "## Labels distribution"
   ]
  },
  {
   "cell_type": "code",
   "execution_count": 12,
   "metadata": {
    "pycharm": {
     "name": "#%%\n"
    }
   },
   "outputs": [
    {
     "name": "stderr",
     "output_type": "stream",
     "text": [
      "                                                                                \r"
     ]
    },
    {
     "name": "stdout",
     "output_type": "stream",
     "text": [
      "+------+------+\n",
      "|labels| count|\n",
      "+------+------+\n",
      "|     1|151210|\n",
      "|     0|128915|\n",
      "+------+------+\n",
      "\n"
     ]
    }
   ],
   "source": [
    "test.groupby(\"labels\").count().show()\n",
    "# usually 50/50"
   ]
  },
  {
   "cell_type": "markdown",
   "metadata": {},
   "source": [
    "## Analyse prediction results"
   ]
  },
  {
   "cell_type": "code",
   "execution_count": 13,
   "metadata": {
    "pycharm": {
     "name": "#%%\n"
    }
   },
   "outputs": [
    {
     "name": "stderr",
     "output_type": "stream",
     "text": [
      "                                                                                \r"
     ]
    },
    {
     "name": "stdout",
     "output_type": "stream",
     "text": [
      "+----------+\n",
      "|prediction|\n",
      "+----------+\n",
      "|       0.0|\n",
      "|       1.0|\n",
      "+----------+\n",
      "\n"
     ]
    }
   ],
   "source": [
    "test.select(\"prediction\").distinct().show()"
   ]
  },
  {
   "cell_type": "code",
   "execution_count": 14,
   "metadata": {
    "pycharm": {
     "name": "#%%\n"
    }
   },
   "outputs": [
    {
     "name": "stderr",
     "output_type": "stream",
     "text": [
      "                                                                                \r"
     ]
    },
    {
     "name": "stdout",
     "output_type": "stream",
     "text": [
      "+----------+------+\n",
      "|prediction| count|\n",
      "+----------+------+\n",
      "|       0.0|156222|\n",
      "|       1.0|123903|\n",
      "+----------+------+\n",
      "\n"
     ]
    }
   ],
   "source": [
    "test.groupBy(\"prediction\").count().show()"
   ]
  },
  {
   "cell_type": "code",
   "execution_count": 15,
   "metadata": {
    "pycharm": {
     "name": "#%%\n"
    }
   },
   "outputs": [
    {
     "name": "stderr",
     "output_type": "stream",
     "text": [
      "                                                                                \r"
     ]
    },
    {
     "name": "stdout",
     "output_type": "stream",
     "text": [
      "+----------+------+------+\n",
      "|prediction|labels| count|\n",
      "+----------+------+------+\n",
      "|       1.0|     0|  5087|\n",
      "|       0.0|     0|123828|\n",
      "|       0.0|     1| 32394|\n",
      "|       1.0|     1|118816|\n",
      "+----------+------+------+\n",
      "\n"
     ]
    }
   ],
   "source": [
    "test.groupBy(\"prediction\", \"labels\").count().show()"
   ]
  },
  {
   "cell_type": "markdown",
   "metadata": {
    "pycharm": {
     "name": "#%% md\n"
    }
   },
   "source": [
    "## Classification results"
   ]
  },
  {
   "cell_type": "markdown",
   "metadata": {},
   "source": [
    "### Model (selection) inspection\n",
    "- results across folds\n",
    "https://stackoverflow.com/questions/51230726/extract-results-from-crossvalidator-with-paramgrid-in-pyspark"
   ]
  },
  {
   "cell_type": "code",
   "execution_count": 16,
   "metadata": {
    "pycharm": {
     "name": "#%%\n"
    }
   },
   "outputs": [],
   "source": [
    "from pyspark.ml.tuning import CrossValidatorModel\n",
    "model_select_name = \"GBT5CV3parall_priorFeat_tune_maxDepth_Iter_Bins_03inst777Seed_select\"\n",
    "model_select_path = f\"../../out/model/dump/final/{model_select_name}\"\n",
    "cv_select_model = CrossValidatorModel.load(model_select_path)"
   ]
  },
  {
   "cell_type": "code",
   "execution_count": 17,
   "metadata": {
    "pycharm": {
     "name": "#%%\n"
    }
   },
   "outputs": [
    {
     "data": {
      "text/plain": [
       "[{'maxBins': 32, 'maxDepth': 2, 'maxIter': 2},\n",
       " {'maxBins': 2200, 'maxDepth': 2, 'maxIter': 2},\n",
       " {'maxBins': 32, 'maxDepth': 5, 'maxIter': 2},\n",
       " {'maxBins': 2200, 'maxDepth': 5, 'maxIter': 2},\n",
       " {'maxBins': 32, 'maxDepth': 2, 'maxIter': 5},\n",
       " {'maxBins': 2200, 'maxDepth': 2, 'maxIter': 5},\n",
       " {'maxBins': 32, 'maxDepth': 5, 'maxIter': 5},\n",
       " {'maxBins': 2200, 'maxDepth': 5, 'maxIter': 5}]"
      ]
     },
     "execution_count": 17,
     "metadata": {},
     "output_type": "execute_result"
    }
   ],
   "source": [
    "model_select_params = params = [{p.name: v for p, v in m.items()} for m in cv_select_model.getEstimatorParamMaps()]\n",
    "model_select_params"
   ]
  },
  {
   "cell_type": "code",
   "execution_count": 18,
   "metadata": {
    "pycharm": {
     "name": "#%%\n"
    }
   },
   "outputs": [
    {
     "data": {
      "text/plain": [
       "[0.8224807349368444,\n",
       " 0.823509613701481,\n",
       " 0.9165091102449674,\n",
       " 0.9192554928537607,\n",
       " 0.8503284862858239,\n",
       " 0.8442333801071091,\n",
       " 0.93992680568921,\n",
       " 0.9418317416814705]"
      ]
     },
     "execution_count": 18,
     "metadata": {},
     "output_type": "execute_result"
    }
   ],
   "source": [
    "model_select_metrics = cv_select_model.avgMetrics\n",
    "model_select_metrics"
   ]
  },
  {
   "cell_type": "code",
   "execution_count": 19,
   "metadata": {
    "pycharm": {
     "name": "#%%\n"
    }
   },
   "outputs": [
    {
     "data": {
      "text/html": [
       "<div>\n",
       "<style scoped>\n",
       "    .dataframe tbody tr th:only-of-type {\n",
       "        vertical-align: middle;\n",
       "    }\n",
       "\n",
       "    .dataframe tbody tr th {\n",
       "        vertical-align: top;\n",
       "    }\n",
       "\n",
       "    .dataframe thead th {\n",
       "        text-align: right;\n",
       "    }\n",
       "</style>\n",
       "<table border=\"1\" class=\"dataframe\">\n",
       "  <thead>\n",
       "    <tr style=\"text-align: right;\">\n",
       "      <th></th>\n",
       "      <th>areaUnderROC</th>\n",
       "      <th>maxBins</th>\n",
       "      <th>maxDepth</th>\n",
       "      <th>maxIter</th>\n",
       "    </tr>\n",
       "  </thead>\n",
       "  <tbody>\n",
       "    <tr>\n",
       "      <th>7</th>\n",
       "      <td>0.941832</td>\n",
       "      <td>2200</td>\n",
       "      <td>5</td>\n",
       "      <td>5</td>\n",
       "    </tr>\n",
       "    <tr>\n",
       "      <th>6</th>\n",
       "      <td>0.939927</td>\n",
       "      <td>32</td>\n",
       "      <td>5</td>\n",
       "      <td>5</td>\n",
       "    </tr>\n",
       "    <tr>\n",
       "      <th>3</th>\n",
       "      <td>0.919255</td>\n",
       "      <td>2200</td>\n",
       "      <td>5</td>\n",
       "      <td>2</td>\n",
       "    </tr>\n",
       "    <tr>\n",
       "      <th>2</th>\n",
       "      <td>0.916509</td>\n",
       "      <td>32</td>\n",
       "      <td>5</td>\n",
       "      <td>2</td>\n",
       "    </tr>\n",
       "    <tr>\n",
       "      <th>4</th>\n",
       "      <td>0.850328</td>\n",
       "      <td>32</td>\n",
       "      <td>2</td>\n",
       "      <td>5</td>\n",
       "    </tr>\n",
       "    <tr>\n",
       "      <th>5</th>\n",
       "      <td>0.844233</td>\n",
       "      <td>2200</td>\n",
       "      <td>2</td>\n",
       "      <td>5</td>\n",
       "    </tr>\n",
       "    <tr>\n",
       "      <th>1</th>\n",
       "      <td>0.823510</td>\n",
       "      <td>2200</td>\n",
       "      <td>2</td>\n",
       "      <td>2</td>\n",
       "    </tr>\n",
       "    <tr>\n",
       "      <th>0</th>\n",
       "      <td>0.822481</td>\n",
       "      <td>32</td>\n",
       "      <td>2</td>\n",
       "      <td>2</td>\n",
       "    </tr>\n",
       "  </tbody>\n",
       "</table>\n",
       "</div>"
      ],
      "text/plain": [
       "   areaUnderROC  maxBins  maxDepth  maxIter\n",
       "7      0.941832     2200         5        5\n",
       "6      0.939927       32         5        5\n",
       "3      0.919255     2200         5        2\n",
       "2      0.916509       32         5        2\n",
       "4      0.850328       32         2        5\n",
       "5      0.844233     2200         2        5\n",
       "1      0.823510     2200         2        2\n",
       "0      0.822481       32         2        2"
      ]
     },
     "execution_count": 19,
     "metadata": {},
     "output_type": "execute_result"
    }
   ],
   "source": [
    "import pandas as pd\n",
    "assert len(model_select_params) == len(model_select_metrics)\n",
    "assert type(model_select_params) == type(model_select_metrics)\n",
    "params_metrics_df = pd.DataFrame.from_dict([{cv_select_model.getEvaluator().getMetricName(): metric, **ps} for ps, metric in zip(model_select_params, model_select_metrics)\n",
    "])\n",
    "params_metrics_df = params_metrics_df.sort_values(by=\"areaUnderROC\", ascending=False)\n",
    "params_metrics_df"
   ]
  },
  {
   "cell_type": "code",
   "execution_count": 20,
   "metadata": {
    "pycharm": {
     "name": "#%%\n"
    }
   },
   "outputs": [
    {
     "name": "stdout",
     "output_type": "stream",
     "text": [
      "\\begin{tabular}{lrrrr}\n",
      "\\toprule\n",
      "{} &  areaUnderROC &  maxBins &  maxDepth &  maxIter \\\\\n",
      "\\midrule\n",
      "7 &      0.941832 &     2200 &         5 &        5 \\\\\n",
      "6 &      0.939927 &       32 &         5 &        5 \\\\\n",
      "3 &      0.919255 &     2200 &         5 &        2 \\\\\n",
      "2 &      0.916509 &       32 &         5 &        2 \\\\\n",
      "4 &      0.850328 &       32 &         2 &        5 \\\\\n",
      "5 &      0.844233 &     2200 &         2 &        5 \\\\\n",
      "1 &      0.823510 &     2200 &         2 &        2 \\\\\n",
      "0 &      0.822481 &       32 &         2 &        2 \\\\\n",
      "\\bottomrule\n",
      "\\end{tabular}\n",
      "\n"
     ]
    }
   ],
   "source": [
    "param_metrics_latex = params_metrics_df.to_latex()\n",
    "# we need print for line breaks etc\n",
    "print(param_metrics_latex)"
   ]
  },
  {
   "cell_type": "markdown",
   "metadata": {},
   "source": [
    "### Model (training) inspection"
   ]
  },
  {
   "cell_type": "code",
   "execution_count": 7,
   "metadata": {
    "pycharm": {
     "name": "#%%\n"
    }
   },
   "outputs": [
    {
     "name": "stderr",
     "output_type": "stream",
     "text": [
      "                                                                                \r"
     ]
    }
   ],
   "source": [
    "from pyspark.ml.tuning import CrossValidatorModel\n",
    "\n",
    "model_path = f\"../../out/model/dump/final/{model_name}\"\n",
    "# load CV model and get the pipeline\n",
    "cv_model = CrossValidatorModel.load(model_path)\n",
    "# cv parameters\n",
    "num_folds = cv_model.getNumFolds()\n",
    "pipeline_model = cv_model.bestModel\n",
    "gbt_model = pipeline_model.stages[-1]\n",
    "# set parameters\n",
    "max_bins = gbt_model.getMaxBins()\n",
    "min_inst_node = gbt_model.getMinInstancesPerNode()\n",
    "# tuned parameters\n",
    "max_depth = gbt_model.getMaxDepth()\n",
    "max_iter = gbt_model.getMaxIter()\n",
    "# model parameters\n",
    "loss_type = gbt_model.getLossType()\n",
    "# result parameters\n",
    "num_trees = gbt_model.getNumTrees\n",
    "total_num_nodes = gbt_model.totalNumNodes\n",
    "# spark parameters\n",
    "check_intv = gbt_model.getCheckpointInterval()"
   ]
  },
  {
   "cell_type": "code",
   "execution_count": 8,
   "metadata": {
    "pycharm": {
     "name": "#%%\n"
    }
   },
   "outputs": [
    {
     "name": "stdout",
     "output_type": "stream",
     "text": [
      "\n",
      "set parameters: \n",
      "\n",
      "max_bins: 50 \n",
      "\n",
      "min_inst_node: 400 \n",
      "\n",
      "cv parameters: \n",
      "\n",
      "num_folds: 5 \n",
      "\n",
      "tuned parameters: \n",
      "\n",
      "max_depth: 5 \n",
      "\n",
      "max_iter: 20 \n",
      "\n",
      "model parameters: \n",
      "\n",
      "loss_type: logistic \n",
      "\n",
      "result parameters: \n",
      "\n",
      "num_trees: 20 \n",
      "\n",
      "total_num_nodes: 978 \n",
      "\n",
      "check_intv: 5\n",
      "\n"
     ]
    }
   ],
   "source": [
    "print(f\"\"\"\n",
    "set parameters: \\n\n",
    "max_bins: {max_bins} \\n\n",
    "min_inst_node: {min_inst_node} \\n\n",
    "cv parameters: \\n\n",
    "num_folds: {num_folds} \\n\n",
    "tuned parameters: \\n\n",
    "max_depth: {max_depth} \\n\n",
    "max_iter: {max_iter} \\n\n",
    "model parameters: \\n\n",
    "loss_type: {loss_type} \\n\n",
    "result parameters: \\n\n",
    "num_trees: {num_trees} \\n\n",
    "total_num_nodes: {total_num_nodes} \\n\n",
    "check_intv: {check_intv}\n",
    "\"\"\")"
   ]
  },
  {
   "cell_type": "markdown",
   "metadata": {},
   "source": [
    "### Tree weights"
   ]
  },
  {
   "cell_type": "code",
   "execution_count": 23,
   "metadata": {
    "pycharm": {
     "name": "#%%\n"
    }
   },
   "outputs": [
    {
     "data": {
      "text/plain": [
       "[(DecisionTreeRegressionModel: uid=dtr_0c7bd8cd19e3, depth=5, numNodes=59, numFeatures=2175,\n",
       "  1.0),\n",
       " (DecisionTreeRegressionModel: uid=dtr_5b4c7cbd3fa4, depth=5, numNodes=63, numFeatures=2175,\n",
       "  0.1),\n",
       " (DecisionTreeRegressionModel: uid=dtr_373b47c55965, depth=5, numNodes=63, numFeatures=2175,\n",
       "  0.1),\n",
       " (DecisionTreeRegressionModel: uid=dtr_3e75c64b6f49, depth=5, numNodes=63, numFeatures=2175,\n",
       "  0.1),\n",
       " (DecisionTreeRegressionModel: uid=dtr_3e8b9bef0191, depth=5, numNodes=61, numFeatures=2175,\n",
       "  0.1)]"
      ]
     },
     "execution_count": 23,
     "metadata": {},
     "output_type": "execute_result"
    }
   ],
   "source": [
    "import pandas as pd\n",
    "trees = gbt_model.trees\n",
    "weights = gbt_model.treeWeights\n",
    "trees_weights = zip(trees, weights)\n",
    "list(trees_weights)\n"
   ]
  },
  {
   "cell_type": "code",
   "execution_count": 24,
   "metadata": {
    "pycharm": {
     "name": "#%%\n"
    }
   },
   "outputs": [
    {
     "name": "stdout",
     "output_type": "stream",
     "text": [
      "\\begin{tabular}{lrrrr}\n",
      "\\toprule\n",
      "{} &  weight &  numNodes &  depth &  numFeatures \\\\\n",
      "uid              &         &           &        &              \\\\\n",
      "\\midrule\n",
      "dtr\\_0c7bd8cd19e3 &     1.0 &        59 &      5 &         2175 \\\\\n",
      "dtr\\_5b4c7cbd3fa4 &     0.1 &        63 &      5 &         2175 \\\\\n",
      "dtr\\_373b47c55965 &     0.1 &        63 &      5 &         2175 \\\\\n",
      "dtr\\_3e75c64b6f49 &     0.1 &        63 &      5 &         2175 \\\\\n",
      "dtr\\_3e8b9bef0191 &     0.1 &        61 &      5 &         2175 \\\\\n",
      "\\bottomrule\n",
      "\\end{tabular}\n",
      "\n"
     ]
    }
   ],
   "source": [
    "data = [{\"uid\": tree.uid, \"weight\": weight, \"numNodes\": tree.numNodes, \"depth\": tree.depth, \"numFeatures\": tree.numFeatures} for tree, weight in zip(trees, weights)]\n",
    "trees_weights_df = pd.DataFrame.from_dict(data)\n",
    "trees_weights_df.set_index(keys=\"uid\", drop=True, inplace=True)\n",
    "#trees_weights_df = trees_weights_df.sort_values(by=\"weight\", ascending=False)\n",
    "print(trees_weights_df.to_latex())"
   ]
  },
  {
   "cell_type": "markdown",
   "metadata": {
    "pycharm": {
     "name": "#%% md\n"
    }
   },
   "source": [
    "## Evaluate gradient boosting iterations"
   ]
  },
  {
   "cell_type": "markdown",
   "metadata": {},
   "source": [
    "### read the data and reproduce the datasets"
   ]
  },
  {
   "cell_type": "code",
   "execution_count": 5,
   "metadata": {
    "pycharm": {
     "name": "#%%\n"
    }
   },
   "outputs": [
    {
     "name": "stderr",
     "output_type": "stream",
     "text": [
      "                                                                                \r"
     ]
    }
   ],
   "source": [
    "# read dataset\n",
    "data_name = \"batch_jobs_clean_03inst_1task_00015S_1F\"\n",
    "data_path = f\"../../out/clean/{data_name}/*.csv.gz\"\n",
    "data = spark_session.read.csv(data_path, header=True, inferSchema=True)\n",
    "# reproduce training set\n",
    "seed = 61\n",
    "fractions = {0: 0.50, 1: 0.50}\n",
    "training = data.sampleBy(col=\"labels\", fractions=fractions, seed=seed)\n",
    "# stratified (50/25/25) split to have 50% of the data for training, 25 for validation (hyper\n",
    "rest = data.subtract(training)\n",
    "fractions = {0: 0.25, 1: 0.25}\n",
    "validation = rest.sampleBy(col = \"labels\", fractions = fractions, seed = seed)\n",
    "test_raw = rest.subtract(validation)"
   ]
  },
  {
   "cell_type": "code",
   "execution_count": 15,
   "metadata": {
    "pycharm": {
     "name": "#%%\n"
    }
   },
   "outputs": [
    {
     "name": "stderr",
     "output_type": "stream",
     "text": [
      "                                                                                \r"
     ]
    }
   ],
   "source": [
    "figsize = (8,6)\n",
    "train_transf = pipeline_model.transform(training)\n",
    "gradient_boosting_eval = gbt_model.evaluateEachIteration(dataset=train_transf)\n",
    "gradient_boosting_eval_df = pd.DataFrame(gradient_boosting_eval)"
   ]
  },
  {
   "cell_type": "code",
   "execution_count": 16,
   "metadata": {
    "pycharm": {
     "name": "#%%\n"
    }
   },
   "outputs": [
    {
     "data": {
      "image/png": "[encoded data removed]",
      "text/plain": [
       "<Figure size 576x432 with 1 Axes>"
      ]
     },
     "metadata": {},
     "output_type": "display_data"
    }
   ],
   "source": [
    "# GBTNested5CV3parall_priorFeat_tune_maxDepth_Iter_03inst for 20 iterations\n",
    "fig = plt.figure(figsize=figsize)\n",
    "iters = range(0,(max_iter))\n",
    "plt.plot(gradient_boosting_eval_df)\n",
    "plt.xticks(ticks=iters, labels=iters)\n",
    "#plt.title(\"Logistic Loss for each iteration of gradient boosting\")\n",
    "plt.xlabel(\"Iteration number\")\n",
    "plt.ylabel(\"Logistic loss\")\n",
    "plt.savefig(f\"../../out/analysis/model/log_loss_per_iter_{model_name}.pdf\", format=\"pdf\")\n",
    "plt.show()"
   ]
  },
  {
   "cell_type": "markdown",
   "metadata": {
    "pycharm": {
     "name": "#%% md\n"
    }
   },
   "source": [
    "### Classification report"
   ]
  },
  {
   "cell_type": "code",
   "execution_count": 28,
   "metadata": {
    "pycharm": {
     "name": "#%%\n"
    }
   },
   "outputs": [
    {
     "name": "stderr",
     "output_type": "stream",
     "text": [
      "                                                                                \r"
     ]
    },
    {
     "data": {
      "text/html": [
       "<div>\n",
       "<style scoped>\n",
       "    .dataframe tbody tr th:only-of-type {\n",
       "        vertical-align: middle;\n",
       "    }\n",
       "\n",
       "    .dataframe tbody tr th {\n",
       "        vertical-align: top;\n",
       "    }\n",
       "\n",
       "    .dataframe thead th {\n",
       "        text-align: right;\n",
       "    }\n",
       "</style>\n",
       "<table border=\"1\" class=\"dataframe\">\n",
       "  <thead>\n",
       "    <tr style=\"text-align: right;\">\n",
       "      <th></th>\n",
       "      <th>success</th>\n",
       "      <th>failed</th>\n",
       "    </tr>\n",
       "  </thead>\n",
       "  <tbody>\n",
       "    <tr>\n",
       "      <th>precision</th>\n",
       "      <td>0.7926</td>\n",
       "      <td>0.9589</td>\n",
       "    </tr>\n",
       "    <tr>\n",
       "      <th>recall</th>\n",
       "      <td>0.9605</td>\n",
       "      <td>0.7858</td>\n",
       "    </tr>\n",
       "    <tr>\n",
       "      <th>f1-score</th>\n",
       "      <td>0.8686</td>\n",
       "      <td>0.8638</td>\n",
       "    </tr>\n",
       "    <tr>\n",
       "      <th>support</th>\n",
       "      <td>128915.0000</td>\n",
       "      <td>151210.0000</td>\n",
       "    </tr>\n",
       "  </tbody>\n",
       "</table>\n",
       "</div>"
      ],
      "text/plain": [
       "               success       failed\n",
       "precision       0.7926       0.9589\n",
       "recall          0.9605       0.7858\n",
       "f1-score        0.8686       0.8638\n",
       "support    128915.0000  151210.0000"
      ]
     },
     "execution_count": 28,
     "metadata": {},
     "output_type": "execute_result"
    }
   ],
   "source": [
    "from sklearn.metrics import classification_report\n",
    "import pandas as pd\n",
    "\n",
    "y_true = test.select(\"labels\").toPandas()\n",
    "y_pred = test.select(\"prediction\").toPandas()\n",
    "target_names = ['success', 'failed']\n",
    "# \"support means\" number of rows per class\n",
    "report = classification_report(\n",
    "    y_true,\n",
    "    y_pred,\n",
    "    target_names=target_names,\n",
    "    output_dict=True\n",
    ")\n",
    "# get a sub set of the keys to remove unwanted metrics\n",
    "per_class = dict((k,report[k]) for k in report.keys() if k in target_names)\n",
    "# we cant use accuracy for imbalanced classes\n",
    "per_class = pd.DataFrame.from_dict(per_class).round(decimals=4)\n",
    "per_class"
   ]
  },
  {
   "cell_type": "code",
   "execution_count": 29,
   "metadata": {
    "pycharm": {
     "name": "#%%\n"
    }
   },
   "outputs": [
    {
     "name": "stdout",
     "output_type": "stream",
     "text": [
      "\\begin{tabular}{lrr}\n",
      "\\toprule\n",
      "{} &      success &       failed \\\\\n",
      "\\midrule\n",
      "precision &       0.7926 &       0.9589 \\\\\n",
      "recall    &       0.9605 &       0.7858 \\\\\n",
      "f1-score  &       0.8686 &       0.8638 \\\\\n",
      "support   &  128915.0000 &  151210.0000 \\\\\n",
      "\\bottomrule\n",
      "\\end{tabular}\n",
      "\n"
     ]
    }
   ],
   "source": [
    "latex = per_class.to_latex()\n",
    "# put this inside \\begin{table}...\n",
    "print(latex)"
   ]
  },
  {
   "cell_type": "markdown",
   "metadata": {},
   "source": [
    "## confusion matrix\n",
    "- normalized (values between 0-1)"
   ]
  },
  {
   "cell_type": "code",
   "execution_count": 30,
   "metadata": {
    "pycharm": {
     "name": "#%%\n"
    }
   },
   "outputs": [
    {
     "data": {
      "image/png": "[encoded data removed]",
      "text/plain": [
       "<Figure size 576x432 with 2 Axes>"
      ]
     },
     "metadata": {},
     "output_type": "display_data"
    }
   ],
   "source": [
    "import matplotlib.pyplot as plt\n",
    "from sklearn.metrics import confusion_matrix, ConfusionMatrixDisplay\n",
    "cm = confusion_matrix(y_true, y_pred, labels=[0,1])\n",
    "\n",
    "disp = ConfusionMatrixDisplay(confusion_matrix=cm,\n",
    "                              display_labels=target_names\n",
    "                              )\n",
    "disp.plot()\n",
    "#(\"GBT model confusion matrix\")\n",
    "# in jupyter the size doesnt change but in the saved figure\n",
    "disp.figure_.set_figwidth(8)\n",
    "disp.figure_.set_figheight(6)\n",
    "disp.figure_.savefig(f\"../../out/analysis/model/absConfMatr_{model_name}.pdf\", format=\"pdf\")\n",
    "plt.show()"
   ]
  },
  {
   "cell_type": "code",
   "execution_count": 31,
   "metadata": {
    "pycharm": {
     "name": "#%%\n"
    }
   },
   "outputs": [],
   "source": [
    "import matplotlib.pyplot as plt"
   ]
  },
  {
   "cell_type": "code",
   "execution_count": 32,
   "metadata": {
    "pycharm": {
     "name": "#%%\n"
    }
   },
   "outputs": [
    {
     "data": {
      "image/png": "[encoded data removed]",
      "text/plain": [
       "<Figure size 576x432 with 2 Axes>"
      ]
     },
     "metadata": {},
     "output_type": "display_data"
    }
   ],
   "source": [
    "from sklearn.metrics import confusion_matrix, ConfusionMatrixDisplay\n",
    "cm = confusion_matrix(y_true, y_pred, labels=[0,1], normalize='pred')\n",
    "\n",
    "disp = ConfusionMatrixDisplay(confusion_matrix=cm,\n",
    "                              display_labels=target_names\n",
    "                              )\n",
    "disp.plot()\n",
    "#plt.title(\"GBT model normalized confusion matrix\")\n",
    "# in jupyter the size doesnt change but in the saved figure\n",
    "disp.figure_.set_figwidth(8)\n",
    "disp.figure_.set_figheight(6)\n",
    "disp.figure_.savefig(f\"../../out/analysis/model/normConfMatr_{model_name}.pdf\", format=\"pdf\")\n",
    "plt.show()"
   ]
  },
  {
   "cell_type": "markdown",
   "metadata": {
    "pycharm": {
     "name": "#%% md\n"
    }
   },
   "source": [
    "### PR curve\n",
    "- Precision recall curves"
   ]
  },
  {
   "cell_type": "markdown",
   "metadata": {},
   "source": [
    "### ROC curve\n",
    "- and \"area under curve\" metric"
   ]
  },
  {
   "cell_type": "code",
   "execution_count": 33,
   "metadata": {
    "pycharm": {
     "name": "#%%\n"
    }
   },
   "outputs": [
    {
     "data": {
      "text/plain": [
       "(array([0.        , 0.03946011, 1.        ]),\n",
       " array([0.        , 0.78576814, 1.        ]),\n",
       " array([2., 1., 0.]),\n",
       " 0.8731540138267901)"
      ]
     },
     "execution_count": 33,
     "metadata": {},
     "output_type": "execute_result"
    }
   ],
   "source": [
    "from sklearn.metrics import roc_curve, auc\n",
    "# Compute ROC curve and ROC area for each class\n",
    "fpr, tpr, thresholds = roc_curve(y_true, y_pred)\n",
    "roc_auc = auc(fpr, tpr)\n",
    "fpr, tpr, thresholds, roc_auc"
   ]
  },
  {
   "cell_type": "code",
   "execution_count": 1,
   "metadata": {},
   "outputs": [],
   "source": [
    "# to prevent recomp\n",
    "\n",
    "fpr, tpr, thresholds, roc_auc = [0.0, 0.03946011, 1.0], [0.        , 0.78576814, 1.       ], [2, 1, 0], 0.8731540138267901"
   ]
  },
  {
   "cell_type": "code",
   "execution_count": 8,
   "metadata": {
    "pycharm": {
     "name": "#%%\n"
    }
   },
   "outputs": [
    {
     "data": {
      "image/png": "[encoded data removed]",
      "text/plain": [
       "<Figure size 576x432 with 1 Axes>"
      ]
     },
     "metadata": {},
     "output_type": "display_data"
    }
   ],
   "source": [
    "plt.figure(figsize=(8,6))\n",
    "lw = 2\n",
    "plt.plot(\n",
    "    fpr,\n",
    "    tpr,\n",
    "    color=\"darkorange\",\n",
    "    lw=lw,\n",
    "    label=\"trained model AUC score: %0.2f\" % roc_auc,\n",
    ")\n",
    "plt.rcParams[\"figure.autolayout\"] = True\n",
    "# the diagonal line\n",
    "plt.plot([0, 1], [0, 1], color=\"navy\", lw=lw, linestyle=\"--\", label=\"Random guess\")\n",
    "plt.xlim([0.0, 1.0])\n",
    "plt.ylim([0.0, 1.05])\n",
    "# the ROC point from the confusion matrix\n",
    "#plt.plot(fpr, tpr,\"ro\")\n",
    "# show point coordinates\n",
    "for i, j in zip(fpr, tpr):\n",
    "        if i and j not in [0.00, 1.0]:\n",
    "            plt.text(i+0.02, j+0.05, '({0:.2f}, {1:.2f})'.format(i, j))\n",
    "plt.xlabel(\"False Positive Rate (FPR)\")\n",
    "plt.ylabel(\"True Positive Rate (TPR)\")\n",
    "#plt.title(\"Receiver operating characteristic (ROC) curve\")\n",
    "plt.legend(loc=\"lower right\")\n",
    "# plt.figure(figsize=(8,6))\n",
    "plt.savefig(f\"../../out/analysis/model/rocCurve_{model_name}.pdf\", format=\"pdf\")\n",
    "plt.show()"
   ]
  },
  {
   "cell_type": "code",
   "execution_count": 35,
   "metadata": {
    "pycharm": {
     "name": "#%%\n"
    }
   },
   "outputs": [
    {
     "data": {
      "text/plain": [
       "<Figure size 576x432 with 0 Axes>"
      ]
     },
     "metadata": {},
     "output_type": "display_data"
    },
    {
     "data": {
      "image/png": "[encoded data removed]",
      "text/plain": [
       "<Figure size 576x432 with 1 Axes>"
      ]
     },
     "metadata": {},
     "output_type": "display_data"
    }
   ],
   "source": [
    "from sklearn.metrics import (precision_recall_curve,\n",
    "                             PrecisionRecallDisplay)\n",
    "\n",
    "precision, recall, _ = precision_recall_curve(y_true, y_pred)\n",
    "disp = PrecisionRecallDisplay(precision=precision, recall=recall, estimator_name=\"GBT\")\n",
    "plt.figure(figsize=(8,6))\n",
    "disp.plot()\n",
    "#plt.title(\"Precision-Recall (PR) curve\")\n",
    "disp.figure_.set_figwidth(8)\n",
    "disp.figure_.set_figheight(6)\n",
    "disp.figure_.savefig(f\"../../out/analysis/model/prCurve_{model_name}.pdf\", format=\"pdf\")\n",
    "plt.show()"
   ]
  },
  {
   "cell_type": "markdown",
   "metadata": {},
   "source": [
    "## Analysis of checkpoints per job of a logical job"
   ]
  },
  {
   "cell_type": "code",
   "execution_count": 36,
   "metadata": {
    "pycharm": {
     "name": "#%%\n"
    }
   },
   "outputs": [
    {
     "name": "stdout",
     "output_type": "stream",
     "text": [
      "+----------+--------+----------------+---------+-----------+---------+-------------+------------+--------+------+----------+\n",
      "|start_time|end_time|logical_job_name|job_name |task_id_num|task_name|instance_name|instance_num|job_exec|labels|prediction|\n",
      "+----------+--------+----------------+---------+-----------+---------+-------------+------------+--------+------+----------+\n",
      "|320685    |321174  |L_j_2333041     |j_655136 |11         |M11      |ins_79882461 |3484        |15844   |0     |0.0       |\n",
      "|316726    |316757  |L_j_593524      |j_2241669|2          |M2       |ins_10816351 |19785       |122410  |0     |0.0       |\n",
      "|338377    |338392  |L_j_2678067     |j_4076536|3          |M3_2     |ins_19675257 |53667       |54101   |1     |1.0       |\n",
      "|583659    |583669  |L_j_1481870     |j_481775 |5          |M5       |ins_893023079|6204        |131027  |1     |0.0       |\n",
      "|663230    |663462  |L_j_4119889     |j_3719190|5          |M5_4     |ins_541043358|6667        |32770   |1     |0.0       |\n",
      "+----------+--------+----------------+---------+-----------+---------+-------------+------------+--------+------+----------+\n",
      "only showing top 5 rows\n",
      "\n"
     ]
    }
   ],
   "source": [
    "test.select(\"start_time\", \"end_time\", \"logical_job_name\", \"job_name\", \"task_id_num\", \"task_name\", \"instance_name\", \"instance_num\", \"job_exec\", \"labels\", \"prediction\").show(5, False)"
   ]
  },
  {
   "cell_type": "code",
   "execution_count": 36,
   "metadata": {
    "pycharm": {
     "name": "#%%\n"
    }
   },
   "outputs": [],
   "source": []
  },
  {
   "cell_type": "code",
   "execution_count": 37,
   "metadata": {
    "pycharm": {
     "name": "#%%\n"
    }
   },
   "outputs": [],
   "source": [
    "# this ljn has a lot of checkpoints\n",
    "arbitrary_ljn =\"L_j_3478541\"\n",
    "ljn_jobs = test.filter(\n",
    "    (F.col(\"logical_job_name\")==arbitrary_ljn)\n",
    ")\n",
    "ljn_jobs = ljn_jobs.withColumn(\"task_labels\",\n",
    "                               F.when(F.lower(F.col(\"status\"))==\"failed\", 1).otherwise(0)\n",
    "                               )"
   ]
  },
  {
   "cell_type": "code",
   "execution_count": 38,
   "metadata": {
    "pycharm": {
     "name": "#%%\n"
    }
   },
   "outputs": [
    {
     "name": "stderr",
     "output_type": "stream",
     "text": [
      "                                                                                \r"
     ]
    },
    {
     "data": {
      "text/plain": [
       "37111"
      ]
     },
     "execution_count": 38,
     "metadata": {},
     "output_type": "execute_result"
    }
   ],
   "source": [
    "ljn_jobs.count()"
   ]
  },
  {
   "cell_type": "code",
   "execution_count": 39,
   "metadata": {
    "pycharm": {
     "name": "#%%\n"
    }
   },
   "outputs": [
    {
     "name": "stderr",
     "output_type": "stream",
     "text": [
      "                                                                                \r"
     ]
    },
    {
     "data": {
      "text/plain": [
       "10608"
      ]
     },
     "execution_count": 39,
     "metadata": {},
     "output_type": "execute_result"
    }
   ],
   "source": [
    "ljn_jobs.select(\"job_name\").distinct().count()"
   ]
  },
  {
   "cell_type": "code",
   "execution_count": 40,
   "metadata": {
    "pycharm": {
     "name": "#%%\n"
    }
   },
   "outputs": [
    {
     "name": "stderr",
     "output_type": "stream",
     "text": [
      "                                                                                \r"
     ]
    }
   ],
   "source": [
    "ljn_pdf = ljn_jobs.groupBy(\"job_name\", \"end_time\", \"instance_num\").agg(\n",
    "    F.sum(\"task_labels\").alias(\"task_failures\"),\n",
    "    F.sum(\"labels\").alias(\"inst_failures\"),\n",
    "    F.sum(F.col(\"prediction\")).alias(\"inst_failures_predictions\")\n",
    ").sort(F.col(\"end_time\"), ascending=False).toPandas()"
   ]
  },
  {
   "cell_type": "code",
   "execution_count": 41,
   "metadata": {
    "pycharm": {
     "name": "#%%\n"
    }
   },
   "outputs": [
    {
     "data": {
      "text/html": [
       "<div>\n",
       "<style scoped>\n",
       "    .dataframe tbody tr th:only-of-type {\n",
       "        vertical-align: middle;\n",
       "    }\n",
       "\n",
       "    .dataframe tbody tr th {\n",
       "        vertical-align: top;\n",
       "    }\n",
       "\n",
       "    .dataframe thead th {\n",
       "        text-align: right;\n",
       "    }\n",
       "</style>\n",
       "<table border=\"1\" class=\"dataframe\">\n",
       "  <thead>\n",
       "    <tr style=\"text-align: right;\">\n",
       "      <th></th>\n",
       "      <th>job_name</th>\n",
       "      <th>end_time</th>\n",
       "      <th>instance_num</th>\n",
       "      <th>task_failures</th>\n",
       "      <th>inst_failures</th>\n",
       "      <th>inst_failures_predictions</th>\n",
       "    </tr>\n",
       "  </thead>\n",
       "  <tbody>\n",
       "    <tr>\n",
       "      <th>0</th>\n",
       "      <td>j_1399367</td>\n",
       "      <td>693344</td>\n",
       "      <td>2397</td>\n",
       "      <td>0</td>\n",
       "      <td>0</td>\n",
       "      <td>0.0</td>\n",
       "    </tr>\n",
       "    <tr>\n",
       "      <th>1</th>\n",
       "      <td>j_3507160</td>\n",
       "      <td>691184</td>\n",
       "      <td>532</td>\n",
       "      <td>0</td>\n",
       "      <td>0</td>\n",
       "      <td>0.0</td>\n",
       "    </tr>\n",
       "    <tr>\n",
       "      <th>2</th>\n",
       "      <td>j_1231657</td>\n",
       "      <td>690969</td>\n",
       "      <td>4444</td>\n",
       "      <td>0</td>\n",
       "      <td>0</td>\n",
       "      <td>0.0</td>\n",
       "    </tr>\n",
       "    <tr>\n",
       "      <th>3</th>\n",
       "      <td>j_1622822</td>\n",
       "      <td>690911</td>\n",
       "      <td>1936</td>\n",
       "      <td>0</td>\n",
       "      <td>0</td>\n",
       "      <td>0.0</td>\n",
       "    </tr>\n",
       "    <tr>\n",
       "      <th>4</th>\n",
       "      <td>j_2099208</td>\n",
       "      <td>690789</td>\n",
       "      <td>4764</td>\n",
       "      <td>0</td>\n",
       "      <td>0</td>\n",
       "      <td>0.0</td>\n",
       "    </tr>\n",
       "    <tr>\n",
       "      <th>...</th>\n",
       "      <td>...</td>\n",
       "      <td>...</td>\n",
       "      <td>...</td>\n",
       "      <td>...</td>\n",
       "      <td>...</td>\n",
       "      <td>...</td>\n",
       "    </tr>\n",
       "    <tr>\n",
       "      <th>10603</th>\n",
       "      <td>j_204597</td>\n",
       "      <td>0</td>\n",
       "      <td>54</td>\n",
       "      <td>0</td>\n",
       "      <td>3</td>\n",
       "      <td>0.0</td>\n",
       "    </tr>\n",
       "    <tr>\n",
       "      <th>10604</th>\n",
       "      <td>j_1618497</td>\n",
       "      <td>0</td>\n",
       "      <td>10836</td>\n",
       "      <td>0</td>\n",
       "      <td>710</td>\n",
       "      <td>0.0</td>\n",
       "    </tr>\n",
       "    <tr>\n",
       "      <th>10605</th>\n",
       "      <td>j_4051376</td>\n",
       "      <td>0</td>\n",
       "      <td>10836</td>\n",
       "      <td>0</td>\n",
       "      <td>73</td>\n",
       "      <td>0.0</td>\n",
       "    </tr>\n",
       "    <tr>\n",
       "      <th>10606</th>\n",
       "      <td>j_2902016</td>\n",
       "      <td>0</td>\n",
       "      <td>19402</td>\n",
       "      <td>0</td>\n",
       "      <td>0</td>\n",
       "      <td>0.0</td>\n",
       "    </tr>\n",
       "    <tr>\n",
       "      <th>10607</th>\n",
       "      <td>j_2928655</td>\n",
       "      <td>0</td>\n",
       "      <td>8090</td>\n",
       "      <td>0</td>\n",
       "      <td>0</td>\n",
       "      <td>0.0</td>\n",
       "    </tr>\n",
       "  </tbody>\n",
       "</table>\n",
       "<p>10608 rows × 6 columns</p>\n",
       "</div>"
      ],
      "text/plain": [
       "        job_name  end_time  instance_num  task_failures  inst_failures  \\\n",
       "0      j_1399367    693344          2397              0              0   \n",
       "1      j_3507160    691184           532              0              0   \n",
       "2      j_1231657    690969          4444              0              0   \n",
       "3      j_1622822    690911          1936              0              0   \n",
       "4      j_2099208    690789          4764              0              0   \n",
       "...          ...       ...           ...            ...            ...   \n",
       "10603   j_204597         0            54              0              3   \n",
       "10604  j_1618497         0         10836              0            710   \n",
       "10605  j_4051376         0         10836              0             73   \n",
       "10606  j_2902016         0         19402              0              0   \n",
       "10607  j_2928655         0          8090              0              0   \n",
       "\n",
       "       inst_failures_predictions  \n",
       "0                            0.0  \n",
       "1                            0.0  \n",
       "2                            0.0  \n",
       "3                            0.0  \n",
       "4                            0.0  \n",
       "...                          ...  \n",
       "10603                        0.0  \n",
       "10604                        0.0  \n",
       "10605                        0.0  \n",
       "10606                        0.0  \n",
       "10607                        0.0  \n",
       "\n",
       "[10608 rows x 6 columns]"
      ]
     },
     "execution_count": 41,
     "metadata": {},
     "output_type": "execute_result"
    }
   ],
   "source": [
    "ljn_pdf"
   ]
  },
  {
   "cell_type": "code",
   "execution_count": 42,
   "metadata": {
    "pycharm": {
     "name": "#%%\n"
    }
   },
   "outputs": [
    {
     "data": {
      "text/plain": [
       "Text(0, 0.5, 'No. Failures')"
      ]
     },
     "execution_count": 42,
     "metadata": {},
     "output_type": "execute_result"
    },
    {
     "data": {
      "image/png": "[encoded data removed]",
      "text/plain": [
       "<Figure size 576x432 with 1 Axes>"
      ]
     },
     "metadata": {},
     "output_type": "display_data"
    }
   ],
   "source": [
    "# Creating figure and axis objects using subplots()\n",
    "fig, ax = plt.subplots(figsize=[8, 6])\n",
    "plt.plot(\n",
    "    ljn_pdf['end_time'],\n",
    "    ljn_pdf['inst_failures'],\n",
    "    label=\"Instance Failures\",\n",
    "    color=\"orange\",\n",
    "    alpha=0.8,\n",
    "    lw=2\n",
    ")\n",
    "\n",
    "plt.plot(\n",
    "    ljn_pdf['end_time'],\n",
    "    ljn_pdf['inst_failures_predictions'],\n",
    "    label=\"Predicted Instance Failures\",\n",
    "    color=\"green\",\n",
    "    linestyle=\"dashed\",\n",
    "    alpha=0.6,\n",
    "    lw=2\n",
    ")\n",
    "ax.set_xscale('log')\n",
    "ax.set_yscale('log')\n",
    "\"\"\"\n",
    "plt.plot(ljn_pdf['end_time'],\n",
    "         ljn_pdf['task_failures'],\n",
    "         label=\"Task Failures\",\n",
    "         alpha=0.6\n",
    "         )\n",
    "\"\"\"\n",
    "plt.legend()\n",
    "\n",
    "ax.set_xlabel('Time')\n",
    "ax.set_ylabel('No. Failures')"
   ]
  },
  {
   "cell_type": "code",
   "execution_count": 43,
   "metadata": {
    "pycharm": {
     "name": "#%%\n"
    }
   },
   "outputs": [
    {
     "name": "stderr",
     "output_type": "stream",
     "text": [
      "[Stage 178:==============================>                      (116 + 2) / 200]\r"
     ]
    },
    {
     "name": "stdout",
     "output_type": "stream",
     "text": [
      "+----------------+---------+------------+--------+-----------+----------+\n",
      "|logical_job_name| job_name|instance_num|job_exec|check_count|fail_count|\n",
      "+----------------+---------+------------+--------+-----------+----------+\n",
      "|     L_j_3478541|j_1157307|        9999|  119574|     3077.0|      3076|\n",
      "|     L_j_3478541| j_772351|        9999|  118210|     2920.0|      2919|\n",
      "|     L_j_3478541|j_3243463|       16896|  196985|     2105.0|      2105|\n",
      "|     L_j_3478541|j_3754361|        6476|  215958|     1838.0|      1838|\n",
      "|     L_j_3478541|j_1947252|        3447|  212242|     1091.0|      1091|\n",
      "|     L_j_3478541|j_2109726|        3333|  388437|      770.0|       769|\n",
      "|     L_j_3478541|j_4069746|        3333|  391957|      758.0|       758|\n",
      "|     L_j_3478541|j_2691344|        3333|  392412|      758.0|       757|\n",
      "|     L_j_3478541|j_3175082|        3447|  213348|      251.0|       250|\n",
      "|     L_j_3478541|j_2424359|         302|     338|       34.0|        54|\n",
      "|     L_j_3478541|j_1450697|         500|  548124|       16.0|        67|\n",
      "|     L_j_3478541|j_4168132|       13489|  202856|        7.0|       246|\n",
      "|     L_j_3478541|j_3499467|       14913|  384098|        7.0|         0|\n",
      "|     L_j_3478541| j_869710|       10576|   15394|        5.0|         0|\n",
      "|     L_j_3478541|j_4041919|       14211|  521062|        5.0|         0|\n",
      "|     L_j_3478541|j_2876778|       12958|  537912|        5.0|         0|\n",
      "|     L_j_3478541|j_2602644|       14356|  139902|        5.0|         0|\n",
      "|     L_j_3478541|j_1189737|       16736|  338346|        5.0|         2|\n",
      "|     L_j_3478541|j_2729873|       10869|  460149|        5.0|         0|\n",
      "|     L_j_3478541|j_2253624|       13968|  361051|        5.0|         0|\n",
      "+----------------+---------+------------+--------+-----------+----------+\n",
      "only showing top 20 rows\n",
      "\n"
     ]
    },
    {
     "name": "stderr",
     "output_type": "stream",
     "text": [
      "                                                                                \r"
     ]
    }
   ],
   "source": [
    "ljn_jobs.groupBy(\"logical_job_name\", \"job_name\", \"instance_num\", \"job_exec\").agg(\n",
    "    F.sum(\"prediction\").alias(\"check_count\"),\n",
    "    F.sum(\"labels\").alias(\"fail_count\")).sort(F.col(\"check_count\"), ascending=False).show()"
   ]
  },
  {
   "cell_type": "code",
   "execution_count": 43,
   "metadata": {
    "pycharm": {
     "name": "#%%\n"
    }
   },
   "outputs": [],
   "source": []
  }
 ],
 "metadata": {
  "kernelspec": {
   "display_name": "Python 3 (ipykernel)",
   "language": "python",
   "name": "python3"
  },
  "language_info": {
   "codemirror_mode": {
    "name": "ipython",
    "version": 3
   },
   "file_extension": ".py",
   "mimetype": "text/x-python",
   "name": "python",
   "nbconvert_exporter": "python",
   "pygments_lexer": "ipython3",
   "version": "3.8.10"
  }
 },
 "nbformat": 4,
 "nbformat_minor": 1
}
