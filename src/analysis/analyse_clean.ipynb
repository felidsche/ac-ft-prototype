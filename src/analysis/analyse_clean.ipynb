{
 "cells": [
  {
   "cell_type": "markdown",
   "metadata": {
    "collapsed": true,
    "pycharm": {
     "name": "#%% md\n"
    }
   },
   "source": [
    "# Notebook to analyse the cleaned cluster trace"
   ]
  },
  {
   "cell_type": "markdown",
   "source": [
    "## Imports"
   ],
   "metadata": {
    "collapsed": false,
    "pycharm": {
     "name": "#%% md\n"
    }
   }
  },
  {
   "cell_type": "code",
   "execution_count": 1,
   "outputs": [],
   "source": [
    "from pyspark import SparkConf\n",
    "from pyspark.sql import SparkSession\n",
    "from pyspark.sql import functions as F"
   ],
   "metadata": {
    "collapsed": false,
    "pycharm": {
     "name": "#%%\n"
    }
   }
  },
  {
   "cell_type": "markdown",
   "source": [
    "## create DataFrame from cleaned cluster trace Alibaba 2018\n",
    "- the data was cleaned on the cluster on 12.01.2022\n",
    "- its a join of batch task (100%) and batch instance (30%) with a stratified sample of 0.0015% success and 100% failed instances"
   ],
   "metadata": {
    "collapsed": false,
    "pycharm": {
     "name": "#%% md\n"
    }
   }
  },
  {
   "cell_type": "code",
   "execution_count": 2,
   "outputs": [
    {
     "name": "stderr",
     "output_type": "stream",
     "text": [
      "22/01/18 15:47:40 WARN Utils: Your hostname, felix-Surface-Book resolves to a loopback address: 127.0.1.1; using 192.168.0.4 instead (on interface wlp3s0)\n",
      "22/01/18 15:47:40 WARN Utils: Set SPARK_LOCAL_IP if you need to bind to another address\n",
      "WARNING: An illegal reflective access operation has occurred\n",
      "WARNING: Illegal reflective access by org.apache.spark.unsafe.Platform (file:/home/felix/.local/lib/python3.8/site-packages/pyspark/jars/spark-unsafe_2.12-3.1.2.jar) to constructor java.nio.DirectByteBuffer(long,int)\n",
      "WARNING: Please consider reporting this to the maintainers of org.apache.spark.unsafe.Platform\n",
      "WARNING: Use --illegal-access=warn to enable warnings of further illegal reflective access operations\n",
      "WARNING: All illegal access operations will be denied in a future release\n",
      "22/01/18 15:47:40 WARN NativeCodeLoader: Unable to load native-hadoop library for your platform... using builtin-java classes where applicable\n",
      "Using Spark's default log4j profile: org/apache/spark/log4j-defaults.properties\n",
      "Setting default log level to \"WARN\".\n",
      "To adjust logging level use sc.setLogLevel(newLevel). For SparkR, use setLogLevel(newLevel).\n",
      "                                                                                \r"
     ]
    }
   ],
   "source": [
    "batch_jobs_clean_path = \"../../out/clean/batch_jobs_clean_03inst_1task_00015S_1F/*.csv.gz\"\n",
    "\n",
    "master = \"local[2]\"\n",
    "app_name = \"analyse clean Alibaba 2018 cluster trace\"\n",
    "config = SparkConf().setAll([\n",
    "    ('spark.driver.memory', '3g')\n",
    "])\n",
    "spark_session = SparkSession.builder\\\n",
    "    .master(master)\\\n",
    "    .appName(app_name)\\\n",
    "    .config(conf=config)\\\n",
    "    .getOrCreate()\n",
    "\n",
    "batch_jobs_clean = spark_session.read.csv(path=batch_jobs_clean_path, header=True, inferSchema=True)"
   ],
   "metadata": {
    "collapsed": false,
    "pycharm": {
     "name": "#%%\n"
    }
   }
  },
  {
   "cell_type": "markdown",
   "source": [
    "## Simple analysis"
   ],
   "metadata": {
    "collapsed": false,
    "pycharm": {
     "name": "#%% md\n"
    }
   }
  },
  {
   "cell_type": "code",
   "execution_count": 3,
   "outputs": [
    {
     "name": "stderr",
     "output_type": "stream",
     "text": [
      "                                                                                \r"
     ]
    },
    {
     "data": {
      "text/plain": "1246728"
     },
     "execution_count": 3,
     "metadata": {},
     "output_type": "execute_result"
    }
   ],
   "source": [
    "batch_jobs_clean.count()"
   ],
   "metadata": {
    "collapsed": false,
    "pycharm": {
     "name": "#%%\n"
    }
   }
  },
  {
   "cell_type": "code",
   "execution_count": 4,
   "outputs": [
    {
     "data": {
      "text/plain": "[('task_name', 'string'),\n ('job_name', 'string'),\n ('task_id_num', 'int'),\n ('instance_num', 'int'),\n ('task_type', 'int'),\n ('status', 'string'),\n ('start_time', 'int'),\n ('end_time', 'int'),\n ('plan_cpu', 'double'),\n ('plan_mem', 'double'),\n ('map_reduce', 'string'),\n ('earliest', 'int'),\n ('sched_intv', 'int'),\n ('job_exec', 'int'),\n ('logical_job_name', 'string'),\n ('latest', 'int'),\n ('task_duration', 'int'),\n ('tts_task', 'int'),\n ('mtts_task', 'double'),\n ('ttf_task', 'int'),\n ('ttr_task', 'int'),\n ('reduce_checkpoint', 'int'),\n ('second_quant_checkpoint', 'int'),\n ('third_quant_checkpoint', 'int'),\n ('instance_name', 'string'),\n ('instance_task_type', 'int'),\n ('instance_status', 'string'),\n ('instance_start_time', 'int'),\n ('instance_end_time', 'int'),\n ('machine_id', 'string'),\n ('seq_no', 'int'),\n ('total_seq_no', 'int'),\n ('cpu_avg', 'double'),\n ('cpu_max', 'double'),\n ('mem_avg', 'double'),\n ('mem_max', 'double'),\n ('labels', 'int')]"
     },
     "execution_count": 4,
     "metadata": {},
     "output_type": "execute_result"
    }
   ],
   "source": [
    "batch_jobs_clean.dtypes"
   ],
   "metadata": {
    "collapsed": false,
    "pycharm": {
     "name": "#%%\n"
    }
   }
  },
  {
   "cell_type": "code",
   "execution_count": 5,
   "outputs": [
    {
     "data": {
      "text/plain": "37"
     },
     "execution_count": 5,
     "metadata": {},
     "output_type": "execute_result"
    }
   ],
   "source": [
    "len(batch_jobs_clean.dtypes)"
   ],
   "metadata": {
    "collapsed": false,
    "pycharm": {
     "name": "#%%\n"
    }
   }
  },
  {
   "cell_type": "code",
   "execution_count": 6,
   "outputs": [
    {
     "data": {
      "text/plain": "['task_id_num',\n 'instance_num',\n 'task_type',\n 'start_time',\n 'end_time',\n 'plan_cpu',\n 'plan_mem',\n 'earliest',\n 'sched_intv',\n 'job_exec',\n 'latest',\n 'task_duration',\n 'tts_task',\n 'mtts_task',\n 'ttf_task',\n 'ttr_task',\n 'reduce_checkpoint',\n 'second_quant_checkpoint',\n 'third_quant_checkpoint',\n 'instance_task_type',\n 'instance_start_time',\n 'instance_end_time',\n 'seq_no',\n 'total_seq_no',\n 'cpu_avg',\n 'cpu_max',\n 'mem_avg',\n 'mem_max',\n 'labels']"
     },
     "execution_count": 6,
     "metadata": {},
     "output_type": "execute_result"
    }
   ],
   "source": [
    "num_cols = [x[0] for x in batch_jobs_clean.dtypes if x[1] == 'int' or x[1] == 'double']\n",
    "num_cols"
   ],
   "metadata": {
    "collapsed": false,
    "pycharm": {
     "name": "#%%\n"
    }
   }
  },
  {
   "cell_type": "code",
   "execution_count": 7,
   "outputs": [
    {
     "data": {
      "text/plain": "29"
     },
     "execution_count": 7,
     "metadata": {},
     "output_type": "execute_result"
    }
   ],
   "source": [
    "len(num_cols)"
   ],
   "metadata": {
    "collapsed": false,
    "pycharm": {
     "name": "#%%\n"
    }
   }
  },
  {
   "cell_type": "code",
   "execution_count": 8,
   "outputs": [],
   "source": [
    "# time related\n",
    "time_cols = [\"start_time\", \"instance_start_time\", \"instance_end_time\", \"end_time\", \"earliest\", \"latest\"]\n",
    "summary_cols = [x for x in num_cols if x not in time_cols]"
   ],
   "metadata": {
    "collapsed": false,
    "pycharm": {
     "name": "#%%\n"
    }
   }
  },
  {
   "cell_type": "code",
   "execution_count": 17,
   "outputs": [],
   "source": [
    "# taken from GBTCVTaskFailBinPred.scala\n",
    "columns = [\"instance_num\",  # number of instances for the task\n",
    "           \"task_type\",  # values 1-12, meaning unknown (ordinal categ. feature)\n",
    "           \"plan_cpu\",  # number of cpus needed by the task, 100 is 1 core\n",
    "           \"plan_mem\",  # normalized memory size, [0, 100]\n",
    "           # from batch instances\n",
    "           \"seq_no\",\n",
    "           \"labels\",\n",
    "           # custom fields I added in trace.py\n",
    "           #\"map_reduce\",\n",
    "           # whether this task is a map \"m\" or reduce \"r\" operation (nominal categ. feature) -> 1hot encode\n",
    "           \"sched_intv\",  # the schedule interval (in ?) if this value is set, its a recurring job (batch job)\n",
    "           \"job_exec\",  # the number of execution of this task\n",
    "           #\"logical_job_name\"\n",
    "        ]"
   ],
   "metadata": {
    "collapsed": false,
    "pycharm": {
     "name": "#%%\n"
    }
   }
  },
  {
   "cell_type": "code",
   "execution_count": 19,
   "outputs": [
    {
     "name": "stderr",
     "output_type": "stream",
     "text": [
      "                                                                                \r"
     ]
    },
    {
     "data": {
      "text/plain": "                      0          1        2         3     4         5\nsummary           count       mean      50%    stddev   min       max\ninstance_num  1246728.0   18734.01   6579.0  23910.69   1.0   99583.0\ntask_type     1246728.0       1.61      1.0      2.15   1.0      12.0\nplan_cpu      1246173.0      94.41    100.0     43.58   5.0    1000.0\nplan_mem      1246173.0       0.37      0.3      0.26  0.02     17.17\nseq_no        1246728.0       1.15      1.0      0.55   1.0      11.0\nlabels        1246728.0       0.51      1.0       0.5   0.0       1.0\nsched_intv    1246268.0      845.7      1.0   8048.98   0.0  570959.0\njob_exec      1245468.0  114417.86  54134.0  132744.1   1.0  566559.0",
      "text/html": "<div>\n<style scoped>\n    .dataframe tbody tr th:only-of-type {\n        vertical-align: middle;\n    }\n\n    .dataframe tbody tr th {\n        vertical-align: top;\n    }\n\n    .dataframe thead th {\n        text-align: right;\n    }\n</style>\n<table border=\"1\" class=\"dataframe\">\n  <thead>\n    <tr style=\"text-align: right;\">\n      <th></th>\n      <th>0</th>\n      <th>1</th>\n      <th>2</th>\n      <th>3</th>\n      <th>4</th>\n      <th>5</th>\n    </tr>\n  </thead>\n  <tbody>\n    <tr>\n      <th>summary</th>\n      <td>count</td>\n      <td>mean</td>\n      <td>50%</td>\n      <td>stddev</td>\n      <td>min</td>\n      <td>max</td>\n    </tr>\n    <tr>\n      <th>instance_num</th>\n      <td>1246728.0</td>\n      <td>18734.01</td>\n      <td>6579.0</td>\n      <td>23910.69</td>\n      <td>1.0</td>\n      <td>99583.0</td>\n    </tr>\n    <tr>\n      <th>task_type</th>\n      <td>1246728.0</td>\n      <td>1.61</td>\n      <td>1.0</td>\n      <td>2.15</td>\n      <td>1.0</td>\n      <td>12.0</td>\n    </tr>\n    <tr>\n      <th>plan_cpu</th>\n      <td>1246173.0</td>\n      <td>94.41</td>\n      <td>100.0</td>\n      <td>43.58</td>\n      <td>5.0</td>\n      <td>1000.0</td>\n    </tr>\n    <tr>\n      <th>plan_mem</th>\n      <td>1246173.0</td>\n      <td>0.37</td>\n      <td>0.3</td>\n      <td>0.26</td>\n      <td>0.02</td>\n      <td>17.17</td>\n    </tr>\n    <tr>\n      <th>seq_no</th>\n      <td>1246728.0</td>\n      <td>1.15</td>\n      <td>1.0</td>\n      <td>0.55</td>\n      <td>1.0</td>\n      <td>11.0</td>\n    </tr>\n    <tr>\n      <th>labels</th>\n      <td>1246728.0</td>\n      <td>0.51</td>\n      <td>1.0</td>\n      <td>0.5</td>\n      <td>0.0</td>\n      <td>1.0</td>\n    </tr>\n    <tr>\n      <th>sched_intv</th>\n      <td>1246268.0</td>\n      <td>845.7</td>\n      <td>1.0</td>\n      <td>8048.98</td>\n      <td>0.0</td>\n      <td>570959.0</td>\n    </tr>\n    <tr>\n      <th>job_exec</th>\n      <td>1245468.0</td>\n      <td>114417.86</td>\n      <td>54134.0</td>\n      <td>132744.1</td>\n      <td>1.0</td>\n      <td>566559.0</td>\n    </tr>\n  </tbody>\n</table>\n</div>"
     },
     "execution_count": 19,
     "metadata": {},
     "output_type": "execute_result"
    }
   ],
   "source": [
    "summary = batch_jobs_clean.select(columns).summary(\"count\", \"mean\", \"50%\", \"stddev\", \"min\", \"max\")\n",
    "# summary = batch_jobs_clean.select(summary_cols).summary(\"count\", \"mean\", \"50%\", \"stddev\", \"min\", \"max\")\n",
    "for c in columns:\n",
    "    summary = summary.withColumn(c, F.round(c, 2))\n",
    "summary = summary.toPandas().T\n",
    "summary"
   ],
   "metadata": {
    "collapsed": false,
    "pycharm": {
     "name": "#%%\n"
    }
   }
  },
  {
   "cell_type": "code",
   "execution_count": 20,
   "outputs": [
    {
     "name": "stdout",
     "output_type": "stream",
     "text": [
      "\\begin{tabular}{lllllll}\n",
      "\\toprule\n",
      "{} &          0 &          1 &        2 &         3 &     4 &         5 \\\\\n",
      "\\midrule\n",
      "summary      &      count &       mean &      50\\% &    stddev &   min &       max \\\\\n",
      "instance\\_num &  1246728.0 &   18734.01 &   6579.0 &  23910.69 &   1.0 &   99583.0 \\\\\n",
      "task\\_type    &  1246728.0 &       1.61 &      1.0 &      2.15 &   1.0 &      12.0 \\\\\n",
      "plan\\_cpu     &  1246173.0 &      94.41 &    100.0 &     43.58 &   5.0 &    1000.0 \\\\\n",
      "plan\\_mem     &  1246173.0 &       0.37 &      0.3 &      0.26 &  0.02 &     17.17 \\\\\n",
      "seq\\_no       &  1246728.0 &       1.15 &      1.0 &      0.55 &   1.0 &      11.0 \\\\\n",
      "labels       &  1246728.0 &       0.51 &      1.0 &       0.5 &   0.0 &       1.0 \\\\\n",
      "sched\\_intv   &  1246268.0 &      845.7 &      1.0 &   8048.98 &   0.0 &  570959.0 \\\\\n",
      "job\\_exec     &  1245468.0 &  114417.86 &  54134.0 &  132744.1 &   1.0 &  566559.0 \\\\\n",
      "\\bottomrule\n",
      "\\end{tabular}\n",
      "\n"
     ]
    }
   ],
   "source": [
    "print(summary.to_latex())"
   ],
   "metadata": {
    "collapsed": false,
    "pycharm": {
     "name": "#%%\n"
    }
   }
  },
  {
   "cell_type": "markdown",
   "source": [
    "## Investigate negative `task_duration`"
   ],
   "metadata": {
    "collapsed": false,
    "pycharm": {
     "name": "#%% md\n"
    }
   }
  },
  {
   "cell_type": "code",
   "execution_count": 21,
   "outputs": [],
   "source": [
    "neg_dur = batch_jobs_clean.filter(\n",
    "    (F.col(\"task_duration\") < 0) &\n",
    "    (F.col(\"task_id_num\").isNotNull())  # the majority is non-batch tasks, should they be included?\n",
    ")"
   ],
   "metadata": {
    "collapsed": false,
    "pycharm": {
     "name": "#%%\n"
    }
   }
  },
  {
   "cell_type": "code",
   "execution_count": 22,
   "outputs": [
    {
     "name": "stderr",
     "output_type": "stream",
     "text": [
      "                                                                                \r"
     ]
    },
    {
     "data": {
      "text/plain": "74"
     },
     "execution_count": 22,
     "metadata": {},
     "output_type": "execute_result"
    }
   ],
   "source": [
    "neg_dur.count()"
   ],
   "metadata": {
    "collapsed": false,
    "pycharm": {
     "name": "#%%\n"
    }
   }
  },
  {
   "cell_type": "code",
   "execution_count": 23,
   "outputs": [
    {
     "name": "stderr",
     "output_type": "stream",
     "text": [
      "                                                                                \r"
     ]
    },
    {
     "name": "stdout",
     "output_type": "stream",
     "text": [
      "+----------+-----+\n",
      "|    status|count|\n",
      "+----------+-----+\n",
      "|Terminated|   74|\n",
      "+----------+-----+\n",
      "\n"
     ]
    }
   ],
   "source": [
    "neg_dur.groupby(\"status\").count().show()"
   ],
   "metadata": {
    "collapsed": false,
    "pycharm": {
     "name": "#%%\n"
    }
   }
  },
  {
   "cell_type": "code",
   "execution_count": 10,
   "outputs": [
    {
     "name": "stderr",
     "output_type": "stream",
     "text": [
      "                                                                                \r"
     ]
    },
    {
     "data": {
      "text/plain": "0"
     },
     "execution_count": 10,
     "metadata": {},
     "output_type": "execute_result"
    }
   ],
   "source": [
    "neg_dur.filter(F.col(\"start_time\") < 0).count()"
   ],
   "metadata": {
    "collapsed": false,
    "pycharm": {
     "name": "#%%\n"
    }
   }
  },
  {
   "cell_type": "code",
   "execution_count": 25,
   "outputs": [
    {
     "name": "stdout",
     "output_type": "stream",
     "text": [
      "+---------+----------+----------+--------+-------------+\n",
      "| job_name|    status|start_time|end_time|task_duration|\n",
      "+---------+----------+----------+--------+-------------+\n",
      "| j_154465|Terminated|    425538|  425530|           -8|\n",
      "| j_154465|Terminated|    425538|  425530|           -8|\n",
      "| j_154465|Terminated|    425538|  425530|           -8|\n",
      "| j_154465|Terminated|    425538|  425530|           -8|\n",
      "| j_154465|Terminated|    425538|  425530|           -8|\n",
      "| j_154465|Terminated|    425538|  425530|           -8|\n",
      "| j_154465|Terminated|    425538|  425530|           -8|\n",
      "| j_731222|Terminated|    645086|  645085|           -1|\n",
      "|j_2482384|Terminated|    296578|  296576|           -2|\n",
      "|j_2482384|Terminated|    296578|  296576|           -2|\n",
      "+---------+----------+----------+--------+-------------+\n",
      "only showing top 10 rows\n",
      "\n"
     ]
    }
   ],
   "source": [
    "neg_dur.select(\"job_name\", \"status\", \"start_time\", \"end_time\", \"task_duration\").show(10)"
   ],
   "metadata": {
    "collapsed": false,
    "pycharm": {
     "name": "#%%\n"
    }
   }
  },
  {
   "cell_type": "markdown",
   "source": [
    "## Map and Reduce Distribution"
   ],
   "metadata": {
    "collapsed": false
   }
  },
  {
   "cell_type": "code",
   "execution_count": 26,
   "outputs": [
    {
     "name": "stderr",
     "output_type": "stream",
     "text": [
      "                                                                                \r"
     ]
    },
    {
     "name": "stdout",
     "output_type": "stream",
     "text": [
      "+----------+-------+\n",
      "|map_reduce|  count|\n",
      "+----------+-------+\n",
      "|         m|1131166|\n",
      "|         r| 115562|\n",
      "+----------+-------+\n",
      "\n"
     ]
    }
   ],
   "source": [
    "batch_jobs_clean.groupby(\"map_reduce\").count().show()"
   ],
   "metadata": {
    "collapsed": false,
    "pycharm": {
     "name": "#%%\n"
    }
   }
  },
  {
   "cell_type": "code",
   "execution_count": 27,
   "outputs": [
    {
     "name": "stdout",
     "output_type": "stream",
     "text": [
      "0.10216184008359516\n"
     ]
    }
   ],
   "source": [
    "mr_ratio = 115562 / 1131166\n",
    "print(mr_ratio)"
   ],
   "metadata": {
    "collapsed": false,
    "pycharm": {
     "name": "#%%\n"
    }
   }
  },
  {
   "cell_type": "markdown",
   "source": [
    "## Labels distribution"
   ],
   "metadata": {
    "collapsed": false
   }
  },
  {
   "cell_type": "code",
   "execution_count": 28,
   "outputs": [
    {
     "name": "stderr",
     "output_type": "stream",
     "text": [
      "                                                                                \r"
     ]
    },
    {
     "name": "stdout",
     "output_type": "stream",
     "text": [
      "+------+------+\n",
      "|labels| count|\n",
      "+------+------+\n",
      "|     1|639013|\n",
      "|     0|607715|\n",
      "+------+------+\n",
      "\n"
     ]
    }
   ],
   "source": [
    "# ratio of almost 1\n",
    "batch_jobs_clean.groupby(\"labels\").count().show()"
   ],
   "metadata": {
    "collapsed": false,
    "pycharm": {
     "name": "#%%\n"
    }
   }
  },
  {
   "cell_type": "code",
   "execution_count": 29,
   "outputs": [
    {
     "name": "stdout",
     "output_type": "stream",
     "text": [
      "0.0031589368159268883\n"
     ]
    }
   ],
   "source": [
    "# batch_jobs_clean_01inst_1task_05S_1F\n",
    "labels_ratio = 213090 / 67456240\n",
    "print(labels_ratio)"
   ],
   "metadata": {
    "collapsed": false,
    "pycharm": {
     "name": "#%%\n"
    }
   }
  },
  {
   "cell_type": "code",
   "execution_count": 30,
   "outputs": [
    {
     "name": "stdout",
     "output_type": "stream",
     "text": [
      "0.26358752140644026\n"
     ]
    }
   ],
   "source": [
    "# batch_jobs_clean_01inst_1task_0006S_1F\n",
    "labels_ratio = 213023 / 808168\n",
    "print(labels_ratio)"
   ],
   "metadata": {
    "collapsed": false,
    "pycharm": {
     "name": "#%%\n"
    }
   }
  },
  {
   "cell_type": "code",
   "execution_count": 31,
   "outputs": [
    {
     "name": "stdout",
     "output_type": "stream",
     "text": [
      "0.9510213407238977\n"
     ]
    }
   ],
   "source": [
    "# batch_jobs_clean_03inst_1task_00015S_1F\n",
    "labels_ratio = 607715 / 639013\n",
    "print(labels_ratio)"
   ],
   "metadata": {
    "collapsed": false,
    "pycharm": {
     "name": "#%%\n"
    }
   }
  },
  {
   "cell_type": "code",
   "execution_count": 32,
   "outputs": [
    {
     "name": "stderr",
     "output_type": "stream",
     "text": [
      "                                                                                \r"
     ]
    },
    {
     "name": "stdout",
     "output_type": "stream",
     "text": [
      "+----------+------+\n",
      "|    status| count|\n",
      "+----------+------+\n",
      "|Terminated|686431|\n",
      "|   Running| 58512|\n",
      "|    Failed|501785|\n",
      "+----------+------+\n",
      "\n"
     ]
    }
   ],
   "source": [
    "batch_jobs_clean.groupby(\"status\").count().show()\n"
   ],
   "metadata": {
    "collapsed": false,
    "pycharm": {
     "name": "#%%\n"
    }
   }
  },
  {
   "cell_type": "code",
   "execution_count": 33,
   "outputs": [
    {
     "name": "stderr",
     "output_type": "stream",
     "text": [
      "                                                                                \r"
     ]
    },
    {
     "name": "stdout",
     "output_type": "stream",
     "text": [
      "+---------------+------+\n",
      "|instance_status| count|\n",
      "+---------------+------+\n",
      "|     Terminated|602546|\n",
      "|          Ready|     1|\n",
      "|        Running|  5117|\n",
      "|         Failed|639013|\n",
      "|    Interrupted|    51|\n",
      "+---------------+------+\n",
      "\n"
     ]
    }
   ],
   "source": [
    "batch_jobs_clean.groupby(\"instance_status\").count().show()"
   ],
   "metadata": {
    "collapsed": false,
    "pycharm": {
     "name": "#%%\n"
    }
   }
  },
  {
   "cell_type": "code",
   "execution_count": 34,
   "outputs": [
    {
     "name": "stderr",
     "output_type": "stream",
     "text": [
      "                                                                                \r"
     ]
    },
    {
     "name": "stdout",
     "output_type": "stream",
     "text": [
      "+---------------+------+------+\n",
      "|instance_status|labels| count|\n",
      "+---------------+------+------+\n",
      "|          Ready|     0|     1|\n",
      "|    Interrupted|     0|    51|\n",
      "|     Terminated|     0|602546|\n",
      "|         Failed|     1|639013|\n",
      "|        Running|     0|  5117|\n",
      "+---------------+------+------+\n",
      "\n"
     ]
    }
   ],
   "source": [
    "batch_jobs_clean.groupby(\"instance_status\", \"labels\").count().show()"
   ],
   "metadata": {
    "collapsed": false,
    "pycharm": {
     "name": "#%%\n"
    }
   }
  },
  {
   "cell_type": "markdown",
   "source": [
    "## Maximum number of categories per categorical features"
   ],
   "metadata": {
    "collapsed": false
   }
  },
  {
   "cell_type": "code",
   "execution_count": 36,
   "outputs": [
    {
     "ename": "AttributeError",
     "evalue": "'NoneType' object has no attribute '_jvm'",
     "output_type": "error",
     "traceback": [
      "\u001B[0;31m---------------------------------------------------------------------------\u001B[0m",
      "\u001B[0;31mAttributeError\u001B[0m                            Traceback (most recent call last)",
      "\u001B[0;32m/tmp/ipykernel_7746/3600433395.py\u001B[0m in \u001B[0;36m<module>\u001B[0;34m\u001B[0m\n\u001B[1;32m      1\u001B[0m \u001B[0mcateg_feat\u001B[0m \u001B[0;34m=\u001B[0m \u001B[0;34m[\u001B[0m\u001B[0;34m\"map_reduce\"\u001B[0m\u001B[0;34m,\u001B[0m \u001B[0;34m\"logical_job_name\"\u001B[0m\u001B[0;34m]\u001B[0m\u001B[0;34m\u001B[0m\u001B[0;34m\u001B[0m\u001B[0m\n\u001B[0;32m----> 2\u001B[0;31m \u001B[0mbatch_jobs_clean\u001B[0m\u001B[0;34m.\u001B[0m\u001B[0mselect\u001B[0m\u001B[0;34m(\u001B[0m\u001B[0mF\u001B[0m\u001B[0;34m.\u001B[0m\u001B[0mapprox_count_distinct\u001B[0m\u001B[0;34m(\u001B[0m\u001B[0;34m\"map_reduce\"\u001B[0m\u001B[0;34m)\u001B[0m\u001B[0;34m.\u001B[0m\u001B[0malias\u001B[0m\u001B[0;34m(\u001B[0m\u001B[0;34m\"dist_mr\"\u001B[0m\u001B[0;34m)\u001B[0m\u001B[0;34m,\u001B[0m \u001B[0mF\u001B[0m\u001B[0;34m.\u001B[0m\u001B[0mapprox_count_distinct\u001B[0m\u001B[0;34m(\u001B[0m\u001B[0;34m\"logical_job_name\"\u001B[0m\u001B[0;34m)\u001B[0m\u001B[0;34m.\u001B[0m\u001B[0malias\u001B[0m\u001B[0;34m(\u001B[0m\u001B[0;34m\"dist_ljn\"\u001B[0m\u001B[0;34m)\u001B[0m\u001B[0;34m)\u001B[0m\u001B[0;34m.\u001B[0m\u001B[0mshow\u001B[0m\u001B[0;34m(\u001B[0m\u001B[0;34m)\u001B[0m\u001B[0;34m\u001B[0m\u001B[0;34m\u001B[0m\u001B[0m\n\u001B[0m",
      "\u001B[0;32m~/.local/lib/python3.8/site-packages/pyspark/sql/functions.py\u001B[0m in \u001B[0;36mapprox_count_distinct\u001B[0;34m(col, rsd)\u001B[0m\n\u001B[1;32m    818\u001B[0m     \u001B[0msc\u001B[0m \u001B[0;34m=\u001B[0m \u001B[0mSparkContext\u001B[0m\u001B[0;34m.\u001B[0m\u001B[0m_active_spark_context\u001B[0m\u001B[0;34m\u001B[0m\u001B[0;34m\u001B[0m\u001B[0m\n\u001B[1;32m    819\u001B[0m     \u001B[0;32mif\u001B[0m \u001B[0mrsd\u001B[0m \u001B[0;32mis\u001B[0m \u001B[0;32mNone\u001B[0m\u001B[0;34m:\u001B[0m\u001B[0;34m\u001B[0m\u001B[0;34m\u001B[0m\u001B[0m\n\u001B[0;32m--> 820\u001B[0;31m         \u001B[0mjc\u001B[0m \u001B[0;34m=\u001B[0m \u001B[0msc\u001B[0m\u001B[0;34m.\u001B[0m\u001B[0m_jvm\u001B[0m\u001B[0;34m.\u001B[0m\u001B[0mfunctions\u001B[0m\u001B[0;34m.\u001B[0m\u001B[0mapprox_count_distinct\u001B[0m\u001B[0;34m(\u001B[0m\u001B[0m_to_java_column\u001B[0m\u001B[0;34m(\u001B[0m\u001B[0mcol\u001B[0m\u001B[0;34m)\u001B[0m\u001B[0;34m)\u001B[0m\u001B[0;34m\u001B[0m\u001B[0;34m\u001B[0m\u001B[0m\n\u001B[0m\u001B[1;32m    821\u001B[0m     \u001B[0;32melse\u001B[0m\u001B[0;34m:\u001B[0m\u001B[0;34m\u001B[0m\u001B[0;34m\u001B[0m\u001B[0m\n\u001B[1;32m    822\u001B[0m         \u001B[0mjc\u001B[0m \u001B[0;34m=\u001B[0m \u001B[0msc\u001B[0m\u001B[0;34m.\u001B[0m\u001B[0m_jvm\u001B[0m\u001B[0;34m.\u001B[0m\u001B[0mfunctions\u001B[0m\u001B[0;34m.\u001B[0m\u001B[0mapprox_count_distinct\u001B[0m\u001B[0;34m(\u001B[0m\u001B[0m_to_java_column\u001B[0m\u001B[0;34m(\u001B[0m\u001B[0mcol\u001B[0m\u001B[0;34m)\u001B[0m\u001B[0;34m,\u001B[0m \u001B[0mrsd\u001B[0m\u001B[0;34m)\u001B[0m\u001B[0;34m\u001B[0m\u001B[0;34m\u001B[0m\u001B[0m\n",
      "\u001B[0;31mAttributeError\u001B[0m: 'NoneType' object has no attribute '_jvm'"
     ]
    }
   ],
   "source": [
    "categ_feat = [\"map_reduce\", \"logical_job_name\"]\n",
    "batch_jobs_clean.select(F.approx_count_distinct(\"map_reduce\").alias(\"dist_mr\"), F.approx_count_distinct(\"logical_job_name\").alias(\"dist_ljn\")).show()"
   ],
   "metadata": {
    "collapsed": false,
    "pycharm": {
     "name": "#%%\n"
    }
   }
  },
  {
   "cell_type": "code",
   "execution_count": 35,
   "outputs": [],
   "source": [
    "spark_session.sparkContext.stop()"
   ],
   "metadata": {
    "collapsed": false,
    "pycharm": {
     "name": "#%%\n"
    }
   }
  },
  {
   "cell_type": "code",
   "execution_count": null,
   "outputs": [],
   "source": [],
   "metadata": {
    "collapsed": false,
    "pycharm": {
     "name": "#%%\n"
    }
   }
  }
 ],
 "metadata": {
  "kernelspec": {
   "display_name": "Python 3",
   "language": "python",
   "name": "python3"
  },
  "language_info": {
   "codemirror_mode": {
    "name": "ipython",
    "version": 2
   },
   "file_extension": ".py",
   "mimetype": "text/x-python",
   "name": "python",
   "nbconvert_exporter": "python",
   "pygments_lexer": "ipython2",
   "version": "2.7.6"
  }
 },
 "nbformat": 4,
 "nbformat_minor": 0
}